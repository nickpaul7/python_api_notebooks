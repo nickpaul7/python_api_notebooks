{
 "cells": [
  {
   "cell_type": "markdown",
   "metadata": {},
   "source": [
    "# NHL API\n",
    "\n",
    "In this tutorial we will use the NHL API to practice pulling data from an API and formatting for a downstream process.\n",
    "\n",
    "The NHL API appears to be undocumented but I used the link below, which covers most of the functionality.\n",
    "\n",
    "https://gitlab.com/dword4/nhlapi\n",
    "\n",
    "Before we get started let's load the following libraries."
   ]
  },
  {
   "cell_type": "code",
   "execution_count": 209,
   "metadata": {},
   "outputs": [],
   "source": [
    "import requests\n",
    "import json\n",
    "import pandas as pd"
   ]
  },
  {
   "cell_type": "markdown",
   "metadata": {},
   "source": [
    "## Get Team Info\n",
    "\n",
    "The first endpoint we will work with will give us infomation about the team:\n",
    "\n",
    "https://statsapi.web.nhl.com/api/v1/teams\n",
    "\n",
    "### Get Request"
   ]
  },
  {
   "cell_type": "code",
   "execution_count": 210,
   "metadata": {},
   "outputs": [],
   "source": [
    "teams_url = \"https://statsapi.web.nhl.com/api/v1/teams\"\n",
    "\n",
    "team_response = requests.get(teams_url)\n"
   ]
  },
  {
   "cell_type": "code",
   "execution_count": 211,
   "metadata": {
    "scrolled": true
   },
   "outputs": [
    {
     "name": "stdout",
     "output_type": "stream",
     "text": [
      "200\n"
     ]
    }
   ],
   "source": [
    "# check that reponse is valid\n",
    "print(team_response.status_code)"
   ]
  },
  {
   "cell_type": "markdown",
   "metadata": {},
   "source": [
    "### API Status Code\n",
    "200: Everything went okay, and the result has been returned (if any). <br>\n",
    "301: The server is redirecting you to a different endpoint. This can happen when a company switches domain names, or an endpoint name is changed. <br>\n",
    "400: The server thinks you made a bad request. This can happen when you don’t send along the right data, among other things.<br>\n",
    "401: The server thinks you’re not authenticated. Many APIs require login ccredentials, so this happens when you don’t send the right credentials to access an API. <br>\n",
    "403: The resource you’re trying to access is forbidden: you don’t have the right permissions to see it.<br>\n",
    "404: The resource you tried to access wasn’t found on the server. <br>\n",
    "503: The server is not ready to handle the request. <br>"
   ]
  },
  {
   "cell_type": "markdown",
   "metadata": {},
   "source": [
    "With 200 respone code we are good to start looking at the conent.\n",
    "\n",
    "### Pull out the content"
   ]
  },
  {
   "cell_type": "markdown",
   "metadata": {},
   "source": [
    "To get the conents of our reposne object, we can use two methods:\n",
    "1. .content with json.loads\n",
    "1. .json()"
   ]
  },
  {
   "cell_type": "code",
   "execution_count": 212,
   "metadata": {},
   "outputs": [
    {
     "data": {
      "text/plain": [
       "dict"
      ]
     },
     "execution_count": 212,
     "metadata": {},
     "output_type": "execute_result"
    }
   ],
   "source": [
    "# convert the content into a python dictionary\n",
    "team_content = json.loads(team_response.content)\n",
    "type(team_content)"
   ]
  },
  {
   "cell_type": "code",
   "execution_count": 213,
   "metadata": {},
   "outputs": [
    {
     "data": {
      "text/plain": [
       "dict_keys(['copyright', 'teams'])"
      ]
     },
     "execution_count": 213,
     "metadata": {},
     "output_type": "execute_result"
    }
   ],
   "source": [
    "team_content.keys()"
   ]
  },
  {
   "cell_type": "markdown",
   "metadata": {},
   "source": [
    "We can now access the contents of the data using dictionary actions."
   ]
  },
  {
   "cell_type": "code",
   "execution_count": 214,
   "metadata": {},
   "outputs": [
    {
     "data": {
      "text/plain": [
       "{'id': 1,\n",
       " 'name': 'New Jersey Devils',\n",
       " 'link': '/api/v1/teams/1',\n",
       " 'venue': {'name': 'Prudential Center',\n",
       "  'link': '/api/v1/venues/null',\n",
       "  'city': 'Newark',\n",
       "  'timeZone': {'id': 'America/New_York', 'offset': -5, 'tz': 'EST'}},\n",
       " 'abbreviation': 'NJD',\n",
       " 'teamName': 'Devils',\n",
       " 'locationName': 'New Jersey',\n",
       " 'firstYearOfPlay': '1982',\n",
       " 'division': {'id': 18,\n",
       "  'name': 'Metropolitan',\n",
       "  'nameShort': 'Metro',\n",
       "  'link': '/api/v1/divisions/18',\n",
       "  'abbreviation': 'M'},\n",
       " 'conference': {'id': 6, 'name': 'Eastern', 'link': '/api/v1/conferences/6'},\n",
       " 'franchise': {'franchiseId': 23,\n",
       "  'teamName': 'Devils',\n",
       "  'link': '/api/v1/franchises/23'},\n",
       " 'shortName': 'New Jersey',\n",
       " 'officialSiteUrl': 'http://www.newjerseydevils.com/',\n",
       " 'franchiseId': 23,\n",
       " 'active': True}"
      ]
     },
     "execution_count": 214,
     "metadata": {},
     "output_type": "execute_result"
    }
   ],
   "source": [
    "team_content['teams'][0]"
   ]
  },
  {
   "cell_type": "code",
   "execution_count": 215,
   "metadata": {},
   "outputs": [
    {
     "data": {
      "text/plain": [
       "True"
      ]
     },
     "execution_count": 215,
     "metadata": {},
     "output_type": "execute_result"
    }
   ],
   "source": [
    "team_response.json() == json.loads(team_response.content)"
   ]
  },
  {
   "cell_type": "markdown",
   "metadata": {},
   "source": [
    "### Convert the content to a DataFrame"
   ]
  },
  {
   "cell_type": "code",
   "execution_count": 216,
   "metadata": {},
   "outputs": [
    {
     "data": {
      "text/html": [
       "<div>\n",
       "<style scoped>\n",
       "    .dataframe tbody tr th:only-of-type {\n",
       "        vertical-align: middle;\n",
       "    }\n",
       "\n",
       "    .dataframe tbody tr th {\n",
       "        vertical-align: top;\n",
       "    }\n",
       "\n",
       "    .dataframe thead th {\n",
       "        text-align: right;\n",
       "    }\n",
       "</style>\n",
       "<table border=\"1\" class=\"dataframe\">\n",
       "  <thead>\n",
       "    <tr style=\"text-align: right;\">\n",
       "      <th></th>\n",
       "      <th>id</th>\n",
       "      <th>name</th>\n",
       "      <th>link</th>\n",
       "      <th>venue</th>\n",
       "      <th>abbreviation</th>\n",
       "      <th>teamName</th>\n",
       "      <th>locationName</th>\n",
       "      <th>firstYearOfPlay</th>\n",
       "      <th>division</th>\n",
       "      <th>conference</th>\n",
       "      <th>franchise</th>\n",
       "      <th>shortName</th>\n",
       "      <th>officialSiteUrl</th>\n",
       "      <th>franchiseId</th>\n",
       "      <th>active</th>\n",
       "    </tr>\n",
       "  </thead>\n",
       "  <tbody>\n",
       "    <tr>\n",
       "      <th>0</th>\n",
       "      <td>1</td>\n",
       "      <td>New Jersey Devils</td>\n",
       "      <td>/api/v1/teams/1</td>\n",
       "      <td>{'name': 'Prudential Center', 'link': '/api/v1...</td>\n",
       "      <td>NJD</td>\n",
       "      <td>Devils</td>\n",
       "      <td>New Jersey</td>\n",
       "      <td>1982</td>\n",
       "      <td>{'id': 18, 'name': 'Metropolitan', 'nameShort'...</td>\n",
       "      <td>{'id': 6, 'name': 'Eastern', 'link': '/api/v1/...</td>\n",
       "      <td>{'franchiseId': 23, 'teamName': 'Devils', 'lin...</td>\n",
       "      <td>New Jersey</td>\n",
       "      <td>http://www.newjerseydevils.com/</td>\n",
       "      <td>23</td>\n",
       "      <td>True</td>\n",
       "    </tr>\n",
       "    <tr>\n",
       "      <th>1</th>\n",
       "      <td>2</td>\n",
       "      <td>New York Islanders</td>\n",
       "      <td>/api/v1/teams/2</td>\n",
       "      <td>{'id': 5026, 'name': 'Barclays Center', 'link'...</td>\n",
       "      <td>NYI</td>\n",
       "      <td>Islanders</td>\n",
       "      <td>New York</td>\n",
       "      <td>1972</td>\n",
       "      <td>{'id': 18, 'name': 'Metropolitan', 'nameShort'...</td>\n",
       "      <td>{'id': 6, 'name': 'Eastern', 'link': '/api/v1/...</td>\n",
       "      <td>{'franchiseId': 22, 'teamName': 'Islanders', '...</td>\n",
       "      <td>NY Islanders</td>\n",
       "      <td>http://www.newyorkislanders.com/</td>\n",
       "      <td>22</td>\n",
       "      <td>True</td>\n",
       "    </tr>\n",
       "    <tr>\n",
       "      <th>2</th>\n",
       "      <td>3</td>\n",
       "      <td>New York Rangers</td>\n",
       "      <td>/api/v1/teams/3</td>\n",
       "      <td>{'id': 5054, 'name': 'Madison Square Garden', ...</td>\n",
       "      <td>NYR</td>\n",
       "      <td>Rangers</td>\n",
       "      <td>New York</td>\n",
       "      <td>1926</td>\n",
       "      <td>{'id': 18, 'name': 'Metropolitan', 'nameShort'...</td>\n",
       "      <td>{'id': 6, 'name': 'Eastern', 'link': '/api/v1/...</td>\n",
       "      <td>{'franchiseId': 10, 'teamName': 'Rangers', 'li...</td>\n",
       "      <td>NY Rangers</td>\n",
       "      <td>http://www.newyorkrangers.com/</td>\n",
       "      <td>10</td>\n",
       "      <td>True</td>\n",
       "    </tr>\n",
       "    <tr>\n",
       "      <th>3</th>\n",
       "      <td>4</td>\n",
       "      <td>Philadelphia Flyers</td>\n",
       "      <td>/api/v1/teams/4</td>\n",
       "      <td>{'id': 5096, 'name': 'Wells Fargo Center', 'li...</td>\n",
       "      <td>PHI</td>\n",
       "      <td>Flyers</td>\n",
       "      <td>Philadelphia</td>\n",
       "      <td>1967</td>\n",
       "      <td>{'id': 18, 'name': 'Metropolitan', 'nameShort'...</td>\n",
       "      <td>{'id': 6, 'name': 'Eastern', 'link': '/api/v1/...</td>\n",
       "      <td>{'franchiseId': 16, 'teamName': 'Flyers', 'lin...</td>\n",
       "      <td>Philadelphia</td>\n",
       "      <td>http://www.philadelphiaflyers.com/</td>\n",
       "      <td>16</td>\n",
       "      <td>True</td>\n",
       "    </tr>\n",
       "    <tr>\n",
       "      <th>4</th>\n",
       "      <td>5</td>\n",
       "      <td>Pittsburgh Penguins</td>\n",
       "      <td>/api/v1/teams/5</td>\n",
       "      <td>{'id': 5034, 'name': 'PPG Paints Arena', 'link...</td>\n",
       "      <td>PIT</td>\n",
       "      <td>Penguins</td>\n",
       "      <td>Pittsburgh</td>\n",
       "      <td>1967</td>\n",
       "      <td>{'id': 18, 'name': 'Metropolitan', 'nameShort'...</td>\n",
       "      <td>{'id': 6, 'name': 'Eastern', 'link': '/api/v1/...</td>\n",
       "      <td>{'franchiseId': 17, 'teamName': 'Penguins', 'l...</td>\n",
       "      <td>Pittsburgh</td>\n",
       "      <td>http://pittsburghpenguins.com/</td>\n",
       "      <td>17</td>\n",
       "      <td>True</td>\n",
       "    </tr>\n",
       "  </tbody>\n",
       "</table>\n",
       "</div>"
      ],
      "text/plain": [
       "   id                 name             link  \\\n",
       "0   1    New Jersey Devils  /api/v1/teams/1   \n",
       "1   2   New York Islanders  /api/v1/teams/2   \n",
       "2   3     New York Rangers  /api/v1/teams/3   \n",
       "3   4  Philadelphia Flyers  /api/v1/teams/4   \n",
       "4   5  Pittsburgh Penguins  /api/v1/teams/5   \n",
       "\n",
       "                                               venue abbreviation   teamName  \\\n",
       "0  {'name': 'Prudential Center', 'link': '/api/v1...          NJD     Devils   \n",
       "1  {'id': 5026, 'name': 'Barclays Center', 'link'...          NYI  Islanders   \n",
       "2  {'id': 5054, 'name': 'Madison Square Garden', ...          NYR    Rangers   \n",
       "3  {'id': 5096, 'name': 'Wells Fargo Center', 'li...          PHI     Flyers   \n",
       "4  {'id': 5034, 'name': 'PPG Paints Arena', 'link...          PIT   Penguins   \n",
       "\n",
       "   locationName firstYearOfPlay  \\\n",
       "0    New Jersey            1982   \n",
       "1      New York            1972   \n",
       "2      New York            1926   \n",
       "3  Philadelphia            1967   \n",
       "4    Pittsburgh            1967   \n",
       "\n",
       "                                            division  \\\n",
       "0  {'id': 18, 'name': 'Metropolitan', 'nameShort'...   \n",
       "1  {'id': 18, 'name': 'Metropolitan', 'nameShort'...   \n",
       "2  {'id': 18, 'name': 'Metropolitan', 'nameShort'...   \n",
       "3  {'id': 18, 'name': 'Metropolitan', 'nameShort'...   \n",
       "4  {'id': 18, 'name': 'Metropolitan', 'nameShort'...   \n",
       "\n",
       "                                          conference  \\\n",
       "0  {'id': 6, 'name': 'Eastern', 'link': '/api/v1/...   \n",
       "1  {'id': 6, 'name': 'Eastern', 'link': '/api/v1/...   \n",
       "2  {'id': 6, 'name': 'Eastern', 'link': '/api/v1/...   \n",
       "3  {'id': 6, 'name': 'Eastern', 'link': '/api/v1/...   \n",
       "4  {'id': 6, 'name': 'Eastern', 'link': '/api/v1/...   \n",
       "\n",
       "                                           franchise     shortName  \\\n",
       "0  {'franchiseId': 23, 'teamName': 'Devils', 'lin...    New Jersey   \n",
       "1  {'franchiseId': 22, 'teamName': 'Islanders', '...  NY Islanders   \n",
       "2  {'franchiseId': 10, 'teamName': 'Rangers', 'li...    NY Rangers   \n",
       "3  {'franchiseId': 16, 'teamName': 'Flyers', 'lin...  Philadelphia   \n",
       "4  {'franchiseId': 17, 'teamName': 'Penguins', 'l...    Pittsburgh   \n",
       "\n",
       "                      officialSiteUrl  franchiseId  active  \n",
       "0     http://www.newjerseydevils.com/           23    True  \n",
       "1    http://www.newyorkislanders.com/           22    True  \n",
       "2      http://www.newyorkrangers.com/           10    True  \n",
       "3  http://www.philadelphiaflyers.com/           16    True  \n",
       "4      http://pittsburghpenguins.com/           17    True  "
      ]
     },
     "execution_count": 216,
     "metadata": {},
     "output_type": "execute_result"
    }
   ],
   "source": [
    "#convert the dictionary into a dataframe\n",
    "df_team_content = pd.DataFrame(team_content['teams'])\n",
    "df_team_content.head()\n",
    "#df_team_content.info()"
   ]
  },
  {
   "cell_type": "code",
   "execution_count": 217,
   "metadata": {},
   "outputs": [
    {
     "name": "stdout",
     "output_type": "stream",
     "text": [
      "<class 'pandas.core.frame.DataFrame'>\n",
      "RangeIndex: 31 entries, 0 to 30\n",
      "Data columns (total 15 columns):\n",
      " #   Column           Non-Null Count  Dtype  \n",
      "---  ------           --------------  -----  \n",
      " 0   id               31 non-null     Int64  \n",
      " 1   name             31 non-null     string \n",
      " 2   link             31 non-null     string \n",
      " 3   venue            31 non-null     object \n",
      " 4   abbreviation     31 non-null     string \n",
      " 5   teamName         31 non-null     string \n",
      " 6   locationName     31 non-null     string \n",
      " 7   firstYearOfPlay  31 non-null     string \n",
      " 8   division         31 non-null     object \n",
      " 9   conference       31 non-null     object \n",
      " 10  franchise        31 non-null     object \n",
      " 11  shortName        31 non-null     string \n",
      " 12  officialSiteUrl  31 non-null     string \n",
      " 13  franchiseId      31 non-null     Int64  \n",
      " 14  active           31 non-null     boolean\n",
      "dtypes: Int64(2), boolean(1), object(4), string(8)\n",
      "memory usage: 3.6+ KB\n"
     ]
    }
   ],
   "source": [
    "#convert the types of most columns in the dataframe\n",
    "df_team_content2 = df_team_content.convert_dtypes()\n",
    "df_team_content2.info()"
   ]
  },
  {
   "cell_type": "code",
   "execution_count": 218,
   "metadata": {
    "scrolled": true
   },
   "outputs": [
    {
     "data": {
      "text/html": [
       "<div>\n",
       "<style scoped>\n",
       "    .dataframe tbody tr th:only-of-type {\n",
       "        vertical-align: middle;\n",
       "    }\n",
       "\n",
       "    .dataframe tbody tr th {\n",
       "        vertical-align: top;\n",
       "    }\n",
       "\n",
       "    .dataframe thead th {\n",
       "        text-align: right;\n",
       "    }\n",
       "</style>\n",
       "<table border=\"1\" class=\"dataframe\">\n",
       "  <thead>\n",
       "    <tr style=\"text-align: right;\">\n",
       "      <th></th>\n",
       "      <th>id</th>\n",
       "      <th>name</th>\n",
       "      <th>link</th>\n",
       "      <th>venue</th>\n",
       "      <th>abbreviation</th>\n",
       "      <th>teamName</th>\n",
       "      <th>locationName</th>\n",
       "      <th>firstYearOfPlay</th>\n",
       "      <th>division</th>\n",
       "      <th>conference</th>\n",
       "      <th>franchise</th>\n",
       "      <th>shortName</th>\n",
       "      <th>officialSiteUrl</th>\n",
       "      <th>franchiseId</th>\n",
       "      <th>active</th>\n",
       "    </tr>\n",
       "  </thead>\n",
       "  <tbody>\n",
       "    <tr>\n",
       "      <th>2</th>\n",
       "      <td>3</td>\n",
       "      <td>New York Rangers</td>\n",
       "      <td>/api/v1/teams/3</td>\n",
       "      <td>{'id': 5054, 'name': 'Madison Square Garden', ...</td>\n",
       "      <td>NYR</td>\n",
       "      <td>Rangers</td>\n",
       "      <td>New York</td>\n",
       "      <td>1926</td>\n",
       "      <td>{'id': 18, 'name': 'Metropolitan', 'nameShort'...</td>\n",
       "      <td>{'id': 6, 'name': 'Eastern', 'link': '/api/v1/...</td>\n",
       "      <td>{'franchiseId': 10, 'teamName': 'Rangers', 'li...</td>\n",
       "      <td>NY Rangers</td>\n",
       "      <td>http://www.newyorkrangers.com/</td>\n",
       "      <td>10</td>\n",
       "      <td>True</td>\n",
       "    </tr>\n",
       "  </tbody>\n",
       "</table>\n",
       "</div>"
      ],
      "text/plain": [
       "   id              name             link  \\\n",
       "2   3  New York Rangers  /api/v1/teams/3   \n",
       "\n",
       "                                               venue abbreviation teamName  \\\n",
       "2  {'id': 5054, 'name': 'Madison Square Garden', ...          NYR  Rangers   \n",
       "\n",
       "  locationName firstYearOfPlay  \\\n",
       "2     New York            1926   \n",
       "\n",
       "                                            division  \\\n",
       "2  {'id': 18, 'name': 'Metropolitan', 'nameShort'...   \n",
       "\n",
       "                                          conference  \\\n",
       "2  {'id': 6, 'name': 'Eastern', 'link': '/api/v1/...   \n",
       "\n",
       "                                           franchise   shortName  \\\n",
       "2  {'franchiseId': 10, 'teamName': 'Rangers', 'li...  NY Rangers   \n",
       "\n",
       "                  officialSiteUrl  franchiseId  active  \n",
       "2  http://www.newyorkrangers.com/           10    True  "
      ]
     },
     "execution_count": 218,
     "metadata": {},
     "output_type": "execute_result"
    }
   ],
   "source": [
    "# find the rangers info\n",
    "df_team_content2.query(\"teamName == 'Rangers'\")"
   ]
  },
  {
   "cell_type": "markdown",
   "metadata": {},
   "source": [
    "### json_normalize for DataFrame Conversion"
   ]
  },
  {
   "cell_type": "markdown",
   "metadata": {},
   "source": [
    "Instead of placing the dicitonary in the DataFame function, we could also use the json_normalize function."
   ]
  },
  {
   "cell_type": "code",
   "execution_count": 219,
   "metadata": {},
   "outputs": [
    {
     "name": "stdout",
     "output_type": "stream",
     "text": [
      "<class 'pandas.core.frame.DataFrame'>\n",
      "RangeIndex: 31 entries, 0 to 30\n",
      "Data columns (total 29 columns):\n",
      " #   Column                 Non-Null Count  Dtype  \n",
      "---  ------                 --------------  -----  \n",
      " 0   id                     31 non-null     int64  \n",
      " 1   name                   31 non-null     object \n",
      " 2   link                   31 non-null     object \n",
      " 3   abbreviation           31 non-null     object \n",
      " 4   teamName               31 non-null     object \n",
      " 5   locationName           31 non-null     object \n",
      " 6   firstYearOfPlay        31 non-null     object \n",
      " 7   shortName              31 non-null     object \n",
      " 8   officialSiteUrl        31 non-null     object \n",
      " 9   franchiseId            31 non-null     int64  \n",
      " 10  active                 31 non-null     bool   \n",
      " 11  venue.name             31 non-null     object \n",
      " 12  venue.link             31 non-null     object \n",
      " 13  venue.city             31 non-null     object \n",
      " 14  venue.timeZone.id      31 non-null     object \n",
      " 15  venue.timeZone.offset  31 non-null     int64  \n",
      " 16  venue.timeZone.tz      31 non-null     object \n",
      " 17  division.id            31 non-null     int64  \n",
      " 18  division.name          31 non-null     object \n",
      " 19  division.nameShort     31 non-null     object \n",
      " 20  division.link          31 non-null     object \n",
      " 21  division.abbreviation  31 non-null     object \n",
      " 22  conference.id          31 non-null     int64  \n",
      " 23  conference.name        31 non-null     object \n",
      " 24  conference.link        31 non-null     object \n",
      " 25  franchise.franchiseId  31 non-null     int64  \n",
      " 26  franchise.teamName     31 non-null     object \n",
      " 27  franchise.link         31 non-null     object \n",
      " 28  venue.id               27 non-null     float64\n",
      "dtypes: bool(1), float64(1), int64(6), object(21)\n",
      "memory usage: 6.9+ KB\n"
     ]
    }
   ],
   "source": [
    "df_team_content_jn = pd.json_normalize(team_content['teams'])\n",
    "df_team_content_jn.info()"
   ]
  },
  {
   "cell_type": "markdown",
   "metadata": {},
   "source": [
    "Notice that the `json_normalize()` method flattend nested dictionaries by concatenating the keys."
   ]
  },
  {
   "cell_type": "code",
   "execution_count": 220,
   "metadata": {},
   "outputs": [
    {
     "data": {
      "text/html": [
       "<div>\n",
       "<style scoped>\n",
       "    .dataframe tbody tr th:only-of-type {\n",
       "        vertical-align: middle;\n",
       "    }\n",
       "\n",
       "    .dataframe tbody tr th {\n",
       "        vertical-align: top;\n",
       "    }\n",
       "\n",
       "    .dataframe thead th {\n",
       "        text-align: right;\n",
       "    }\n",
       "</style>\n",
       "<table border=\"1\" class=\"dataframe\">\n",
       "  <thead>\n",
       "    <tr style=\"text-align: right;\">\n",
       "      <th></th>\n",
       "      <th>id</th>\n",
       "      <th>name</th>\n",
       "      <th>link</th>\n",
       "      <th>abbreviation</th>\n",
       "      <th>teamName</th>\n",
       "      <th>locationName</th>\n",
       "      <th>firstYearOfPlay</th>\n",
       "      <th>shortName</th>\n",
       "      <th>officialSiteUrl</th>\n",
       "      <th>franchiseId</th>\n",
       "      <th>...</th>\n",
       "      <th>division.nameShort</th>\n",
       "      <th>division.link</th>\n",
       "      <th>division.abbreviation</th>\n",
       "      <th>conference.id</th>\n",
       "      <th>conference.name</th>\n",
       "      <th>conference.link</th>\n",
       "      <th>franchise.franchiseId</th>\n",
       "      <th>franchise.teamName</th>\n",
       "      <th>franchise.link</th>\n",
       "      <th>venue.id</th>\n",
       "    </tr>\n",
       "  </thead>\n",
       "  <tbody>\n",
       "    <tr>\n",
       "      <th>0</th>\n",
       "      <td>1</td>\n",
       "      <td>New Jersey Devils</td>\n",
       "      <td>/api/v1/teams/1</td>\n",
       "      <td>NJD</td>\n",
       "      <td>Devils</td>\n",
       "      <td>New Jersey</td>\n",
       "      <td>1982</td>\n",
       "      <td>New Jersey</td>\n",
       "      <td>http://www.newjerseydevils.com/</td>\n",
       "      <td>23</td>\n",
       "      <td>...</td>\n",
       "      <td>Metro</td>\n",
       "      <td>/api/v1/divisions/18</td>\n",
       "      <td>M</td>\n",
       "      <td>6</td>\n",
       "      <td>Eastern</td>\n",
       "      <td>/api/v1/conferences/6</td>\n",
       "      <td>23</td>\n",
       "      <td>Devils</td>\n",
       "      <td>/api/v1/franchises/23</td>\n",
       "      <td>NaN</td>\n",
       "    </tr>\n",
       "    <tr>\n",
       "      <th>1</th>\n",
       "      <td>2</td>\n",
       "      <td>New York Islanders</td>\n",
       "      <td>/api/v1/teams/2</td>\n",
       "      <td>NYI</td>\n",
       "      <td>Islanders</td>\n",
       "      <td>New York</td>\n",
       "      <td>1972</td>\n",
       "      <td>NY Islanders</td>\n",
       "      <td>http://www.newyorkislanders.com/</td>\n",
       "      <td>22</td>\n",
       "      <td>...</td>\n",
       "      <td>Metro</td>\n",
       "      <td>/api/v1/divisions/18</td>\n",
       "      <td>M</td>\n",
       "      <td>6</td>\n",
       "      <td>Eastern</td>\n",
       "      <td>/api/v1/conferences/6</td>\n",
       "      <td>22</td>\n",
       "      <td>Islanders</td>\n",
       "      <td>/api/v1/franchises/22</td>\n",
       "      <td>5026.0</td>\n",
       "    </tr>\n",
       "    <tr>\n",
       "      <th>2</th>\n",
       "      <td>3</td>\n",
       "      <td>New York Rangers</td>\n",
       "      <td>/api/v1/teams/3</td>\n",
       "      <td>NYR</td>\n",
       "      <td>Rangers</td>\n",
       "      <td>New York</td>\n",
       "      <td>1926</td>\n",
       "      <td>NY Rangers</td>\n",
       "      <td>http://www.newyorkrangers.com/</td>\n",
       "      <td>10</td>\n",
       "      <td>...</td>\n",
       "      <td>Metro</td>\n",
       "      <td>/api/v1/divisions/18</td>\n",
       "      <td>M</td>\n",
       "      <td>6</td>\n",
       "      <td>Eastern</td>\n",
       "      <td>/api/v1/conferences/6</td>\n",
       "      <td>10</td>\n",
       "      <td>Rangers</td>\n",
       "      <td>/api/v1/franchises/10</td>\n",
       "      <td>5054.0</td>\n",
       "    </tr>\n",
       "    <tr>\n",
       "      <th>3</th>\n",
       "      <td>4</td>\n",
       "      <td>Philadelphia Flyers</td>\n",
       "      <td>/api/v1/teams/4</td>\n",
       "      <td>PHI</td>\n",
       "      <td>Flyers</td>\n",
       "      <td>Philadelphia</td>\n",
       "      <td>1967</td>\n",
       "      <td>Philadelphia</td>\n",
       "      <td>http://www.philadelphiaflyers.com/</td>\n",
       "      <td>16</td>\n",
       "      <td>...</td>\n",
       "      <td>Metro</td>\n",
       "      <td>/api/v1/divisions/18</td>\n",
       "      <td>M</td>\n",
       "      <td>6</td>\n",
       "      <td>Eastern</td>\n",
       "      <td>/api/v1/conferences/6</td>\n",
       "      <td>16</td>\n",
       "      <td>Flyers</td>\n",
       "      <td>/api/v1/franchises/16</td>\n",
       "      <td>5096.0</td>\n",
       "    </tr>\n",
       "    <tr>\n",
       "      <th>4</th>\n",
       "      <td>5</td>\n",
       "      <td>Pittsburgh Penguins</td>\n",
       "      <td>/api/v1/teams/5</td>\n",
       "      <td>PIT</td>\n",
       "      <td>Penguins</td>\n",
       "      <td>Pittsburgh</td>\n",
       "      <td>1967</td>\n",
       "      <td>Pittsburgh</td>\n",
       "      <td>http://pittsburghpenguins.com/</td>\n",
       "      <td>17</td>\n",
       "      <td>...</td>\n",
       "      <td>Metro</td>\n",
       "      <td>/api/v1/divisions/18</td>\n",
       "      <td>M</td>\n",
       "      <td>6</td>\n",
       "      <td>Eastern</td>\n",
       "      <td>/api/v1/conferences/6</td>\n",
       "      <td>17</td>\n",
       "      <td>Penguins</td>\n",
       "      <td>/api/v1/franchises/17</td>\n",
       "      <td>5034.0</td>\n",
       "    </tr>\n",
       "  </tbody>\n",
       "</table>\n",
       "<p>5 rows × 29 columns</p>\n",
       "</div>"
      ],
      "text/plain": [
       "   id                 name             link abbreviation   teamName  \\\n",
       "0   1    New Jersey Devils  /api/v1/teams/1          NJD     Devils   \n",
       "1   2   New York Islanders  /api/v1/teams/2          NYI  Islanders   \n",
       "2   3     New York Rangers  /api/v1/teams/3          NYR    Rangers   \n",
       "3   4  Philadelphia Flyers  /api/v1/teams/4          PHI     Flyers   \n",
       "4   5  Pittsburgh Penguins  /api/v1/teams/5          PIT   Penguins   \n",
       "\n",
       "   locationName firstYearOfPlay     shortName  \\\n",
       "0    New Jersey            1982    New Jersey   \n",
       "1      New York            1972  NY Islanders   \n",
       "2      New York            1926    NY Rangers   \n",
       "3  Philadelphia            1967  Philadelphia   \n",
       "4    Pittsburgh            1967    Pittsburgh   \n",
       "\n",
       "                      officialSiteUrl  franchiseId  ...  division.nameShort  \\\n",
       "0     http://www.newjerseydevils.com/           23  ...               Metro   \n",
       "1    http://www.newyorkislanders.com/           22  ...               Metro   \n",
       "2      http://www.newyorkrangers.com/           10  ...               Metro   \n",
       "3  http://www.philadelphiaflyers.com/           16  ...               Metro   \n",
       "4      http://pittsburghpenguins.com/           17  ...               Metro   \n",
       "\n",
       "          division.link division.abbreviation conference.id conference.name  \\\n",
       "0  /api/v1/divisions/18                     M             6         Eastern   \n",
       "1  /api/v1/divisions/18                     M             6         Eastern   \n",
       "2  /api/v1/divisions/18                     M             6         Eastern   \n",
       "3  /api/v1/divisions/18                     M             6         Eastern   \n",
       "4  /api/v1/divisions/18                     M             6         Eastern   \n",
       "\n",
       "         conference.link franchise.franchiseId  franchise.teamName  \\\n",
       "0  /api/v1/conferences/6                    23              Devils   \n",
       "1  /api/v1/conferences/6                    22           Islanders   \n",
       "2  /api/v1/conferences/6                    10             Rangers   \n",
       "3  /api/v1/conferences/6                    16              Flyers   \n",
       "4  /api/v1/conferences/6                    17            Penguins   \n",
       "\n",
       "          franchise.link venue.id  \n",
       "0  /api/v1/franchises/23      NaN  \n",
       "1  /api/v1/franchises/22   5026.0  \n",
       "2  /api/v1/franchises/10   5054.0  \n",
       "3  /api/v1/franchises/16   5096.0  \n",
       "4  /api/v1/franchises/17   5034.0  \n",
       "\n",
       "[5 rows x 29 columns]"
      ]
     },
     "execution_count": 220,
     "metadata": {},
     "output_type": "execute_result"
    }
   ],
   "source": [
    "df_team_content_jn.head()"
   ]
  },
  {
   "cell_type": "markdown",
   "metadata": {},
   "source": [
    "If there are mulitple levles to the dictionary, each key will be concatenated.  For examample, consider the dictionary in the venue column."
   ]
  },
  {
   "cell_type": "code",
   "execution_count": 221,
   "metadata": {},
   "outputs": [
    {
     "data": {
      "text/plain": [
       "{'name': 'Prudential Center',\n",
       " 'link': '/api/v1/venues/null',\n",
       " 'city': 'Newark',\n",
       " 'timeZone': {'id': 'America/New_York', 'offset': -5, 'tz': 'EST'}}"
      ]
     },
     "execution_count": 221,
     "metadata": {},
     "output_type": "execute_result"
    }
   ],
   "source": [
    "team_content['teams'][0]['venue']"
   ]
  },
  {
   "cell_type": "markdown",
   "metadata": {},
   "source": [
    "Since the value for the `timezone` is a `dict` the parent keys (`venue`, `timeZone`) are concatenated with each key within `timeZone` (`id`, `offset`, `tz`) "
   ]
  },
  {
   "cell_type": "code",
   "execution_count": 222,
   "metadata": {},
   "outputs": [
    {
     "data": {
      "text/plain": [
       "0    EST\n",
       "1    EST\n",
       "2    EST\n",
       "3    EST\n",
       "4    EST\n",
       "Name: venue.timeZone.tz, dtype: object"
      ]
     },
     "execution_count": 222,
     "metadata": {},
     "output_type": "execute_result"
    }
   ],
   "source": [
    "df_team_content_jn[\"venue.timeZone.tz\"].head()"
   ]
  },
  {
   "cell_type": "markdown",
   "metadata": {},
   "source": [
    "We could also apply the `.json_normalize()` methond to a dictionary column to return dataframes.  Consider the `venue` column from our previous `df_team_content2` dataframe."
   ]
  },
  {
   "cell_type": "code",
   "execution_count": 223,
   "metadata": {
    "scrolled": false
   },
   "outputs": [
    {
     "data": {
      "text/html": [
       "<div>\n",
       "<style scoped>\n",
       "    .dataframe tbody tr th:only-of-type {\n",
       "        vertical-align: middle;\n",
       "    }\n",
       "\n",
       "    .dataframe tbody tr th {\n",
       "        vertical-align: top;\n",
       "    }\n",
       "\n",
       "    .dataframe thead th {\n",
       "        text-align: right;\n",
       "    }\n",
       "</style>\n",
       "<table border=\"1\" class=\"dataframe\">\n",
       "  <thead>\n",
       "    <tr style=\"text-align: right;\">\n",
       "      <th></th>\n",
       "      <th>name</th>\n",
       "      <th>link</th>\n",
       "      <th>city</th>\n",
       "      <th>timeZone.id</th>\n",
       "      <th>timeZone.offset</th>\n",
       "      <th>timeZone.tz</th>\n",
       "      <th>id</th>\n",
       "    </tr>\n",
       "  </thead>\n",
       "  <tbody>\n",
       "    <tr>\n",
       "      <th>0</th>\n",
       "      <td>Prudential Center</td>\n",
       "      <td>/api/v1/venues/null</td>\n",
       "      <td>Newark</td>\n",
       "      <td>America/New_York</td>\n",
       "      <td>-5</td>\n",
       "      <td>EST</td>\n",
       "      <td>NaN</td>\n",
       "    </tr>\n",
       "    <tr>\n",
       "      <th>1</th>\n",
       "      <td>Barclays Center</td>\n",
       "      <td>/api/v1/venues/5026</td>\n",
       "      <td>Brooklyn</td>\n",
       "      <td>America/New_York</td>\n",
       "      <td>-5</td>\n",
       "      <td>EST</td>\n",
       "      <td>5026.0</td>\n",
       "    </tr>\n",
       "    <tr>\n",
       "      <th>2</th>\n",
       "      <td>Madison Square Garden</td>\n",
       "      <td>/api/v1/venues/5054</td>\n",
       "      <td>New York</td>\n",
       "      <td>America/New_York</td>\n",
       "      <td>-5</td>\n",
       "      <td>EST</td>\n",
       "      <td>5054.0</td>\n",
       "    </tr>\n",
       "    <tr>\n",
       "      <th>3</th>\n",
       "      <td>Wells Fargo Center</td>\n",
       "      <td>/api/v1/venues/5096</td>\n",
       "      <td>Philadelphia</td>\n",
       "      <td>America/New_York</td>\n",
       "      <td>-5</td>\n",
       "      <td>EST</td>\n",
       "      <td>5096.0</td>\n",
       "    </tr>\n",
       "    <tr>\n",
       "      <th>4</th>\n",
       "      <td>PPG Paints Arena</td>\n",
       "      <td>/api/v1/venues/5034</td>\n",
       "      <td>Pittsburgh</td>\n",
       "      <td>America/New_York</td>\n",
       "      <td>-5</td>\n",
       "      <td>EST</td>\n",
       "      <td>5034.0</td>\n",
       "    </tr>\n",
       "  </tbody>\n",
       "</table>\n",
       "</div>"
      ],
      "text/plain": [
       "                    name                 link          city       timeZone.id  \\\n",
       "0      Prudential Center  /api/v1/venues/null        Newark  America/New_York   \n",
       "1        Barclays Center  /api/v1/venues/5026      Brooklyn  America/New_York   \n",
       "2  Madison Square Garden  /api/v1/venues/5054      New York  America/New_York   \n",
       "3     Wells Fargo Center  /api/v1/venues/5096  Philadelphia  America/New_York   \n",
       "4       PPG Paints Arena  /api/v1/venues/5034    Pittsburgh  America/New_York   \n",
       "\n",
       "   timeZone.offset timeZone.tz      id  \n",
       "0               -5         EST     NaN  \n",
       "1               -5         EST  5026.0  \n",
       "2               -5         EST  5054.0  \n",
       "3               -5         EST  5096.0  \n",
       "4               -5         EST  5034.0  "
      ]
     },
     "execution_count": 223,
     "metadata": {},
     "output_type": "execute_result"
    }
   ],
   "source": [
    "pd.json_normalize(df_team_content2.venue).head()"
   ]
  },
  {
   "cell_type": "markdown",
   "metadata": {},
   "source": [
    "Now that we have looked at different approaches, lets use the result fromt he `.json_normalize()` going forward."
   ]
  },
  {
   "cell_type": "code",
   "execution_count": 224,
   "metadata": {},
   "outputs": [],
   "source": [
    "df_team_content = df_team_content_jn"
   ]
  },
  {
   "cell_type": "markdown",
   "metadata": {},
   "source": [
    "## Request Roster Data"
   ]
  },
  {
   "cell_type": "markdown",
   "metadata": {},
   "source": [
    "Now that we have collected the basic team info, let's move down a level to collect roster information.  "
   ]
  },
  {
   "cell_type": "markdown",
   "metadata": {},
   "source": [
    "### Extracting the team ID usign regex"
   ]
  },
  {
   "cell_type": "code",
   "execution_count": 225,
   "metadata": {},
   "outputs": [
    {
     "data": {
      "text/plain": [
       "'/api/v1/teams/3'"
      ]
     },
     "execution_count": 225,
     "metadata": {},
     "output_type": "execute_result"
    }
   ],
   "source": [
    "# get the rangers link to their team site\n",
    "rangers_link = df_team_content.query(\"teamName == 'Rangers'\").link.values[0]\n",
    "rangers_link"
   ]
  },
  {
   "cell_type": "code",
   "execution_count": 226,
   "metadata": {},
   "outputs": [
    {
     "data": {
      "text/plain": [
       "str"
      ]
     },
     "execution_count": 226,
     "metadata": {},
     "output_type": "execute_result"
    }
   ],
   "source": [
    "type(rangers_link)"
   ]
  },
  {
   "cell_type": "code",
   "execution_count": 227,
   "metadata": {},
   "outputs": [
    {
     "data": {
      "text/plain": [
       "['3']"
      ]
     },
     "execution_count": 227,
     "metadata": {},
     "output_type": "execute_result"
    }
   ],
   "source": [
    "# get the rangers team id from the end of the url\n",
    "import re\n",
    "\n",
    "pattern = \"\\d$\"\n",
    "\n",
    "re.findall(pattern, rangers_link)"
   ]
  },
  {
   "cell_type": "code",
   "execution_count": 228,
   "metadata": {},
   "outputs": [
    {
     "data": {
      "text/plain": [
       "'https://statsapi.web.nhl.com'"
      ]
     },
     "execution_count": 228,
     "metadata": {},
     "output_type": "execute_result"
    }
   ],
   "source": [
    "#get the base url of the api\n",
    "teams_url\n",
    "\n",
    "url_pattern = \".+com\"\n",
    "\n",
    "base_url = re.search(url_pattern, teams_url).group()\n",
    "base_url"
   ]
  },
  {
   "cell_type": "code",
   "execution_count": 229,
   "metadata": {},
   "outputs": [
    {
     "data": {
      "text/plain": [
       "'https://statsapi.web.nhl.com/api/v1/teams/3'"
      ]
     },
     "execution_count": 229,
     "metadata": {},
     "output_type": "execute_result"
    }
   ],
   "source": [
    "#create the url to get the rangers team info\n",
    "rangers_url = base_url + rangers_link\n",
    "\n",
    "rangers_url"
   ]
  },
  {
   "cell_type": "markdown",
   "metadata": {},
   "source": [
    "### Add Parameters to Team URL "
   ]
  },
  {
   "cell_type": "markdown",
   "metadata": {},
   "source": [
    "In order to get the roster data, we need to use modifier or the roster endpoint.\n",
    "- ?expand=team.roster\n",
    "- /roster appended to the end of the url\n",
    "\n",
    "We also need to specify a season\n",
    "- yyyyYYYYY format\n",
    "    - yyyy:start year\n",
    "    - YYYY: end \n",
    "    "
   ]
  },
  {
   "cell_type": "code",
   "execution_count": 230,
   "metadata": {
    "scrolled": true
   },
   "outputs": [
    {
     "data": {
      "text/plain": [
       "'https://statsapi.web.nhl.com/api/v1/teams/3?expand=team.roster&season=20182019'"
      ]
     },
     "execution_count": 230,
     "metadata": {},
     "output_type": "execute_result"
    }
   ],
   "source": [
    "# create a url to get the rangers team roster info\n",
    "params = \"?expand=team.roster&season=20182019\"\n",
    "rangers_roster_url = rangers_url + params\n",
    "rangers_roster_url"
   ]
  },
  {
   "cell_type": "code",
   "execution_count": 231,
   "metadata": {},
   "outputs": [
    {
     "data": {
      "text/plain": [
       "200"
      ]
     },
     "execution_count": 231,
     "metadata": {},
     "output_type": "execute_result"
    }
   ],
   "source": [
    "rangers_response = requests.get(rangers_roster_url)\n",
    "rangers_response.status_code"
   ]
  },
  {
   "cell_type": "code",
   "execution_count": 232,
   "metadata": {},
   "outputs": [
    {
     "data": {
      "text/plain": [
       "dict_keys(['copyright', 'teams'])"
      ]
     },
     "execution_count": 232,
     "metadata": {},
     "output_type": "execute_result"
    }
   ],
   "source": [
    "#convert the content\n",
    "rangers_content = rangers_response.json()\n",
    "rangers_content.keys()"
   ]
  },
  {
   "cell_type": "code",
   "execution_count": 233,
   "metadata": {},
   "outputs": [
    {
     "ename": "KeyError",
     "evalue": "'roster'",
     "output_type": "error",
     "traceback": [
      "\u001b[1;31m---------------------------------------------------------------------------\u001b[0m",
      "\u001b[1;31mKeyError\u001b[0m                                  Traceback (most recent call last)",
      "\u001b[1;32m<ipython-input-233-1a0f0ca4d537>\u001b[0m in \u001b[0;36m<module>\u001b[1;34m\u001b[0m\n\u001b[1;32m----> 1\u001b[1;33m \u001b[0mrangers_content\u001b[0m\u001b[1;33m[\u001b[0m\u001b[1;34m'roster'\u001b[0m\u001b[1;33m]\u001b[0m\u001b[1;33m[\u001b[0m\u001b[1;36m0\u001b[0m\u001b[1;33m]\u001b[0m\u001b[1;33m\u001b[0m\u001b[1;33m\u001b[0m\u001b[0m\n\u001b[0m",
      "\u001b[1;31mKeyError\u001b[0m: 'roster'"
     ]
    }
   ],
   "source": [
    "rangers_content['roster'][0]"
   ]
  },
  {
   "cell_type": "markdown",
   "metadata": {},
   "source": [
    "### Make a function to get team info\n",
    "\n",
    "Now that endpoints are leveraging parameters, it would be useful to create a function to simplify the creation of the API url.\n",
    "\n",
    "For now, the urls we are creating require a team number and season."
   ]
  },
  {
   "cell_type": "code",
   "execution_count": 234,
   "metadata": {},
   "outputs": [
    {
     "data": {
      "text/plain": [
       "True"
      ]
     },
     "execution_count": 234,
     "metadata": {},
     "output_type": "execute_result"
    }
   ],
   "source": [
    "test = 19992000\n",
    "test = str(test)\n",
    "pattern = re.compile('\\d{8}')\n",
    "bool(pattern.match(test))"
   ]
  },
  {
   "cell_type": "code",
   "execution_count": 235,
   "metadata": {},
   "outputs": [],
   "source": [
    "def create_team_roster_url(team_number, season):\n",
    "    from sys import exit\n",
    "    \n",
    "    base_url = \"https://statsapi.web.nhl.com/api/v1/teams/\"\n",
    " \n",
    "    #verify team number makes sense\n",
    "    if int(team_number) > 33:\n",
    "        raise ValueError(\"Please use a correct value.  Team numbers must be less than 33\")\n",
    "\n",
    "    # convert to strings\n",
    "    team_number = str(team_number) # convert to a string in case a number was supplied\n",
    "    season = str(season)\n",
    "    \n",
    "    #verify the season is 8 digits\n",
    "    pattern = re.compile('\\d{8}')\n",
    "    is_season_formatted = bool(pattern.match(season))\n",
    "    if not is_season_formatted:\n",
    "        raise ValueError(\"You did not provide the season with 8 digits.  Specify start and end season with four digits and no spaces\")\n",
    "     \n",
    "    # combine the components into one url\n",
    "    url = base_url + team_number + \"/roster/\" + \"?season=\" + season\n",
    "    return url"
   ]
  },
  {
   "cell_type": "code",
   "execution_count": 236,
   "metadata": {},
   "outputs": [
    {
     "data": {
      "text/plain": [
       "'https://statsapi.web.nhl.com/api/v1/teams/3/roster/?season=20192020'"
      ]
     },
     "execution_count": 236,
     "metadata": {},
     "output_type": "execute_result"
    }
   ],
   "source": [
    "create_team_roster_url(3,20192020)"
   ]
  },
  {
   "cell_type": "markdown",
   "metadata": {},
   "source": [
    "### Checking Errors"
   ]
  },
  {
   "cell_type": "code",
   "execution_count": 237,
   "metadata": {
    "scrolled": false
   },
   "outputs": [
    {
     "ename": "ValueError",
     "evalue": "You did not provide the season with 8 digits.  Specify start and end season with four digits and no spaces",
     "output_type": "error",
     "traceback": [
      "\u001b[1;31m---------------------------------------------------------------------------\u001b[0m",
      "\u001b[1;31mValueError\u001b[0m                                Traceback (most recent call last)",
      "\u001b[1;32m<ipython-input-237-f09f6485bbbd>\u001b[0m in \u001b[0;36m<module>\u001b[1;34m\u001b[0m\n\u001b[1;32m----> 1\u001b[1;33m \u001b[0mcreate_team_roster_url\u001b[0m\u001b[1;33m(\u001b[0m\u001b[1;36m3\u001b[0m\u001b[1;33m,\u001b[0m\u001b[1;36m2019\u001b[0m\u001b[1;33m)\u001b[0m\u001b[1;33m\u001b[0m\u001b[1;33m\u001b[0m\u001b[0m\n\u001b[0m",
      "\u001b[1;32m<ipython-input-235-803bcea8f4e1>\u001b[0m in \u001b[0;36mcreate_team_roster_url\u001b[1;34m(team_number, season)\u001b[0m\n\u001b[0;32m     16\u001b[0m     \u001b[0mis_season_formatted\u001b[0m \u001b[1;33m=\u001b[0m \u001b[0mbool\u001b[0m\u001b[1;33m(\u001b[0m\u001b[0mpattern\u001b[0m\u001b[1;33m.\u001b[0m\u001b[0mmatch\u001b[0m\u001b[1;33m(\u001b[0m\u001b[0mseason\u001b[0m\u001b[1;33m)\u001b[0m\u001b[1;33m)\u001b[0m\u001b[1;33m\u001b[0m\u001b[1;33m\u001b[0m\u001b[0m\n\u001b[0;32m     17\u001b[0m     \u001b[1;32mif\u001b[0m \u001b[1;32mnot\u001b[0m \u001b[0mis_season_formatted\u001b[0m\u001b[1;33m:\u001b[0m\u001b[1;33m\u001b[0m\u001b[1;33m\u001b[0m\u001b[0m\n\u001b[1;32m---> 18\u001b[1;33m         \u001b[1;32mraise\u001b[0m \u001b[0mValueError\u001b[0m\u001b[1;33m(\u001b[0m\u001b[1;34m\"You did not provide the season with 8 digits.  Specify start and end season with four digits and no spaces\"\u001b[0m\u001b[1;33m)\u001b[0m\u001b[1;33m\u001b[0m\u001b[1;33m\u001b[0m\u001b[0m\n\u001b[0m\u001b[0;32m     19\u001b[0m \u001b[1;33m\u001b[0m\u001b[0m\n\u001b[0;32m     20\u001b[0m     \u001b[1;31m# combine the components into one url\u001b[0m\u001b[1;33m\u001b[0m\u001b[1;33m\u001b[0m\u001b[1;33m\u001b[0m\u001b[0m\n",
      "\u001b[1;31mValueError\u001b[0m: You did not provide the season with 8 digits.  Specify start and end season with four digits and no spaces"
     ]
    }
   ],
   "source": [
    "create_team_roster_url(3,2019)"
   ]
  },
  {
   "cell_type": "code",
   "execution_count": 238,
   "metadata": {},
   "outputs": [
    {
     "ename": "ValueError",
     "evalue": "Please use a correct value.  Team numbers must be less than 33",
     "output_type": "error",
     "traceback": [
      "\u001b[1;31m---------------------------------------------------------------------------\u001b[0m",
      "\u001b[1;31mValueError\u001b[0m                                Traceback (most recent call last)",
      "\u001b[1;32m<ipython-input-238-7641c6e970a0>\u001b[0m in \u001b[0;36m<module>\u001b[1;34m\u001b[0m\n\u001b[1;32m----> 1\u001b[1;33m \u001b[0mcreate_team_roster_url\u001b[0m\u001b[1;33m(\u001b[0m\u001b[1;36m100\u001b[0m\u001b[1;33m,\u001b[0m\u001b[1;36m20192020\u001b[0m\u001b[1;33m)\u001b[0m\u001b[1;33m\u001b[0m\u001b[1;33m\u001b[0m\u001b[0m\n\u001b[0m",
      "\u001b[1;32m<ipython-input-235-803bcea8f4e1>\u001b[0m in \u001b[0;36mcreate_team_roster_url\u001b[1;34m(team_number, season)\u001b[0m\n\u001b[0;32m      6\u001b[0m     \u001b[1;31m#verify team number makes sense\u001b[0m\u001b[1;33m\u001b[0m\u001b[1;33m\u001b[0m\u001b[1;33m\u001b[0m\u001b[0m\n\u001b[0;32m      7\u001b[0m     \u001b[1;32mif\u001b[0m \u001b[0mint\u001b[0m\u001b[1;33m(\u001b[0m\u001b[0mteam_number\u001b[0m\u001b[1;33m)\u001b[0m \u001b[1;33m>\u001b[0m \u001b[1;36m33\u001b[0m\u001b[1;33m:\u001b[0m\u001b[1;33m\u001b[0m\u001b[1;33m\u001b[0m\u001b[0m\n\u001b[1;32m----> 8\u001b[1;33m         \u001b[1;32mraise\u001b[0m \u001b[0mValueError\u001b[0m\u001b[1;33m(\u001b[0m\u001b[1;34m\"Please use a correct value.  Team numbers must be less than 33\"\u001b[0m\u001b[1;33m)\u001b[0m\u001b[1;33m\u001b[0m\u001b[1;33m\u001b[0m\u001b[0m\n\u001b[0m\u001b[0;32m      9\u001b[0m \u001b[1;33m\u001b[0m\u001b[0m\n\u001b[0;32m     10\u001b[0m     \u001b[1;31m# convert to strings\u001b[0m\u001b[1;33m\u001b[0m\u001b[1;33m\u001b[0m\u001b[1;33m\u001b[0m\u001b[0m\n",
      "\u001b[1;31mValueError\u001b[0m: Please use a correct value.  Team numbers must be less than 33"
     ]
    }
   ],
   "source": [
    "create_team_roster_url(100,20192020)"
   ]
  },
  {
   "cell_type": "markdown",
   "metadata": {},
   "source": [
    "### Send Get Request for Rangers Data"
   ]
  },
  {
   "cell_type": "code",
   "execution_count": 239,
   "metadata": {},
   "outputs": [
    {
     "data": {
      "text/plain": [
       "200"
      ]
     },
     "execution_count": 239,
     "metadata": {},
     "output_type": "execute_result"
    }
   ],
   "source": [
    "# get the rangers roster from 2019-2020\n",
    "rangers_roster_url = create_team_roster_url(3,20192020) \n",
    "rangers_response = requests.get(rangers_roster_url)\n",
    "rangers_response.status_code"
   ]
  },
  {
   "cell_type": "code",
   "execution_count": 240,
   "metadata": {},
   "outputs": [
    {
     "data": {
      "text/plain": [
       "{'person': {'id': 8471686,\n",
       "  'fullName': 'Marc Staal',\n",
       "  'link': '/api/v1/people/8471686'},\n",
       " 'jerseyNumber': '18',\n",
       " 'position': {'code': 'D',\n",
       "  'name': 'Defenseman',\n",
       "  'type': 'Defenseman',\n",
       "  'abbreviation': 'D'}}"
      ]
     },
     "execution_count": 240,
     "metadata": {},
     "output_type": "execute_result"
    }
   ],
   "source": [
    "# convert the roster\n",
    "rangers_roster_content = rangers_response.json()[\"roster\"]\n",
    "rangers_roster_content[0]"
   ]
  },
  {
   "cell_type": "code",
   "execution_count": 241,
   "metadata": {},
   "outputs": [
    {
     "data": {
      "text/html": [
       "<div>\n",
       "<style scoped>\n",
       "    .dataframe tbody tr th:only-of-type {\n",
       "        vertical-align: middle;\n",
       "    }\n",
       "\n",
       "    .dataframe tbody tr th {\n",
       "        vertical-align: top;\n",
       "    }\n",
       "\n",
       "    .dataframe thead th {\n",
       "        text-align: right;\n",
       "    }\n",
       "</style>\n",
       "<table border=\"1\" class=\"dataframe\">\n",
       "  <thead>\n",
       "    <tr style=\"text-align: right;\">\n",
       "      <th></th>\n",
       "      <th>jerseyNumber</th>\n",
       "      <th>person.id</th>\n",
       "      <th>person.fullName</th>\n",
       "      <th>person.link</th>\n",
       "      <th>position.code</th>\n",
       "      <th>position.name</th>\n",
       "      <th>position.type</th>\n",
       "      <th>position.abbreviation</th>\n",
       "    </tr>\n",
       "  </thead>\n",
       "  <tbody>\n",
       "    <tr>\n",
       "      <th>0</th>\n",
       "      <td>18</td>\n",
       "      <td>8471686</td>\n",
       "      <td>Marc Staal</td>\n",
       "      <td>/api/v1/people/8471686</td>\n",
       "      <td>D</td>\n",
       "      <td>Defenseman</td>\n",
       "      <td>Defenseman</td>\n",
       "      <td>D</td>\n",
       "    </tr>\n",
       "    <tr>\n",
       "      <th>1</th>\n",
       "      <td>42</td>\n",
       "      <td>8474090</td>\n",
       "      <td>Brendan Smith</td>\n",
       "      <td>/api/v1/people/8474090</td>\n",
       "      <td>D</td>\n",
       "      <td>Defenseman</td>\n",
       "      <td>Defenseman</td>\n",
       "      <td>D</td>\n",
       "    </tr>\n",
       "    <tr>\n",
       "      <th>2</th>\n",
       "      <td>38</td>\n",
       "      <td>8474230</td>\n",
       "      <td>Micheal Haley</td>\n",
       "      <td>/api/v1/people/8474230</td>\n",
       "      <td>L</td>\n",
       "      <td>Left Wing</td>\n",
       "      <td>Forward</td>\n",
       "      <td>LW</td>\n",
       "    </tr>\n",
       "    <tr>\n",
       "      <th>3</th>\n",
       "      <td>20</td>\n",
       "      <td>8475184</td>\n",
       "      <td>Chris Kreider</td>\n",
       "      <td>/api/v1/people/8475184</td>\n",
       "      <td>L</td>\n",
       "      <td>Left Wing</td>\n",
       "      <td>Forward</td>\n",
       "      <td>LW</td>\n",
       "    </tr>\n",
       "    <tr>\n",
       "      <th>4</th>\n",
       "      <td>18</td>\n",
       "      <td>8475735</td>\n",
       "      <td>Greg McKegg</td>\n",
       "      <td>/api/v1/people/8475735</td>\n",
       "      <td>C</td>\n",
       "      <td>Center</td>\n",
       "      <td>Forward</td>\n",
       "      <td>C</td>\n",
       "    </tr>\n",
       "  </tbody>\n",
       "</table>\n",
       "</div>"
      ],
      "text/plain": [
       "  jerseyNumber person.id person.fullName             person.link  \\\n",
       "0           18   8471686      Marc Staal  /api/v1/people/8471686   \n",
       "1           42   8474090   Brendan Smith  /api/v1/people/8474090   \n",
       "2           38   8474230   Micheal Haley  /api/v1/people/8474230   \n",
       "3           20   8475184   Chris Kreider  /api/v1/people/8475184   \n",
       "4           18   8475735     Greg McKegg  /api/v1/people/8475735   \n",
       "\n",
       "  position.code position.name position.type position.abbreviation  \n",
       "0             D    Defenseman    Defenseman                     D  \n",
       "1             D    Defenseman    Defenseman                     D  \n",
       "2             L     Left Wing       Forward                    LW  \n",
       "3             L     Left Wing       Forward                    LW  \n",
       "4             C        Center       Forward                     C  "
      ]
     },
     "execution_count": 241,
     "metadata": {},
     "output_type": "execute_result"
    }
   ],
   "source": [
    "# convert the roster to a dataframe\n",
    "df_rangers_roster = pd.json_normalize(rangers_roster_content).astype(str)\n",
    "df_rangers_roster.head()"
   ]
  },
  {
   "cell_type": "markdown",
   "metadata": {},
   "source": [
    "### Stat Types"
   ]
  },
  {
   "cell_type": "code",
   "execution_count": 242,
   "metadata": {},
   "outputs": [
    {
     "data": {
      "text/plain": [
       "200"
      ]
     },
     "execution_count": 242,
     "metadata": {},
     "output_type": "execute_result"
    }
   ],
   "source": [
    "\n",
    "stat_type_url = \"https://statsapi.web.nhl.com/api/v1/statTypes\"\n",
    "\n",
    "response_stat_type = requests.get(stat_type_url)\n",
    "response_stat_type.status_code"
   ]
  },
  {
   "cell_type": "code",
   "execution_count": 243,
   "metadata": {},
   "outputs": [
    {
     "data": {
      "text/plain": [
       "[{'displayName': 'yearByYear', 'gameType': None},\n",
       " {'displayName': 'yearByYearRank', 'gameType': None},\n",
       " {'displayName': 'yearByYearPlayoffs', 'gameType': None},\n",
       " {'displayName': 'yearByYearPlayoffsRank', 'gameType': None},\n",
       " {'displayName': 'careerRegularSeason', 'gameType': None},\n",
       " {'displayName': 'careerPlayoffs', 'gameType': None},\n",
       " {'displayName': 'gameLog', 'gameType': None},\n",
       " {'displayName': 'playoffGameLog', 'gameType': None},\n",
       " {'displayName': 'vsTeam', 'gameType': None},\n",
       " {'displayName': 'vsTeamPlayoffs', 'gameType': None},\n",
       " {'displayName': 'vsDivision', 'gameType': None},\n",
       " {'displayName': 'vsDivisionPlayoffs', 'gameType': None},\n",
       " {'displayName': 'vsConference', 'gameType': None},\n",
       " {'displayName': 'vsConferencePlayoffs', 'gameType': None},\n",
       " {'displayName': 'byMonth', 'gameType': None},\n",
       " {'displayName': 'byMonthPlayoffs', 'gameType': None},\n",
       " {'displayName': 'byDayOfWeek', 'gameType': None},\n",
       " {'displayName': 'byDayOfWeekPlayoffs', 'gameType': None},\n",
       " {'displayName': 'homeAndAway', 'gameType': None},\n",
       " {'displayName': 'homeAndAwayPlayoffs', 'gameType': None},\n",
       " {'displayName': 'winLoss', 'gameType': None},\n",
       " {'displayName': 'winLossPlayoffs', 'gameType': None},\n",
       " {'displayName': 'onPaceRegularSeason', 'gameType': None},\n",
       " {'displayName': 'regularSeasonStatRankings', 'gameType': None},\n",
       " {'displayName': 'playoffStatRankings', 'gameType': None},\n",
       " {'displayName': 'goalsByGameSituation', 'gameType': None},\n",
       " {'displayName': 'goalsByGameSituationPlayoffs', 'gameType': None},\n",
       " {'displayName': 'statsSingleSeason',\n",
       "  'gameType': {'id': 'R',\n",
       "   'description': 'Regular season',\n",
       "   'postseason': False}},\n",
       " {'displayName': 'statsSingleSeasonPlayoffs',\n",
       "  'gameType': {'id': 'P', 'description': 'Playoffs', 'postseason': True}}]"
      ]
     },
     "execution_count": 243,
     "metadata": {},
     "output_type": "execute_result"
    }
   ],
   "source": [
    "response_stat_type.json()"
   ]
  },
  {
   "cell_type": "markdown",
   "metadata": {},
   "source": [
    "## Player Stats"
   ]
  },
  {
   "cell_type": "code",
   "execution_count": 244,
   "metadata": {},
   "outputs": [],
   "source": [
    "# create a url to get player stats\n",
    "def create_player_stats_url(id, param = \"\"):\n",
    "    base_url = \"https://statsapi.web.nhl.com/api/v1/people/\"\n",
    "    if param == \"\":\n",
    "        url = base_url + id + \"/\"\n",
    "    else:\n",
    "        url = base_url + id + \"/stats/?\" + param\n",
    "    return url"
   ]
  },
  {
   "cell_type": "code",
   "execution_count": 245,
   "metadata": {},
   "outputs": [
    {
     "data": {
      "text/plain": [
       "'8478550'"
      ]
     },
     "execution_count": 245,
     "metadata": {},
     "output_type": "execute_result"
    }
   ],
   "source": [
    "# get Artemi's player id\n",
    "artemi_id = df_rangers_roster[df_rangers_roster['person.fullName'].str.contains(\"Artemi\")]['person.id'].values[0]\n",
    "artemi_id"
   ]
  },
  {
   "cell_type": "code",
   "execution_count": 246,
   "metadata": {},
   "outputs": [
    {
     "data": {
      "text/plain": [
       "'https://statsapi.web.nhl.com/api/v1/people/8471686/stats/?stats=statsSingleSeason&season=20182019'"
      ]
     },
     "execution_count": 246,
     "metadata": {},
     "output_type": "execute_result"
    }
   ],
   "source": [
    "# create a url for every player\n",
    "df_rangers_roster[\"player_stats_link\"] = create_player_stats_url(df_rangers_roster[\"person.id\"], \"stats=statsSingleSeason&season=20182019\")\n",
    "df_rangers_roster[\"player_stats_link\"][0]"
   ]
  },
  {
   "cell_type": "code",
   "execution_count": 247,
   "metadata": {},
   "outputs": [],
   "source": [
    "# get players stats\n",
    "def get_player_stats(url):\n",
    "    first_layer = \"stats\" \n",
    "    response = requests.get(url)\n",
    "    try:\n",
    "        content = json.loads(response.content)[first_layer][0]['splits'][0]\n",
    "    except:\n",
    "        content = {}\n",
    "    return content\n",
    "    "
   ]
  },
  {
   "cell_type": "code",
   "execution_count": 248,
   "metadata": {},
   "outputs": [
    {
     "data": {
      "text/plain": [
       "{'season': '20182019',\n",
       " 'stat': {'timeOnIce': '1534:12',\n",
       "  'assists': 10,\n",
       "  'goals': 3,\n",
       "  'pim': 32,\n",
       "  'shots': 84,\n",
       "  'games': 79,\n",
       "  'hits': 94,\n",
       "  'powerPlayGoals': 0,\n",
       "  'powerPlayPoints': 0,\n",
       "  'powerPlayTimeOnIce': '02:23',\n",
       "  'evenTimeOnIce': '1303:27',\n",
       "  'penaltyMinutes': '32',\n",
       "  'faceOffPct': 0.0,\n",
       "  'shotPct': 3.57,\n",
       "  'gameWinningGoals': 0,\n",
       "  'overTimeGoals': 0,\n",
       "  'shortHandedGoals': 0,\n",
       "  'shortHandedPoints': 0,\n",
       "  'shortHandedTimeOnIce': '228:22',\n",
       "  'blocked': 119,\n",
       "  'plusMinus': -9,\n",
       "  'points': 13,\n",
       "  'shifts': 2061,\n",
       "  'timeOnIcePerGame': '19:25',\n",
       "  'evenTimeOnIcePerGame': '16:29',\n",
       "  'shortHandedTimeOnIcePerGame': '02:53',\n",
       "  'powerPlayTimeOnIcePerGame': '00:01'}}"
      ]
     },
     "execution_count": 248,
     "metadata": {},
     "output_type": "execute_result"
    }
   ],
   "source": [
    "# test the function on one player\n",
    "test_url = df_rangers_roster[\"player_stats_link\"][0]\n",
    "test_return = get_player_stats(test_url)\n",
    "test_return\n",
    "#pd.json_normalize(test_return['people'])\n"
   ]
  },
  {
   "cell_type": "markdown",
   "metadata": {},
   "source": [
    "### Store the results in a data frame"
   ]
  },
  {
   "cell_type": "code",
   "execution_count": 249,
   "metadata": {},
   "outputs": [],
   "source": [
    "# get stats for each player\n",
    "df_rangers_roster[\"player_json\"] =  df_rangers_roster[\"player_stats_link\"].apply(get_player_stats)"
   ]
  },
  {
   "cell_type": "code",
   "execution_count": 255,
   "metadata": {},
   "outputs": [
    {
     "data": {
      "text/plain": [
       "{'season': '20182019',\n",
       " 'stat': {'timeOnIce': '1534:12',\n",
       "  'assists': 10,\n",
       "  'goals': 3,\n",
       "  'pim': 32,\n",
       "  'shots': 84,\n",
       "  'games': 79,\n",
       "  'hits': 94,\n",
       "  'powerPlayGoals': 0,\n",
       "  'powerPlayPoints': 0,\n",
       "  'powerPlayTimeOnIce': '02:23',\n",
       "  'evenTimeOnIce': '1303:27',\n",
       "  'penaltyMinutes': '32',\n",
       "  'faceOffPct': 0.0,\n",
       "  'shotPct': 3.57,\n",
       "  'gameWinningGoals': 0,\n",
       "  'overTimeGoals': 0,\n",
       "  'shortHandedGoals': 0,\n",
       "  'shortHandedPoints': 0,\n",
       "  'shortHandedTimeOnIce': '228:22',\n",
       "  'blocked': 119,\n",
       "  'plusMinus': -9,\n",
       "  'points': 13,\n",
       "  'shifts': 2061,\n",
       "  'timeOnIcePerGame': '19:25',\n",
       "  'evenTimeOnIcePerGame': '16:29',\n",
       "  'shortHandedTimeOnIcePerGame': '02:53',\n",
       "  'powerPlayTimeOnIcePerGame': '00:01'}}"
      ]
     },
     "execution_count": 255,
     "metadata": {},
     "output_type": "execute_result"
    }
   ],
   "source": [
    "df_rangers_roster[\"player_json\"][0]"
   ]
  },
  {
   "cell_type": "code",
   "execution_count": 256,
   "metadata": {},
   "outputs": [
    {
     "data": {
      "text/html": [
       "<div>\n",
       "<style scoped>\n",
       "    .dataframe tbody tr th:only-of-type {\n",
       "        vertical-align: middle;\n",
       "    }\n",
       "\n",
       "    .dataframe tbody tr th {\n",
       "        vertical-align: top;\n",
       "    }\n",
       "\n",
       "    .dataframe thead th {\n",
       "        text-align: right;\n",
       "    }\n",
       "</style>\n",
       "<table border=\"1\" class=\"dataframe\">\n",
       "  <thead>\n",
       "    <tr style=\"text-align: right;\">\n",
       "      <th></th>\n",
       "      <th>season</th>\n",
       "      <th>stat.timeOnIce</th>\n",
       "      <th>stat.assists</th>\n",
       "      <th>stat.goals</th>\n",
       "      <th>stat.pim</th>\n",
       "      <th>stat.shots</th>\n",
       "      <th>stat.games</th>\n",
       "      <th>stat.hits</th>\n",
       "      <th>stat.powerPlayGoals</th>\n",
       "      <th>stat.powerPlayPoints</th>\n",
       "      <th>...</th>\n",
       "      <th>stat.evenShots</th>\n",
       "      <th>stat.powerPlayShots</th>\n",
       "      <th>stat.savePercentage</th>\n",
       "      <th>stat.goalAgainstAverage</th>\n",
       "      <th>stat.gamesStarted</th>\n",
       "      <th>stat.shotsAgainst</th>\n",
       "      <th>stat.goalsAgainst</th>\n",
       "      <th>stat.powerPlaySavePercentage</th>\n",
       "      <th>stat.shortHandedSavePercentage</th>\n",
       "      <th>stat.evenStrengthSavePercentage</th>\n",
       "    </tr>\n",
       "  </thead>\n",
       "  <tbody>\n",
       "    <tr>\n",
       "      <th>0</th>\n",
       "      <td>20182019</td>\n",
       "      <td>1534:12</td>\n",
       "      <td>10.0</td>\n",
       "      <td>3.0</td>\n",
       "      <td>32.0</td>\n",
       "      <td>84.0</td>\n",
       "      <td>79.0</td>\n",
       "      <td>94.0</td>\n",
       "      <td>0.0</td>\n",
       "      <td>0.0</td>\n",
       "      <td>...</td>\n",
       "      <td>NaN</td>\n",
       "      <td>NaN</td>\n",
       "      <td>NaN</td>\n",
       "      <td>NaN</td>\n",
       "      <td>NaN</td>\n",
       "      <td>NaN</td>\n",
       "      <td>NaN</td>\n",
       "      <td>NaN</td>\n",
       "      <td>NaN</td>\n",
       "      <td>NaN</td>\n",
       "    </tr>\n",
       "    <tr>\n",
       "      <th>1</th>\n",
       "      <td>20182019</td>\n",
       "      <td>963:38</td>\n",
       "      <td>9.0</td>\n",
       "      <td>4.0</td>\n",
       "      <td>71.0</td>\n",
       "      <td>66.0</td>\n",
       "      <td>63.0</td>\n",
       "      <td>100.0</td>\n",
       "      <td>0.0</td>\n",
       "      <td>0.0</td>\n",
       "      <td>...</td>\n",
       "      <td>NaN</td>\n",
       "      <td>NaN</td>\n",
       "      <td>NaN</td>\n",
       "      <td>NaN</td>\n",
       "      <td>NaN</td>\n",
       "      <td>NaN</td>\n",
       "      <td>NaN</td>\n",
       "      <td>NaN</td>\n",
       "      <td>NaN</td>\n",
       "      <td>NaN</td>\n",
       "    </tr>\n",
       "    <tr>\n",
       "      <th>2</th>\n",
       "      <td>20182019</td>\n",
       "      <td>347:55</td>\n",
       "      <td>4.0</td>\n",
       "      <td>2.0</td>\n",
       "      <td>75.0</td>\n",
       "      <td>34.0</td>\n",
       "      <td>43.0</td>\n",
       "      <td>76.0</td>\n",
       "      <td>0.0</td>\n",
       "      <td>0.0</td>\n",
       "      <td>...</td>\n",
       "      <td>NaN</td>\n",
       "      <td>NaN</td>\n",
       "      <td>NaN</td>\n",
       "      <td>NaN</td>\n",
       "      <td>NaN</td>\n",
       "      <td>NaN</td>\n",
       "      <td>NaN</td>\n",
       "      <td>NaN</td>\n",
       "      <td>NaN</td>\n",
       "      <td>NaN</td>\n",
       "    </tr>\n",
       "    <tr>\n",
       "      <th>3</th>\n",
       "      <td>20182019</td>\n",
       "      <td>1375:04</td>\n",
       "      <td>24.0</td>\n",
       "      <td>28.0</td>\n",
       "      <td>57.0</td>\n",
       "      <td>201.0</td>\n",
       "      <td>79.0</td>\n",
       "      <td>159.0</td>\n",
       "      <td>7.0</td>\n",
       "      <td>12.0</td>\n",
       "      <td>...</td>\n",
       "      <td>NaN</td>\n",
       "      <td>NaN</td>\n",
       "      <td>NaN</td>\n",
       "      <td>NaN</td>\n",
       "      <td>NaN</td>\n",
       "      <td>NaN</td>\n",
       "      <td>NaN</td>\n",
       "      <td>NaN</td>\n",
       "      <td>NaN</td>\n",
       "      <td>NaN</td>\n",
       "    </tr>\n",
       "    <tr>\n",
       "      <th>4</th>\n",
       "      <td>20182019</td>\n",
       "      <td>437:07</td>\n",
       "      <td>5.0</td>\n",
       "      <td>6.0</td>\n",
       "      <td>8.0</td>\n",
       "      <td>27.0</td>\n",
       "      <td>41.0</td>\n",
       "      <td>30.0</td>\n",
       "      <td>0.0</td>\n",
       "      <td>0.0</td>\n",
       "      <td>...</td>\n",
       "      <td>NaN</td>\n",
       "      <td>NaN</td>\n",
       "      <td>NaN</td>\n",
       "      <td>NaN</td>\n",
       "      <td>NaN</td>\n",
       "      <td>NaN</td>\n",
       "      <td>NaN</td>\n",
       "      <td>NaN</td>\n",
       "      <td>NaN</td>\n",
       "      <td>NaN</td>\n",
       "    </tr>\n",
       "  </tbody>\n",
       "</table>\n",
       "<p>5 rows × 48 columns</p>\n",
       "</div>"
      ],
      "text/plain": [
       "     season stat.timeOnIce  stat.assists  stat.goals  stat.pim  stat.shots  \\\n",
       "0  20182019        1534:12          10.0         3.0      32.0        84.0   \n",
       "1  20182019         963:38           9.0         4.0      71.0        66.0   \n",
       "2  20182019         347:55           4.0         2.0      75.0        34.0   \n",
       "3  20182019        1375:04          24.0        28.0      57.0       201.0   \n",
       "4  20182019         437:07           5.0         6.0       8.0        27.0   \n",
       "\n",
       "   stat.games  stat.hits  stat.powerPlayGoals  stat.powerPlayPoints  ...  \\\n",
       "0        79.0       94.0                  0.0                   0.0  ...   \n",
       "1        63.0      100.0                  0.0                   0.0  ...   \n",
       "2        43.0       76.0                  0.0                   0.0  ...   \n",
       "3        79.0      159.0                  7.0                  12.0  ...   \n",
       "4        41.0       30.0                  0.0                   0.0  ...   \n",
       "\n",
       "  stat.evenShots stat.powerPlayShots stat.savePercentage  \\\n",
       "0            NaN                 NaN                 NaN   \n",
       "1            NaN                 NaN                 NaN   \n",
       "2            NaN                 NaN                 NaN   \n",
       "3            NaN                 NaN                 NaN   \n",
       "4            NaN                 NaN                 NaN   \n",
       "\n",
       "   stat.goalAgainstAverage  stat.gamesStarted  stat.shotsAgainst  \\\n",
       "0                      NaN                NaN                NaN   \n",
       "1                      NaN                NaN                NaN   \n",
       "2                      NaN                NaN                NaN   \n",
       "3                      NaN                NaN                NaN   \n",
       "4                      NaN                NaN                NaN   \n",
       "\n",
       "   stat.goalsAgainst  stat.powerPlaySavePercentage  \\\n",
       "0                NaN                           NaN   \n",
       "1                NaN                           NaN   \n",
       "2                NaN                           NaN   \n",
       "3                NaN                           NaN   \n",
       "4                NaN                           NaN   \n",
       "\n",
       "   stat.shortHandedSavePercentage stat.evenStrengthSavePercentage  \n",
       "0                             NaN                             NaN  \n",
       "1                             NaN                             NaN  \n",
       "2                             NaN                             NaN  \n",
       "3                             NaN                             NaN  \n",
       "4                             NaN                             NaN  \n",
       "\n",
       "[5 rows x 48 columns]"
      ]
     },
     "execution_count": 256,
     "metadata": {},
     "output_type": "execute_result"
    }
   ],
   "source": [
    "df_rangers_stats_2018_2019 = pd.json_normalize(df_rangers_roster[\"player_json\"])\n",
    "df_rangers_stats_2018_2019.head()"
   ]
  },
  {
   "cell_type": "code",
   "execution_count": 252,
   "metadata": {},
   "outputs": [
    {
     "data": {
      "text/html": [
       "<div>\n",
       "<style scoped>\n",
       "    .dataframe tbody tr th:only-of-type {\n",
       "        vertical-align: middle;\n",
       "    }\n",
       "\n",
       "    .dataframe tbody tr th {\n",
       "        vertical-align: top;\n",
       "    }\n",
       "\n",
       "    .dataframe thead th {\n",
       "        text-align: right;\n",
       "    }\n",
       "</style>\n",
       "<table border=\"1\" class=\"dataframe\">\n",
       "  <thead>\n",
       "    <tr style=\"text-align: right;\">\n",
       "      <th></th>\n",
       "      <th>jerseyNumber</th>\n",
       "      <th>person.id</th>\n",
       "      <th>person.fullName</th>\n",
       "      <th>person.link</th>\n",
       "      <th>position.code</th>\n",
       "      <th>position.name</th>\n",
       "      <th>position.type</th>\n",
       "      <th>position.abbreviation</th>\n",
       "      <th>player_stats_link</th>\n",
       "      <th>player_json</th>\n",
       "    </tr>\n",
       "  </thead>\n",
       "  <tbody>\n",
       "    <tr>\n",
       "      <th>18</th>\n",
       "      <td>23</td>\n",
       "      <td>8479323</td>\n",
       "      <td>Adam Fox</td>\n",
       "      <td>/api/v1/people/8479323</td>\n",
       "      <td>D</td>\n",
       "      <td>Defenseman</td>\n",
       "      <td>Defenseman</td>\n",
       "      <td>D</td>\n",
       "      <td>https://statsapi.web.nhl.com/api/v1/people/847...</td>\n",
       "      <td>{}</td>\n",
       "    </tr>\n",
       "    <tr>\n",
       "      <th>20</th>\n",
       "      <td>12</td>\n",
       "      <td>8479328</td>\n",
       "      <td>Julien Gauthier</td>\n",
       "      <td>/api/v1/people/8479328</td>\n",
       "      <td>R</td>\n",
       "      <td>Right Wing</td>\n",
       "      <td>Forward</td>\n",
       "      <td>RW</td>\n",
       "      <td>https://statsapi.web.nhl.com/api/v1/people/847...</td>\n",
       "      <td>{}</td>\n",
       "    </tr>\n",
       "    <tr>\n",
       "      <th>26</th>\n",
       "      <td>24</td>\n",
       "      <td>8481554</td>\n",
       "      <td>Kaapo Kakko</td>\n",
       "      <td>/api/v1/people/8481554</td>\n",
       "      <td>R</td>\n",
       "      <td>Right Wing</td>\n",
       "      <td>Forward</td>\n",
       "      <td>RW</td>\n",
       "      <td>https://statsapi.web.nhl.com/api/v1/people/848...</td>\n",
       "      <td>{}</td>\n",
       "    </tr>\n",
       "    <tr>\n",
       "      <th>28</th>\n",
       "      <td>31</td>\n",
       "      <td>8478048</td>\n",
       "      <td>Igor Shesterkin</td>\n",
       "      <td>/api/v1/people/8478048</td>\n",
       "      <td>G</td>\n",
       "      <td>Goalie</td>\n",
       "      <td>Goalie</td>\n",
       "      <td>G</td>\n",
       "      <td>https://statsapi.web.nhl.com/api/v1/people/847...</td>\n",
       "      <td>{}</td>\n",
       "    </tr>\n",
       "  </tbody>\n",
       "</table>\n",
       "</div>"
      ],
      "text/plain": [
       "   jerseyNumber person.id  person.fullName             person.link  \\\n",
       "18           23   8479323         Adam Fox  /api/v1/people/8479323   \n",
       "20           12   8479328  Julien Gauthier  /api/v1/people/8479328   \n",
       "26           24   8481554      Kaapo Kakko  /api/v1/people/8481554   \n",
       "28           31   8478048  Igor Shesterkin  /api/v1/people/8478048   \n",
       "\n",
       "   position.code position.name position.type position.abbreviation  \\\n",
       "18             D    Defenseman    Defenseman                     D   \n",
       "20             R    Right Wing       Forward                    RW   \n",
       "26             R    Right Wing       Forward                    RW   \n",
       "28             G        Goalie        Goalie                     G   \n",
       "\n",
       "                                    player_stats_link player_json  \n",
       "18  https://statsapi.web.nhl.com/api/v1/people/847...          {}  \n",
       "20  https://statsapi.web.nhl.com/api/v1/people/847...          {}  \n",
       "26  https://statsapi.web.nhl.com/api/v1/people/848...          {}  \n",
       "28  https://statsapi.web.nhl.com/api/v1/people/847...          {}  "
      ]
     },
     "execution_count": 252,
     "metadata": {},
     "output_type": "execute_result"
    }
   ],
   "source": [
    "#find the players from 2019-2020 roster that did have stats in 2018-2019\n",
    "#they were all rookies in 2018-2019\n",
    "df_rangers_roster[df_rangers_stats_2018_2019['season'].isnull().values]"
   ]
  },
  {
   "cell_type": "code",
   "execution_count": 253,
   "metadata": {},
   "outputs": [
    {
     "data": {
      "text/plain": [
       "17    6.0\n",
       "Name: stat.powerPlayGoals, dtype: float64"
      ]
     },
     "execution_count": 253,
     "metadata": {},
     "output_type": "execute_result"
    }
   ],
   "source": [
    "df_rangers_stats = pd.concat([df_rangers_roster, df_rangers_stats_2018_2019], axis = 1)\n",
    "df_rangers_stats[df_rangers_stats[\"person.id\"] == artemi_id][\"stat.powerPlayGoals\"]"
   ]
  }
 ],
 "metadata": {
  "kernelspec": {
   "display_name": "Python 3",
   "language": "python",
   "name": "python3"
  },
  "language_info": {
   "codemirror_mode": {
    "name": "ipython",
    "version": 3
   },
   "file_extension": ".py",
   "mimetype": "text/x-python",
   "name": "python",
   "nbconvert_exporter": "python",
   "pygments_lexer": "ipython3",
   "version": "3.8.3"
  }
 },
 "nbformat": 4,
 "nbformat_minor": 4
}

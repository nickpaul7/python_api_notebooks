{
 "cells": [
  {
   "cell_type": "markdown",
   "metadata": {},
   "source": [
    "# NHL API\n",
    "\n",
    "In this tutorial we will use the NHL API to practice pulling data from an API and formatting for a downstream process.\n",
    "\n",
    "The NHL API appears to be undocumented but I used the link below, which covers most of the functionality.\n",
    "\n",
    "https://gitlab.com/dword4/nhlapi\n",
    "https://gitlab.com/dword4/nhlapi/-/blob/master/records-api.md\n",
    "\n",
    "Before we get started let's load the following libraries."
   ]
  },
  {
   "cell_type": "markdown",
   "metadata": {},
   "source": [
    "https://records.nhl.com/records/skater-records/goals/skater-most-goals-one-season\n",
    "https://api.nhle.com/stats/rest/en/franchise?sort=fullName&include=lastSeason.id&include=firstSeason.id\n",
    "\n",
    "https://api.nhle.com/stats/rest/en/skater/summary?isAggregate=false&isGame=false&sort=%5B%7B%22property%22:%22points%22,%22direction%22:%22DESC%22%7D,%7B%22property%22:%22goals%22,%22direction%22:%22DESC%22%7D,%7B%22property%22:%22assists%22,%22direction%22:%22DESC%22%7D%5D&start=0&limit=50&factCayenneExp=gamesPlayed%3E=1&cayenneExp=franchiseId%3D32%20and%20gameTypeId=2%20and%20seasonId%3C=20192020%20and%20seasonId%3E=20192020"
   ]
  },
  {
   "cell_type": "code",
   "execution_count": 2,
   "metadata": {},
   "outputs": [],
   "source": [
    "import requests\n",
    "import json\n",
    "import pandas as pd"
   ]
  },
  {
   "cell_type": "markdown",
   "metadata": {},
   "source": [
    "## Get Team Info\n",
    "\n",
    "The first endpoint we will work with will give us infomation about the team:\n",
    "\n",
    "https://statsapi.web.nhl.com/api/v1/teams\n",
    "\n",
    "### Get Request"
   ]
  },
  {
   "cell_type": "code",
   "execution_count": 210,
   "metadata": {},
   "outputs": [],
   "source": [
    "teams_url = \"https://statsapi.web.nhl.com/api/v1/teams\"\n",
    "\n",
    "team_response = requests.get(teams_url)\n"
   ]
  },
  {
   "cell_type": "code",
   "execution_count": 211,
   "metadata": {
    "scrolled": true
   },
   "outputs": [
    {
     "name": "stdout",
     "output_type": "stream",
     "text": [
      "200\n"
     ]
    }
   ],
   "source": [
    "# check that reponse is valid\n",
    "print(team_response.status_code)"
   ]
  },
  {
   "cell_type": "markdown",
   "metadata": {},
   "source": [
    "### API Status Code\n",
    "200: Everything went okay, and the result has been returned (if any). <br>\n",
    "301: The server is redirecting you to a different endpoint. This can happen when a company switches domain names, or an endpoint name is changed. <br>\n",
    "400: The server thinks you made a bad request. This can happen when you don’t send along the right data, among other things.<br>\n",
    "401: The server thinks you’re not authenticated. Many APIs require login ccredentials, so this happens when you don’t send the right credentials to access an API. <br>\n",
    "403: The resource you’re trying to access is forbidden: you don’t have the right permissions to see it.<br>\n",
    "404: The resource you tried to access wasn’t found on the server. <br>\n",
    "503: The server is not ready to handle the request. <br>"
   ]
  },
  {
   "cell_type": "markdown",
   "metadata": {},
   "source": [
    "With 200 respone code we are good to start looking at the conent.\n",
    "\n",
    "### Pull out the content"
   ]
  },
  {
   "cell_type": "markdown",
   "metadata": {},
   "source": [
    "To get the conents of our reposne object, we can use two methods:\n",
    "1. .content with json.loads\n",
    "1. .json()"
   ]
  },
  {
   "cell_type": "code",
   "execution_count": 212,
   "metadata": {},
   "outputs": [
    {
     "data": {
      "text/plain": [
       "dict"
      ]
     },
     "execution_count": 212,
     "metadata": {},
     "output_type": "execute_result"
    }
   ],
   "source": [
    "# convert the content into a python dictionary\n",
    "team_content = json.loads(team_response.content)\n",
    "type(team_content)"
   ]
  },
  {
   "cell_type": "code",
   "execution_count": 213,
   "metadata": {},
   "outputs": [
    {
     "data": {
      "text/plain": [
       "dict_keys(['copyright', 'teams'])"
      ]
     },
     "execution_count": 213,
     "metadata": {},
     "output_type": "execute_result"
    }
   ],
   "source": [
    "team_content.keys()"
   ]
  },
  {
   "cell_type": "markdown",
   "metadata": {},
   "source": [
    "We can now access the contents of the data using dictionary actions."
   ]
  },
  {
   "cell_type": "code",
   "execution_count": 214,
   "metadata": {},
   "outputs": [
    {
     "data": {
      "text/plain": [
       "{'id': 1,\n",
       " 'name': 'New Jersey Devils',\n",
       " 'link': '/api/v1/teams/1',\n",
       " 'venue': {'name': 'Prudential Center',\n",
       "  'link': '/api/v1/venues/null',\n",
       "  'city': 'Newark',\n",
       "  'timeZone': {'id': 'America/New_York', 'offset': -5, 'tz': 'EST'}},\n",
       " 'abbreviation': 'NJD',\n",
       " 'teamName': 'Devils',\n",
       " 'locationName': 'New Jersey',\n",
       " 'firstYearOfPlay': '1982',\n",
       " 'division': {'id': 18,\n",
       "  'name': 'Metropolitan',\n",
       "  'nameShort': 'Metro',\n",
       "  'link': '/api/v1/divisions/18',\n",
       "  'abbreviation': 'M'},\n",
       " 'conference': {'id': 6, 'name': 'Eastern', 'link': '/api/v1/conferences/6'},\n",
       " 'franchise': {'franchiseId': 23,\n",
       "  'teamName': 'Devils',\n",
       "  'link': '/api/v1/franchises/23'},\n",
       " 'shortName': 'New Jersey',\n",
       " 'officialSiteUrl': 'http://www.newjerseydevils.com/',\n",
       " 'franchiseId': 23,\n",
       " 'active': True}"
      ]
     },
     "execution_count": 214,
     "metadata": {},
     "output_type": "execute_result"
    }
   ],
   "source": [
    "team_content['teams'][0]"
   ]
  },
  {
   "cell_type": "code",
   "execution_count": 215,
   "metadata": {},
   "outputs": [
    {
     "data": {
      "text/plain": [
       "True"
      ]
     },
     "execution_count": 215,
     "metadata": {},
     "output_type": "execute_result"
    }
   ],
   "source": [
    "team_response.json() == json.loads(team_response.content)"
   ]
  },
  {
   "cell_type": "markdown",
   "metadata": {},
   "source": [
    "### Convert the content to a DataFrame"
   ]
  },
  {
   "cell_type": "code",
   "execution_count": 216,
   "metadata": {},
   "outputs": [
    {
     "data": {
      "text/html": [
       "<div>\n",
       "<style scoped>\n",
       "    .dataframe tbody tr th:only-of-type {\n",
       "        vertical-align: middle;\n",
       "    }\n",
       "\n",
       "    .dataframe tbody tr th {\n",
       "        vertical-align: top;\n",
       "    }\n",
       "\n",
       "    .dataframe thead th {\n",
       "        text-align: right;\n",
       "    }\n",
       "</style>\n",
       "<table border=\"1\" class=\"dataframe\">\n",
       "  <thead>\n",
       "    <tr style=\"text-align: right;\">\n",
       "      <th></th>\n",
       "      <th>id</th>\n",
       "      <th>name</th>\n",
       "      <th>link</th>\n",
       "      <th>venue</th>\n",
       "      <th>abbreviation</th>\n",
       "      <th>teamName</th>\n",
       "      <th>locationName</th>\n",
       "      <th>firstYearOfPlay</th>\n",
       "      <th>division</th>\n",
       "      <th>conference</th>\n",
       "      <th>franchise</th>\n",
       "      <th>shortName</th>\n",
       "      <th>officialSiteUrl</th>\n",
       "      <th>franchiseId</th>\n",
       "      <th>active</th>\n",
       "    </tr>\n",
       "  </thead>\n",
       "  <tbody>\n",
       "    <tr>\n",
       "      <th>0</th>\n",
       "      <td>1</td>\n",
       "      <td>New Jersey Devils</td>\n",
       "      <td>/api/v1/teams/1</td>\n",
       "      <td>{'name': 'Prudential Center', 'link': '/api/v1...</td>\n",
       "      <td>NJD</td>\n",
       "      <td>Devils</td>\n",
       "      <td>New Jersey</td>\n",
       "      <td>1982</td>\n",
       "      <td>{'id': 18, 'name': 'Metropolitan', 'nameShort'...</td>\n",
       "      <td>{'id': 6, 'name': 'Eastern', 'link': '/api/v1/...</td>\n",
       "      <td>{'franchiseId': 23, 'teamName': 'Devils', 'lin...</td>\n",
       "      <td>New Jersey</td>\n",
       "      <td>http://www.newjerseydevils.com/</td>\n",
       "      <td>23</td>\n",
       "      <td>True</td>\n",
       "    </tr>\n",
       "    <tr>\n",
       "      <th>1</th>\n",
       "      <td>2</td>\n",
       "      <td>New York Islanders</td>\n",
       "      <td>/api/v1/teams/2</td>\n",
       "      <td>{'id': 5026, 'name': 'Barclays Center', 'link'...</td>\n",
       "      <td>NYI</td>\n",
       "      <td>Islanders</td>\n",
       "      <td>New York</td>\n",
       "      <td>1972</td>\n",
       "      <td>{'id': 18, 'name': 'Metropolitan', 'nameShort'...</td>\n",
       "      <td>{'id': 6, 'name': 'Eastern', 'link': '/api/v1/...</td>\n",
       "      <td>{'franchiseId': 22, 'teamName': 'Islanders', '...</td>\n",
       "      <td>NY Islanders</td>\n",
       "      <td>http://www.newyorkislanders.com/</td>\n",
       "      <td>22</td>\n",
       "      <td>True</td>\n",
       "    </tr>\n",
       "    <tr>\n",
       "      <th>2</th>\n",
       "      <td>3</td>\n",
       "      <td>New York Rangers</td>\n",
       "      <td>/api/v1/teams/3</td>\n",
       "      <td>{'id': 5054, 'name': 'Madison Square Garden', ...</td>\n",
       "      <td>NYR</td>\n",
       "      <td>Rangers</td>\n",
       "      <td>New York</td>\n",
       "      <td>1926</td>\n",
       "      <td>{'id': 18, 'name': 'Metropolitan', 'nameShort'...</td>\n",
       "      <td>{'id': 6, 'name': 'Eastern', 'link': '/api/v1/...</td>\n",
       "      <td>{'franchiseId': 10, 'teamName': 'Rangers', 'li...</td>\n",
       "      <td>NY Rangers</td>\n",
       "      <td>http://www.newyorkrangers.com/</td>\n",
       "      <td>10</td>\n",
       "      <td>True</td>\n",
       "    </tr>\n",
       "    <tr>\n",
       "      <th>3</th>\n",
       "      <td>4</td>\n",
       "      <td>Philadelphia Flyers</td>\n",
       "      <td>/api/v1/teams/4</td>\n",
       "      <td>{'id': 5096, 'name': 'Wells Fargo Center', 'li...</td>\n",
       "      <td>PHI</td>\n",
       "      <td>Flyers</td>\n",
       "      <td>Philadelphia</td>\n",
       "      <td>1967</td>\n",
       "      <td>{'id': 18, 'name': 'Metropolitan', 'nameShort'...</td>\n",
       "      <td>{'id': 6, 'name': 'Eastern', 'link': '/api/v1/...</td>\n",
       "      <td>{'franchiseId': 16, 'teamName': 'Flyers', 'lin...</td>\n",
       "      <td>Philadelphia</td>\n",
       "      <td>http://www.philadelphiaflyers.com/</td>\n",
       "      <td>16</td>\n",
       "      <td>True</td>\n",
       "    </tr>\n",
       "    <tr>\n",
       "      <th>4</th>\n",
       "      <td>5</td>\n",
       "      <td>Pittsburgh Penguins</td>\n",
       "      <td>/api/v1/teams/5</td>\n",
       "      <td>{'id': 5034, 'name': 'PPG Paints Arena', 'link...</td>\n",
       "      <td>PIT</td>\n",
       "      <td>Penguins</td>\n",
       "      <td>Pittsburgh</td>\n",
       "      <td>1967</td>\n",
       "      <td>{'id': 18, 'name': 'Metropolitan', 'nameShort'...</td>\n",
       "      <td>{'id': 6, 'name': 'Eastern', 'link': '/api/v1/...</td>\n",
       "      <td>{'franchiseId': 17, 'teamName': 'Penguins', 'l...</td>\n",
       "      <td>Pittsburgh</td>\n",
       "      <td>http://pittsburghpenguins.com/</td>\n",
       "      <td>17</td>\n",
       "      <td>True</td>\n",
       "    </tr>\n",
       "  </tbody>\n",
       "</table>\n",
       "</div>"
      ],
      "text/plain": [
       "   id                 name             link  \\\n",
       "0   1    New Jersey Devils  /api/v1/teams/1   \n",
       "1   2   New York Islanders  /api/v1/teams/2   \n",
       "2   3     New York Rangers  /api/v1/teams/3   \n",
       "3   4  Philadelphia Flyers  /api/v1/teams/4   \n",
       "4   5  Pittsburgh Penguins  /api/v1/teams/5   \n",
       "\n",
       "                                               venue abbreviation   teamName  \\\n",
       "0  {'name': 'Prudential Center', 'link': '/api/v1...          NJD     Devils   \n",
       "1  {'id': 5026, 'name': 'Barclays Center', 'link'...          NYI  Islanders   \n",
       "2  {'id': 5054, 'name': 'Madison Square Garden', ...          NYR    Rangers   \n",
       "3  {'id': 5096, 'name': 'Wells Fargo Center', 'li...          PHI     Flyers   \n",
       "4  {'id': 5034, 'name': 'PPG Paints Arena', 'link...          PIT   Penguins   \n",
       "\n",
       "   locationName firstYearOfPlay  \\\n",
       "0    New Jersey            1982   \n",
       "1      New York            1972   \n",
       "2      New York            1926   \n",
       "3  Philadelphia            1967   \n",
       "4    Pittsburgh            1967   \n",
       "\n",
       "                                            division  \\\n",
       "0  {'id': 18, 'name': 'Metropolitan', 'nameShort'...   \n",
       "1  {'id': 18, 'name': 'Metropolitan', 'nameShort'...   \n",
       "2  {'id': 18, 'name': 'Metropolitan', 'nameShort'...   \n",
       "3  {'id': 18, 'name': 'Metropolitan', 'nameShort'...   \n",
       "4  {'id': 18, 'name': 'Metropolitan', 'nameShort'...   \n",
       "\n",
       "                                          conference  \\\n",
       "0  {'id': 6, 'name': 'Eastern', 'link': '/api/v1/...   \n",
       "1  {'id': 6, 'name': 'Eastern', 'link': '/api/v1/...   \n",
       "2  {'id': 6, 'name': 'Eastern', 'link': '/api/v1/...   \n",
       "3  {'id': 6, 'name': 'Eastern', 'link': '/api/v1/...   \n",
       "4  {'id': 6, 'name': 'Eastern', 'link': '/api/v1/...   \n",
       "\n",
       "                                           franchise     shortName  \\\n",
       "0  {'franchiseId': 23, 'teamName': 'Devils', 'lin...    New Jersey   \n",
       "1  {'franchiseId': 22, 'teamName': 'Islanders', '...  NY Islanders   \n",
       "2  {'franchiseId': 10, 'teamName': 'Rangers', 'li...    NY Rangers   \n",
       "3  {'franchiseId': 16, 'teamName': 'Flyers', 'lin...  Philadelphia   \n",
       "4  {'franchiseId': 17, 'teamName': 'Penguins', 'l...    Pittsburgh   \n",
       "\n",
       "                      officialSiteUrl  franchiseId  active  \n",
       "0     http://www.newjerseydevils.com/           23    True  \n",
       "1    http://www.newyorkislanders.com/           22    True  \n",
       "2      http://www.newyorkrangers.com/           10    True  \n",
       "3  http://www.philadelphiaflyers.com/           16    True  \n",
       "4      http://pittsburghpenguins.com/           17    True  "
      ]
     },
     "execution_count": 216,
     "metadata": {},
     "output_type": "execute_result"
    }
   ],
   "source": [
    "#convert the dictionary into a dataframe\n",
    "df_team_content = pd.DataFrame(team_content['teams'])\n",
    "df_team_content.head()\n",
    "#df_team_content.info()"
   ]
  },
  {
   "cell_type": "code",
   "execution_count": 217,
   "metadata": {},
   "outputs": [
    {
     "name": "stdout",
     "output_type": "stream",
     "text": [
      "<class 'pandas.core.frame.DataFrame'>\n",
      "RangeIndex: 31 entries, 0 to 30\n",
      "Data columns (total 15 columns):\n",
      " #   Column           Non-Null Count  Dtype  \n",
      "---  ------           --------------  -----  \n",
      " 0   id               31 non-null     Int64  \n",
      " 1   name             31 non-null     string \n",
      " 2   link             31 non-null     string \n",
      " 3   venue            31 non-null     object \n",
      " 4   abbreviation     31 non-null     string \n",
      " 5   teamName         31 non-null     string \n",
      " 6   locationName     31 non-null     string \n",
      " 7   firstYearOfPlay  31 non-null     string \n",
      " 8   division         31 non-null     object \n",
      " 9   conference       31 non-null     object \n",
      " 10  franchise        31 non-null     object \n",
      " 11  shortName        31 non-null     string \n",
      " 12  officialSiteUrl  31 non-null     string \n",
      " 13  franchiseId      31 non-null     Int64  \n",
      " 14  active           31 non-null     boolean\n",
      "dtypes: Int64(2), boolean(1), object(4), string(8)\n",
      "memory usage: 3.6+ KB\n"
     ]
    }
   ],
   "source": [
    "#convert the types of most columns in the dataframe\n",
    "df_team_content2 = df_team_content.convert_dtypes()\n",
    "df_team_content2.info()"
   ]
  },
  {
   "cell_type": "code",
   "execution_count": 218,
   "metadata": {
    "scrolled": true
   },
   "outputs": [
    {
     "data": {
      "text/html": [
       "<div>\n",
       "<style scoped>\n",
       "    .dataframe tbody tr th:only-of-type {\n",
       "        vertical-align: middle;\n",
       "    }\n",
       "\n",
       "    .dataframe tbody tr th {\n",
       "        vertical-align: top;\n",
       "    }\n",
       "\n",
       "    .dataframe thead th {\n",
       "        text-align: right;\n",
       "    }\n",
       "</style>\n",
       "<table border=\"1\" class=\"dataframe\">\n",
       "  <thead>\n",
       "    <tr style=\"text-align: right;\">\n",
       "      <th></th>\n",
       "      <th>id</th>\n",
       "      <th>name</th>\n",
       "      <th>link</th>\n",
       "      <th>venue</th>\n",
       "      <th>abbreviation</th>\n",
       "      <th>teamName</th>\n",
       "      <th>locationName</th>\n",
       "      <th>firstYearOfPlay</th>\n",
       "      <th>division</th>\n",
       "      <th>conference</th>\n",
       "      <th>franchise</th>\n",
       "      <th>shortName</th>\n",
       "      <th>officialSiteUrl</th>\n",
       "      <th>franchiseId</th>\n",
       "      <th>active</th>\n",
       "    </tr>\n",
       "  </thead>\n",
       "  <tbody>\n",
       "    <tr>\n",
       "      <th>2</th>\n",
       "      <td>3</td>\n",
       "      <td>New York Rangers</td>\n",
       "      <td>/api/v1/teams/3</td>\n",
       "      <td>{'id': 5054, 'name': 'Madison Square Garden', ...</td>\n",
       "      <td>NYR</td>\n",
       "      <td>Rangers</td>\n",
       "      <td>New York</td>\n",
       "      <td>1926</td>\n",
       "      <td>{'id': 18, 'name': 'Metropolitan', 'nameShort'...</td>\n",
       "      <td>{'id': 6, 'name': 'Eastern', 'link': '/api/v1/...</td>\n",
       "      <td>{'franchiseId': 10, 'teamName': 'Rangers', 'li...</td>\n",
       "      <td>NY Rangers</td>\n",
       "      <td>http://www.newyorkrangers.com/</td>\n",
       "      <td>10</td>\n",
       "      <td>True</td>\n",
       "    </tr>\n",
       "  </tbody>\n",
       "</table>\n",
       "</div>"
      ],
      "text/plain": [
       "   id              name             link  \\\n",
       "2   3  New York Rangers  /api/v1/teams/3   \n",
       "\n",
       "                                               venue abbreviation teamName  \\\n",
       "2  {'id': 5054, 'name': 'Madison Square Garden', ...          NYR  Rangers   \n",
       "\n",
       "  locationName firstYearOfPlay  \\\n",
       "2     New York            1926   \n",
       "\n",
       "                                            division  \\\n",
       "2  {'id': 18, 'name': 'Metropolitan', 'nameShort'...   \n",
       "\n",
       "                                          conference  \\\n",
       "2  {'id': 6, 'name': 'Eastern', 'link': '/api/v1/...   \n",
       "\n",
       "                                           franchise   shortName  \\\n",
       "2  {'franchiseId': 10, 'teamName': 'Rangers', 'li...  NY Rangers   \n",
       "\n",
       "                  officialSiteUrl  franchiseId  active  \n",
       "2  http://www.newyorkrangers.com/           10    True  "
      ]
     },
     "execution_count": 218,
     "metadata": {},
     "output_type": "execute_result"
    }
   ],
   "source": [
    "# find the rangers info\n",
    "df_team_content2.query(\"teamName == 'Rangers'\")"
   ]
  },
  {
   "cell_type": "markdown",
   "metadata": {},
   "source": [
    "### json_normalize for DataFrame Conversion"
   ]
  },
  {
   "cell_type": "markdown",
   "metadata": {},
   "source": [
    "Instead of placing the dicitonary in the DataFame function, we could also use the json_normalize function."
   ]
  },
  {
   "cell_type": "code",
   "execution_count": 219,
   "metadata": {},
   "outputs": [
    {
     "name": "stdout",
     "output_type": "stream",
     "text": [
      "<class 'pandas.core.frame.DataFrame'>\n",
      "RangeIndex: 31 entries, 0 to 30\n",
      "Data columns (total 29 columns):\n",
      " #   Column                 Non-Null Count  Dtype  \n",
      "---  ------                 --------------  -----  \n",
      " 0   id                     31 non-null     int64  \n",
      " 1   name                   31 non-null     object \n",
      " 2   link                   31 non-null     object \n",
      " 3   abbreviation           31 non-null     object \n",
      " 4   teamName               31 non-null     object \n",
      " 5   locationName           31 non-null     object \n",
      " 6   firstYearOfPlay        31 non-null     object \n",
      " 7   shortName              31 non-null     object \n",
      " 8   officialSiteUrl        31 non-null     object \n",
      " 9   franchiseId            31 non-null     int64  \n",
      " 10  active                 31 non-null     bool   \n",
      " 11  venue.name             31 non-null     object \n",
      " 12  venue.link             31 non-null     object \n",
      " 13  venue.city             31 non-null     object \n",
      " 14  venue.timeZone.id      31 non-null     object \n",
      " 15  venue.timeZone.offset  31 non-null     int64  \n",
      " 16  venue.timeZone.tz      31 non-null     object \n",
      " 17  division.id            31 non-null     int64  \n",
      " 18  division.name          31 non-null     object \n",
      " 19  division.nameShort     31 non-null     object \n",
      " 20  division.link          31 non-null     object \n",
      " 21  division.abbreviation  31 non-null     object \n",
      " 22  conference.id          31 non-null     int64  \n",
      " 23  conference.name        31 non-null     object \n",
      " 24  conference.link        31 non-null     object \n",
      " 25  franchise.franchiseId  31 non-null     int64  \n",
      " 26  franchise.teamName     31 non-null     object \n",
      " 27  franchise.link         31 non-null     object \n",
      " 28  venue.id               27 non-null     float64\n",
      "dtypes: bool(1), float64(1), int64(6), object(21)\n",
      "memory usage: 6.9+ KB\n"
     ]
    }
   ],
   "source": [
    "df_team_content_jn = pd.json_normalize(team_content['teams'])\n",
    "df_team_content_jn.info()"
   ]
  },
  {
   "cell_type": "markdown",
   "metadata": {},
   "source": [
    "Notice that the `json_normalize()` method flattend nested dictionaries by concatenating the keys."
   ]
  },
  {
   "cell_type": "code",
   "execution_count": 220,
   "metadata": {},
   "outputs": [
    {
     "data": {
      "text/html": [
       "<div>\n",
       "<style scoped>\n",
       "    .dataframe tbody tr th:only-of-type {\n",
       "        vertical-align: middle;\n",
       "    }\n",
       "\n",
       "    .dataframe tbody tr th {\n",
       "        vertical-align: top;\n",
       "    }\n",
       "\n",
       "    .dataframe thead th {\n",
       "        text-align: right;\n",
       "    }\n",
       "</style>\n",
       "<table border=\"1\" class=\"dataframe\">\n",
       "  <thead>\n",
       "    <tr style=\"text-align: right;\">\n",
       "      <th></th>\n",
       "      <th>id</th>\n",
       "      <th>name</th>\n",
       "      <th>link</th>\n",
       "      <th>abbreviation</th>\n",
       "      <th>teamName</th>\n",
       "      <th>locationName</th>\n",
       "      <th>firstYearOfPlay</th>\n",
       "      <th>shortName</th>\n",
       "      <th>officialSiteUrl</th>\n",
       "      <th>franchiseId</th>\n",
       "      <th>...</th>\n",
       "      <th>division.nameShort</th>\n",
       "      <th>division.link</th>\n",
       "      <th>division.abbreviation</th>\n",
       "      <th>conference.id</th>\n",
       "      <th>conference.name</th>\n",
       "      <th>conference.link</th>\n",
       "      <th>franchise.franchiseId</th>\n",
       "      <th>franchise.teamName</th>\n",
       "      <th>franchise.link</th>\n",
       "      <th>venue.id</th>\n",
       "    </tr>\n",
       "  </thead>\n",
       "  <tbody>\n",
       "    <tr>\n",
       "      <th>0</th>\n",
       "      <td>1</td>\n",
       "      <td>New Jersey Devils</td>\n",
       "      <td>/api/v1/teams/1</td>\n",
       "      <td>NJD</td>\n",
       "      <td>Devils</td>\n",
       "      <td>New Jersey</td>\n",
       "      <td>1982</td>\n",
       "      <td>New Jersey</td>\n",
       "      <td>http://www.newjerseydevils.com/</td>\n",
       "      <td>23</td>\n",
       "      <td>...</td>\n",
       "      <td>Metro</td>\n",
       "      <td>/api/v1/divisions/18</td>\n",
       "      <td>M</td>\n",
       "      <td>6</td>\n",
       "      <td>Eastern</td>\n",
       "      <td>/api/v1/conferences/6</td>\n",
       "      <td>23</td>\n",
       "      <td>Devils</td>\n",
       "      <td>/api/v1/franchises/23</td>\n",
       "      <td>NaN</td>\n",
       "    </tr>\n",
       "    <tr>\n",
       "      <th>1</th>\n",
       "      <td>2</td>\n",
       "      <td>New York Islanders</td>\n",
       "      <td>/api/v1/teams/2</td>\n",
       "      <td>NYI</td>\n",
       "      <td>Islanders</td>\n",
       "      <td>New York</td>\n",
       "      <td>1972</td>\n",
       "      <td>NY Islanders</td>\n",
       "      <td>http://www.newyorkislanders.com/</td>\n",
       "      <td>22</td>\n",
       "      <td>...</td>\n",
       "      <td>Metro</td>\n",
       "      <td>/api/v1/divisions/18</td>\n",
       "      <td>M</td>\n",
       "      <td>6</td>\n",
       "      <td>Eastern</td>\n",
       "      <td>/api/v1/conferences/6</td>\n",
       "      <td>22</td>\n",
       "      <td>Islanders</td>\n",
       "      <td>/api/v1/franchises/22</td>\n",
       "      <td>5026.0</td>\n",
       "    </tr>\n",
       "    <tr>\n",
       "      <th>2</th>\n",
       "      <td>3</td>\n",
       "      <td>New York Rangers</td>\n",
       "      <td>/api/v1/teams/3</td>\n",
       "      <td>NYR</td>\n",
       "      <td>Rangers</td>\n",
       "      <td>New York</td>\n",
       "      <td>1926</td>\n",
       "      <td>NY Rangers</td>\n",
       "      <td>http://www.newyorkrangers.com/</td>\n",
       "      <td>10</td>\n",
       "      <td>...</td>\n",
       "      <td>Metro</td>\n",
       "      <td>/api/v1/divisions/18</td>\n",
       "      <td>M</td>\n",
       "      <td>6</td>\n",
       "      <td>Eastern</td>\n",
       "      <td>/api/v1/conferences/6</td>\n",
       "      <td>10</td>\n",
       "      <td>Rangers</td>\n",
       "      <td>/api/v1/franchises/10</td>\n",
       "      <td>5054.0</td>\n",
       "    </tr>\n",
       "    <tr>\n",
       "      <th>3</th>\n",
       "      <td>4</td>\n",
       "      <td>Philadelphia Flyers</td>\n",
       "      <td>/api/v1/teams/4</td>\n",
       "      <td>PHI</td>\n",
       "      <td>Flyers</td>\n",
       "      <td>Philadelphia</td>\n",
       "      <td>1967</td>\n",
       "      <td>Philadelphia</td>\n",
       "      <td>http://www.philadelphiaflyers.com/</td>\n",
       "      <td>16</td>\n",
       "      <td>...</td>\n",
       "      <td>Metro</td>\n",
       "      <td>/api/v1/divisions/18</td>\n",
       "      <td>M</td>\n",
       "      <td>6</td>\n",
       "      <td>Eastern</td>\n",
       "      <td>/api/v1/conferences/6</td>\n",
       "      <td>16</td>\n",
       "      <td>Flyers</td>\n",
       "      <td>/api/v1/franchises/16</td>\n",
       "      <td>5096.0</td>\n",
       "    </tr>\n",
       "    <tr>\n",
       "      <th>4</th>\n",
       "      <td>5</td>\n",
       "      <td>Pittsburgh Penguins</td>\n",
       "      <td>/api/v1/teams/5</td>\n",
       "      <td>PIT</td>\n",
       "      <td>Penguins</td>\n",
       "      <td>Pittsburgh</td>\n",
       "      <td>1967</td>\n",
       "      <td>Pittsburgh</td>\n",
       "      <td>http://pittsburghpenguins.com/</td>\n",
       "      <td>17</td>\n",
       "      <td>...</td>\n",
       "      <td>Metro</td>\n",
       "      <td>/api/v1/divisions/18</td>\n",
       "      <td>M</td>\n",
       "      <td>6</td>\n",
       "      <td>Eastern</td>\n",
       "      <td>/api/v1/conferences/6</td>\n",
       "      <td>17</td>\n",
       "      <td>Penguins</td>\n",
       "      <td>/api/v1/franchises/17</td>\n",
       "      <td>5034.0</td>\n",
       "    </tr>\n",
       "  </tbody>\n",
       "</table>\n",
       "<p>5 rows × 29 columns</p>\n",
       "</div>"
      ],
      "text/plain": [
       "   id                 name             link abbreviation   teamName  \\\n",
       "0   1    New Jersey Devils  /api/v1/teams/1          NJD     Devils   \n",
       "1   2   New York Islanders  /api/v1/teams/2          NYI  Islanders   \n",
       "2   3     New York Rangers  /api/v1/teams/3          NYR    Rangers   \n",
       "3   4  Philadelphia Flyers  /api/v1/teams/4          PHI     Flyers   \n",
       "4   5  Pittsburgh Penguins  /api/v1/teams/5          PIT   Penguins   \n",
       "\n",
       "   locationName firstYearOfPlay     shortName  \\\n",
       "0    New Jersey            1982    New Jersey   \n",
       "1      New York            1972  NY Islanders   \n",
       "2      New York            1926    NY Rangers   \n",
       "3  Philadelphia            1967  Philadelphia   \n",
       "4    Pittsburgh            1967    Pittsburgh   \n",
       "\n",
       "                      officialSiteUrl  franchiseId  ...  division.nameShort  \\\n",
       "0     http://www.newjerseydevils.com/           23  ...               Metro   \n",
       "1    http://www.newyorkislanders.com/           22  ...               Metro   \n",
       "2      http://www.newyorkrangers.com/           10  ...               Metro   \n",
       "3  http://www.philadelphiaflyers.com/           16  ...               Metro   \n",
       "4      http://pittsburghpenguins.com/           17  ...               Metro   \n",
       "\n",
       "          division.link division.abbreviation conference.id conference.name  \\\n",
       "0  /api/v1/divisions/18                     M             6         Eastern   \n",
       "1  /api/v1/divisions/18                     M             6         Eastern   \n",
       "2  /api/v1/divisions/18                     M             6         Eastern   \n",
       "3  /api/v1/divisions/18                     M             6         Eastern   \n",
       "4  /api/v1/divisions/18                     M             6         Eastern   \n",
       "\n",
       "         conference.link franchise.franchiseId  franchise.teamName  \\\n",
       "0  /api/v1/conferences/6                    23              Devils   \n",
       "1  /api/v1/conferences/6                    22           Islanders   \n",
       "2  /api/v1/conferences/6                    10             Rangers   \n",
       "3  /api/v1/conferences/6                    16              Flyers   \n",
       "4  /api/v1/conferences/6                    17            Penguins   \n",
       "\n",
       "          franchise.link venue.id  \n",
       "0  /api/v1/franchises/23      NaN  \n",
       "1  /api/v1/franchises/22   5026.0  \n",
       "2  /api/v1/franchises/10   5054.0  \n",
       "3  /api/v1/franchises/16   5096.0  \n",
       "4  /api/v1/franchises/17   5034.0  \n",
       "\n",
       "[5 rows x 29 columns]"
      ]
     },
     "execution_count": 220,
     "metadata": {},
     "output_type": "execute_result"
    }
   ],
   "source": [
    "df_team_content_jn.head()"
   ]
  },
  {
   "cell_type": "markdown",
   "metadata": {},
   "source": [
    "If there are mulitple levles to the dictionary, each key will be concatenated.  For examample, consider the dictionary in the venue column."
   ]
  },
  {
   "cell_type": "code",
   "execution_count": 221,
   "metadata": {},
   "outputs": [
    {
     "data": {
      "text/plain": [
       "{'name': 'Prudential Center',\n",
       " 'link': '/api/v1/venues/null',\n",
       " 'city': 'Newark',\n",
       " 'timeZone': {'id': 'America/New_York', 'offset': -5, 'tz': 'EST'}}"
      ]
     },
     "execution_count": 221,
     "metadata": {},
     "output_type": "execute_result"
    }
   ],
   "source": [
    "team_content['teams'][0]['venue']"
   ]
  },
  {
   "cell_type": "markdown",
   "metadata": {},
   "source": [
    "Since the value for the `timezone` is a `dict` the parent keys (`venue`, `timeZone`) are concatenated with each key within `timeZone` (`id`, `offset`, `tz`) "
   ]
  },
  {
   "cell_type": "code",
   "execution_count": 222,
   "metadata": {},
   "outputs": [
    {
     "data": {
      "text/plain": [
       "0    EST\n",
       "1    EST\n",
       "2    EST\n",
       "3    EST\n",
       "4    EST\n",
       "Name: venue.timeZone.tz, dtype: object"
      ]
     },
     "execution_count": 222,
     "metadata": {},
     "output_type": "execute_result"
    }
   ],
   "source": [
    "df_team_content_jn[\"venue.timeZone.tz\"].head()"
   ]
  },
  {
   "cell_type": "markdown",
   "metadata": {},
   "source": [
    "We could also apply the `.json_normalize()` methond to a dictionary column to return dataframes.  Consider the `venue` column from our previous `df_team_content2` dataframe."
   ]
  },
  {
   "cell_type": "code",
   "execution_count": 223,
   "metadata": {
    "scrolled": false
   },
   "outputs": [
    {
     "data": {
      "text/html": [
       "<div>\n",
       "<style scoped>\n",
       "    .dataframe tbody tr th:only-of-type {\n",
       "        vertical-align: middle;\n",
       "    }\n",
       "\n",
       "    .dataframe tbody tr th {\n",
       "        vertical-align: top;\n",
       "    }\n",
       "\n",
       "    .dataframe thead th {\n",
       "        text-align: right;\n",
       "    }\n",
       "</style>\n",
       "<table border=\"1\" class=\"dataframe\">\n",
       "  <thead>\n",
       "    <tr style=\"text-align: right;\">\n",
       "      <th></th>\n",
       "      <th>name</th>\n",
       "      <th>link</th>\n",
       "      <th>city</th>\n",
       "      <th>timeZone.id</th>\n",
       "      <th>timeZone.offset</th>\n",
       "      <th>timeZone.tz</th>\n",
       "      <th>id</th>\n",
       "    </tr>\n",
       "  </thead>\n",
       "  <tbody>\n",
       "    <tr>\n",
       "      <th>0</th>\n",
       "      <td>Prudential Center</td>\n",
       "      <td>/api/v1/venues/null</td>\n",
       "      <td>Newark</td>\n",
       "      <td>America/New_York</td>\n",
       "      <td>-5</td>\n",
       "      <td>EST</td>\n",
       "      <td>NaN</td>\n",
       "    </tr>\n",
       "    <tr>\n",
       "      <th>1</th>\n",
       "      <td>Barclays Center</td>\n",
       "      <td>/api/v1/venues/5026</td>\n",
       "      <td>Brooklyn</td>\n",
       "      <td>America/New_York</td>\n",
       "      <td>-5</td>\n",
       "      <td>EST</td>\n",
       "      <td>5026.0</td>\n",
       "    </tr>\n",
       "    <tr>\n",
       "      <th>2</th>\n",
       "      <td>Madison Square Garden</td>\n",
       "      <td>/api/v1/venues/5054</td>\n",
       "      <td>New York</td>\n",
       "      <td>America/New_York</td>\n",
       "      <td>-5</td>\n",
       "      <td>EST</td>\n",
       "      <td>5054.0</td>\n",
       "    </tr>\n",
       "    <tr>\n",
       "      <th>3</th>\n",
       "      <td>Wells Fargo Center</td>\n",
       "      <td>/api/v1/venues/5096</td>\n",
       "      <td>Philadelphia</td>\n",
       "      <td>America/New_York</td>\n",
       "      <td>-5</td>\n",
       "      <td>EST</td>\n",
       "      <td>5096.0</td>\n",
       "    </tr>\n",
       "    <tr>\n",
       "      <th>4</th>\n",
       "      <td>PPG Paints Arena</td>\n",
       "      <td>/api/v1/venues/5034</td>\n",
       "      <td>Pittsburgh</td>\n",
       "      <td>America/New_York</td>\n",
       "      <td>-5</td>\n",
       "      <td>EST</td>\n",
       "      <td>5034.0</td>\n",
       "    </tr>\n",
       "  </tbody>\n",
       "</table>\n",
       "</div>"
      ],
      "text/plain": [
       "                    name                 link          city       timeZone.id  \\\n",
       "0      Prudential Center  /api/v1/venues/null        Newark  America/New_York   \n",
       "1        Barclays Center  /api/v1/venues/5026      Brooklyn  America/New_York   \n",
       "2  Madison Square Garden  /api/v1/venues/5054      New York  America/New_York   \n",
       "3     Wells Fargo Center  /api/v1/venues/5096  Philadelphia  America/New_York   \n",
       "4       PPG Paints Arena  /api/v1/venues/5034    Pittsburgh  America/New_York   \n",
       "\n",
       "   timeZone.offset timeZone.tz      id  \n",
       "0               -5         EST     NaN  \n",
       "1               -5         EST  5026.0  \n",
       "2               -5         EST  5054.0  \n",
       "3               -5         EST  5096.0  \n",
       "4               -5         EST  5034.0  "
      ]
     },
     "execution_count": 223,
     "metadata": {},
     "output_type": "execute_result"
    }
   ],
   "source": [
    "pd.json_normalize(df_team_content2.venue).head()"
   ]
  },
  {
   "cell_type": "markdown",
   "metadata": {},
   "source": [
    "Now that we have looked at different approaches, lets use the result fromt he `.json_normalize()` going forward."
   ]
  },
  {
   "cell_type": "code",
   "execution_count": 224,
   "metadata": {},
   "outputs": [],
   "source": [
    "df_team_content = df_team_content_jn"
   ]
  },
  {
   "cell_type": "markdown",
   "metadata": {},
   "source": [
    "## Request Roster Data"
   ]
  },
  {
   "cell_type": "markdown",
   "metadata": {},
   "source": [
    "Now that we have collected the basic team info, let's move down a level to collect roster information.  "
   ]
  },
  {
   "cell_type": "markdown",
   "metadata": {},
   "source": [
    "### Extracting the team ID usign regex"
   ]
  },
  {
   "cell_type": "code",
   "execution_count": 225,
   "metadata": {},
   "outputs": [
    {
     "data": {
      "text/plain": [
       "'/api/v1/teams/3'"
      ]
     },
     "execution_count": 225,
     "metadata": {},
     "output_type": "execute_result"
    }
   ],
   "source": [
    "# get the rangers link to their team site\n",
    "rangers_link = df_team_content.query(\"teamName == 'Rangers'\").link.values[0]\n",
    "rangers_link"
   ]
  },
  {
   "cell_type": "code",
   "execution_count": 226,
   "metadata": {},
   "outputs": [
    {
     "data": {
      "text/plain": [
       "str"
      ]
     },
     "execution_count": 226,
     "metadata": {},
     "output_type": "execute_result"
    }
   ],
   "source": [
    "type(rangers_link)"
   ]
  },
  {
   "cell_type": "code",
   "execution_count": 227,
   "metadata": {},
   "outputs": [
    {
     "data": {
      "text/plain": [
       "['3']"
      ]
     },
     "execution_count": 227,
     "metadata": {},
     "output_type": "execute_result"
    }
   ],
   "source": [
    "# get the rangers team id from the end of the url\n",
    "import re\n",
    "\n",
    "pattern = \"\\d$\"\n",
    "\n",
    "re.findall(pattern, rangers_link)"
   ]
  },
  {
   "cell_type": "code",
   "execution_count": 228,
   "metadata": {},
   "outputs": [
    {
     "data": {
      "text/plain": [
       "'https://statsapi.web.nhl.com'"
      ]
     },
     "execution_count": 228,
     "metadata": {},
     "output_type": "execute_result"
    }
   ],
   "source": [
    "#get the base url of the api\n",
    "teams_url\n",
    "\n",
    "url_pattern = \".+com\"\n",
    "\n",
    "base_url = re.search(url_pattern, teams_url).group()\n",
    "base_url"
   ]
  },
  {
   "cell_type": "code",
   "execution_count": 229,
   "metadata": {},
   "outputs": [
    {
     "data": {
      "text/plain": [
       "'https://statsapi.web.nhl.com/api/v1/teams/3'"
      ]
     },
     "execution_count": 229,
     "metadata": {},
     "output_type": "execute_result"
    }
   ],
   "source": [
    "#create the url to get the rangers team info\n",
    "rangers_url = base_url + rangers_link\n",
    "\n",
    "rangers_url"
   ]
  },
  {
   "cell_type": "markdown",
   "metadata": {},
   "source": [
    "### Add Parameters to Team URL "
   ]
  },
  {
   "cell_type": "markdown",
   "metadata": {},
   "source": [
    "In order to get the roster data, we need to use modifier or the roster endpoint.\n",
    "- ?expand=team.roster\n",
    "- /roster appended to the end of the url\n",
    "\n",
    "We also need to specify a season\n",
    "- yyyyYYYYY format\n",
    "    - yyyy:start year\n",
    "    - YYYY: end \n",
    "    "
   ]
  },
  {
   "cell_type": "code",
   "execution_count": 230,
   "metadata": {
    "scrolled": true
   },
   "outputs": [
    {
     "data": {
      "text/plain": [
       "'https://statsapi.web.nhl.com/api/v1/teams/3?expand=team.roster&season=20182019'"
      ]
     },
     "execution_count": 230,
     "metadata": {},
     "output_type": "execute_result"
    }
   ],
   "source": [
    "# create a url to get the rangers team roster info\n",
    "params = \"?expand=team.roster&season=20182019\"\n",
    "rangers_roster_url = rangers_url + params\n",
    "rangers_roster_url"
   ]
  },
  {
   "cell_type": "code",
   "execution_count": 231,
   "metadata": {},
   "outputs": [
    {
     "data": {
      "text/plain": [
       "200"
      ]
     },
     "execution_count": 231,
     "metadata": {},
     "output_type": "execute_result"
    }
   ],
   "source": [
    "rangers_response = requests.get(rangers_roster_url)\n",
    "rangers_response.status_code"
   ]
  },
  {
   "cell_type": "code",
   "execution_count": 232,
   "metadata": {},
   "outputs": [
    {
     "data": {
      "text/plain": [
       "dict_keys(['copyright', 'teams'])"
      ]
     },
     "execution_count": 232,
     "metadata": {},
     "output_type": "execute_result"
    }
   ],
   "source": [
    "#convert the content\n",
    "rangers_content = rangers_response.json()\n",
    "rangers_content.keys()"
   ]
  },
  {
   "cell_type": "code",
   "execution_count": 233,
   "metadata": {},
   "outputs": [
    {
     "ename": "KeyError",
     "evalue": "'roster'",
     "output_type": "error",
     "traceback": [
      "\u001b[1;31m---------------------------------------------------------------------------\u001b[0m",
      "\u001b[1;31mKeyError\u001b[0m                                  Traceback (most recent call last)",
      "\u001b[1;32m<ipython-input-233-1a0f0ca4d537>\u001b[0m in \u001b[0;36m<module>\u001b[1;34m\u001b[0m\n\u001b[1;32m----> 1\u001b[1;33m \u001b[0mrangers_content\u001b[0m\u001b[1;33m[\u001b[0m\u001b[1;34m'roster'\u001b[0m\u001b[1;33m]\u001b[0m\u001b[1;33m[\u001b[0m\u001b[1;36m0\u001b[0m\u001b[1;33m]\u001b[0m\u001b[1;33m\u001b[0m\u001b[1;33m\u001b[0m\u001b[0m\n\u001b[0m",
      "\u001b[1;31mKeyError\u001b[0m: 'roster'"
     ]
    }
   ],
   "source": [
    "rangers_content['roster'][0]"
   ]
  },
  {
   "cell_type": "markdown",
   "metadata": {},
   "source": [
    "### Make a function to get team info\n",
    "\n",
    "Now that endpoints are leveraging parameters, it would be useful to create a function to simplify the creation of the API url.\n",
    "\n",
    "For now, the urls we are creating require a team number and season."
   ]
  },
  {
   "cell_type": "code",
   "execution_count": 234,
   "metadata": {},
   "outputs": [
    {
     "data": {
      "text/plain": [
       "True"
      ]
     },
     "execution_count": 234,
     "metadata": {},
     "output_type": "execute_result"
    }
   ],
   "source": [
    "test = 19992000\n",
    "test = str(test)\n",
    "pattern = re.compile('\\d{8}')\n",
    "bool(pattern.match(test))"
   ]
  },
  {
   "cell_type": "code",
   "execution_count": 235,
   "metadata": {},
   "outputs": [],
   "source": [
    "def create_team_roster_url(team_number, season):\n",
    "    from sys import exit\n",
    "    \n",
    "    base_url = \"https://statsapi.web.nhl.com/api/v1/teams/\"\n",
    " \n",
    "    #verify team number makes sense\n",
    "    if int(team_number) > 33:\n",
    "        raise ValueError(\"Please use a correct value.  Team numbers must be less than 33\")\n",
    "\n",
    "    # convert to strings\n",
    "    team_number = str(team_number) # convert to a string in case a number was supplied\n",
    "    season = str(season)\n",
    "    \n",
    "    #verify the season is 8 digits\n",
    "    pattern = re.compile('\\d{8}')\n",
    "    is_season_formatted = bool(pattern.match(season))\n",
    "    if not is_season_formatted:\n",
    "        raise ValueError(\"You did not provide the season with 8 digits.  Specify start and end season with four digits and no spaces\")\n",
    "     \n",
    "    # combine the components into one url\n",
    "    url = base_url + team_number + \"/roster/\" + \"?season=\" + season\n",
    "    return url"
   ]
  },
  {
   "cell_type": "code",
   "execution_count": 236,
   "metadata": {},
   "outputs": [
    {
     "data": {
      "text/plain": [
       "'https://statsapi.web.nhl.com/api/v1/teams/3/roster/?season=20192020'"
      ]
     },
     "execution_count": 236,
     "metadata": {},
     "output_type": "execute_result"
    }
   ],
   "source": [
    "create_team_roster_url(3,20192020)"
   ]
  },
  {
   "cell_type": "markdown",
   "metadata": {},
   "source": [
    "### Checking Errors"
   ]
  },
  {
   "cell_type": "code",
   "execution_count": 237,
   "metadata": {
    "scrolled": false
   },
   "outputs": [
    {
     "ename": "ValueError",
     "evalue": "You did not provide the season with 8 digits.  Specify start and end season with four digits and no spaces",
     "output_type": "error",
     "traceback": [
      "\u001b[1;31m---------------------------------------------------------------------------\u001b[0m",
      "\u001b[1;31mValueError\u001b[0m                                Traceback (most recent call last)",
      "\u001b[1;32m<ipython-input-237-f09f6485bbbd>\u001b[0m in \u001b[0;36m<module>\u001b[1;34m\u001b[0m\n\u001b[1;32m----> 1\u001b[1;33m \u001b[0mcreate_team_roster_url\u001b[0m\u001b[1;33m(\u001b[0m\u001b[1;36m3\u001b[0m\u001b[1;33m,\u001b[0m\u001b[1;36m2019\u001b[0m\u001b[1;33m)\u001b[0m\u001b[1;33m\u001b[0m\u001b[1;33m\u001b[0m\u001b[0m\n\u001b[0m",
      "\u001b[1;32m<ipython-input-235-803bcea8f4e1>\u001b[0m in \u001b[0;36mcreate_team_roster_url\u001b[1;34m(team_number, season)\u001b[0m\n\u001b[0;32m     16\u001b[0m     \u001b[0mis_season_formatted\u001b[0m \u001b[1;33m=\u001b[0m \u001b[0mbool\u001b[0m\u001b[1;33m(\u001b[0m\u001b[0mpattern\u001b[0m\u001b[1;33m.\u001b[0m\u001b[0mmatch\u001b[0m\u001b[1;33m(\u001b[0m\u001b[0mseason\u001b[0m\u001b[1;33m)\u001b[0m\u001b[1;33m)\u001b[0m\u001b[1;33m\u001b[0m\u001b[1;33m\u001b[0m\u001b[0m\n\u001b[0;32m     17\u001b[0m     \u001b[1;32mif\u001b[0m \u001b[1;32mnot\u001b[0m \u001b[0mis_season_formatted\u001b[0m\u001b[1;33m:\u001b[0m\u001b[1;33m\u001b[0m\u001b[1;33m\u001b[0m\u001b[0m\n\u001b[1;32m---> 18\u001b[1;33m         \u001b[1;32mraise\u001b[0m \u001b[0mValueError\u001b[0m\u001b[1;33m(\u001b[0m\u001b[1;34m\"You did not provide the season with 8 digits.  Specify start and end season with four digits and no spaces\"\u001b[0m\u001b[1;33m)\u001b[0m\u001b[1;33m\u001b[0m\u001b[1;33m\u001b[0m\u001b[0m\n\u001b[0m\u001b[0;32m     19\u001b[0m \u001b[1;33m\u001b[0m\u001b[0m\n\u001b[0;32m     20\u001b[0m     \u001b[1;31m# combine the components into one url\u001b[0m\u001b[1;33m\u001b[0m\u001b[1;33m\u001b[0m\u001b[1;33m\u001b[0m\u001b[0m\n",
      "\u001b[1;31mValueError\u001b[0m: You did not provide the season with 8 digits.  Specify start and end season with four digits and no spaces"
     ]
    }
   ],
   "source": [
    "create_team_roster_url(3,2019)"
   ]
  },
  {
   "cell_type": "code",
   "execution_count": 238,
   "metadata": {},
   "outputs": [
    {
     "ename": "ValueError",
     "evalue": "Please use a correct value.  Team numbers must be less than 33",
     "output_type": "error",
     "traceback": [
      "\u001b[1;31m---------------------------------------------------------------------------\u001b[0m",
      "\u001b[1;31mValueError\u001b[0m                                Traceback (most recent call last)",
      "\u001b[1;32m<ipython-input-238-7641c6e970a0>\u001b[0m in \u001b[0;36m<module>\u001b[1;34m\u001b[0m\n\u001b[1;32m----> 1\u001b[1;33m \u001b[0mcreate_team_roster_url\u001b[0m\u001b[1;33m(\u001b[0m\u001b[1;36m100\u001b[0m\u001b[1;33m,\u001b[0m\u001b[1;36m20192020\u001b[0m\u001b[1;33m)\u001b[0m\u001b[1;33m\u001b[0m\u001b[1;33m\u001b[0m\u001b[0m\n\u001b[0m",
      "\u001b[1;32m<ipython-input-235-803bcea8f4e1>\u001b[0m in \u001b[0;36mcreate_team_roster_url\u001b[1;34m(team_number, season)\u001b[0m\n\u001b[0;32m      6\u001b[0m     \u001b[1;31m#verify team number makes sense\u001b[0m\u001b[1;33m\u001b[0m\u001b[1;33m\u001b[0m\u001b[1;33m\u001b[0m\u001b[0m\n\u001b[0;32m      7\u001b[0m     \u001b[1;32mif\u001b[0m \u001b[0mint\u001b[0m\u001b[1;33m(\u001b[0m\u001b[0mteam_number\u001b[0m\u001b[1;33m)\u001b[0m \u001b[1;33m>\u001b[0m \u001b[1;36m33\u001b[0m\u001b[1;33m:\u001b[0m\u001b[1;33m\u001b[0m\u001b[1;33m\u001b[0m\u001b[0m\n\u001b[1;32m----> 8\u001b[1;33m         \u001b[1;32mraise\u001b[0m \u001b[0mValueError\u001b[0m\u001b[1;33m(\u001b[0m\u001b[1;34m\"Please use a correct value.  Team numbers must be less than 33\"\u001b[0m\u001b[1;33m)\u001b[0m\u001b[1;33m\u001b[0m\u001b[1;33m\u001b[0m\u001b[0m\n\u001b[0m\u001b[0;32m      9\u001b[0m \u001b[1;33m\u001b[0m\u001b[0m\n\u001b[0;32m     10\u001b[0m     \u001b[1;31m# convert to strings\u001b[0m\u001b[1;33m\u001b[0m\u001b[1;33m\u001b[0m\u001b[1;33m\u001b[0m\u001b[0m\n",
      "\u001b[1;31mValueError\u001b[0m: Please use a correct value.  Team numbers must be less than 33"
     ]
    }
   ],
   "source": [
    "create_team_roster_url(100,20192020)"
   ]
  },
  {
   "cell_type": "markdown",
   "metadata": {},
   "source": [
    "### Send Get Request for Rangers Data"
   ]
  },
  {
   "cell_type": "code",
   "execution_count": 239,
   "metadata": {},
   "outputs": [
    {
     "data": {
      "text/plain": [
       "200"
      ]
     },
     "execution_count": 239,
     "metadata": {},
     "output_type": "execute_result"
    }
   ],
   "source": [
    "# get the rangers roster from 2019-2020\n",
    "rangers_roster_url = create_team_roster_url(3,20192020) \n",
    "rangers_response = requests.get(rangers_roster_url)\n",
    "rangers_response.status_code"
   ]
  },
  {
   "cell_type": "code",
   "execution_count": 240,
   "metadata": {},
   "outputs": [
    {
     "data": {
      "text/plain": [
       "{'person': {'id': 8471686,\n",
       "  'fullName': 'Marc Staal',\n",
       "  'link': '/api/v1/people/8471686'},\n",
       " 'jerseyNumber': '18',\n",
       " 'position': {'code': 'D',\n",
       "  'name': 'Defenseman',\n",
       "  'type': 'Defenseman',\n",
       "  'abbreviation': 'D'}}"
      ]
     },
     "execution_count": 240,
     "metadata": {},
     "output_type": "execute_result"
    }
   ],
   "source": [
    "# convert the roster\n",
    "rangers_roster_content = rangers_response.json()[\"roster\"]\n",
    "rangers_roster_content[0]"
   ]
  },
  {
   "cell_type": "code",
   "execution_count": 241,
   "metadata": {},
   "outputs": [
    {
     "data": {
      "text/html": [
       "<div>\n",
       "<style scoped>\n",
       "    .dataframe tbody tr th:only-of-type {\n",
       "        vertical-align: middle;\n",
       "    }\n",
       "\n",
       "    .dataframe tbody tr th {\n",
       "        vertical-align: top;\n",
       "    }\n",
       "\n",
       "    .dataframe thead th {\n",
       "        text-align: right;\n",
       "    }\n",
       "</style>\n",
       "<table border=\"1\" class=\"dataframe\">\n",
       "  <thead>\n",
       "    <tr style=\"text-align: right;\">\n",
       "      <th></th>\n",
       "      <th>jerseyNumber</th>\n",
       "      <th>person.id</th>\n",
       "      <th>person.fullName</th>\n",
       "      <th>person.link</th>\n",
       "      <th>position.code</th>\n",
       "      <th>position.name</th>\n",
       "      <th>position.type</th>\n",
       "      <th>position.abbreviation</th>\n",
       "    </tr>\n",
       "  </thead>\n",
       "  <tbody>\n",
       "    <tr>\n",
       "      <th>0</th>\n",
       "      <td>18</td>\n",
       "      <td>8471686</td>\n",
       "      <td>Marc Staal</td>\n",
       "      <td>/api/v1/people/8471686</td>\n",
       "      <td>D</td>\n",
       "      <td>Defenseman</td>\n",
       "      <td>Defenseman</td>\n",
       "      <td>D</td>\n",
       "    </tr>\n",
       "    <tr>\n",
       "      <th>1</th>\n",
       "      <td>42</td>\n",
       "      <td>8474090</td>\n",
       "      <td>Brendan Smith</td>\n",
       "      <td>/api/v1/people/8474090</td>\n",
       "      <td>D</td>\n",
       "      <td>Defenseman</td>\n",
       "      <td>Defenseman</td>\n",
       "      <td>D</td>\n",
       "    </tr>\n",
       "    <tr>\n",
       "      <th>2</th>\n",
       "      <td>38</td>\n",
       "      <td>8474230</td>\n",
       "      <td>Micheal Haley</td>\n",
       "      <td>/api/v1/people/8474230</td>\n",
       "      <td>L</td>\n",
       "      <td>Left Wing</td>\n",
       "      <td>Forward</td>\n",
       "      <td>LW</td>\n",
       "    </tr>\n",
       "    <tr>\n",
       "      <th>3</th>\n",
       "      <td>20</td>\n",
       "      <td>8475184</td>\n",
       "      <td>Chris Kreider</td>\n",
       "      <td>/api/v1/people/8475184</td>\n",
       "      <td>L</td>\n",
       "      <td>Left Wing</td>\n",
       "      <td>Forward</td>\n",
       "      <td>LW</td>\n",
       "    </tr>\n",
       "    <tr>\n",
       "      <th>4</th>\n",
       "      <td>18</td>\n",
       "      <td>8475735</td>\n",
       "      <td>Greg McKegg</td>\n",
       "      <td>/api/v1/people/8475735</td>\n",
       "      <td>C</td>\n",
       "      <td>Center</td>\n",
       "      <td>Forward</td>\n",
       "      <td>C</td>\n",
       "    </tr>\n",
       "  </tbody>\n",
       "</table>\n",
       "</div>"
      ],
      "text/plain": [
       "  jerseyNumber person.id person.fullName             person.link  \\\n",
       "0           18   8471686      Marc Staal  /api/v1/people/8471686   \n",
       "1           42   8474090   Brendan Smith  /api/v1/people/8474090   \n",
       "2           38   8474230   Micheal Haley  /api/v1/people/8474230   \n",
       "3           20   8475184   Chris Kreider  /api/v1/people/8475184   \n",
       "4           18   8475735     Greg McKegg  /api/v1/people/8475735   \n",
       "\n",
       "  position.code position.name position.type position.abbreviation  \n",
       "0             D    Defenseman    Defenseman                     D  \n",
       "1             D    Defenseman    Defenseman                     D  \n",
       "2             L     Left Wing       Forward                    LW  \n",
       "3             L     Left Wing       Forward                    LW  \n",
       "4             C        Center       Forward                     C  "
      ]
     },
     "execution_count": 241,
     "metadata": {},
     "output_type": "execute_result"
    }
   ],
   "source": [
    "# convert the roster to a dataframe\n",
    "df_rangers_roster = pd.json_normalize(rangers_roster_content).astype(str)\n",
    "df_rangers_roster.head()"
   ]
  },
  {
   "cell_type": "markdown",
   "metadata": {},
   "source": [
    "### Stat Types"
   ]
  },
  {
   "cell_type": "code",
   "execution_count": 242,
   "metadata": {},
   "outputs": [
    {
     "data": {
      "text/plain": [
       "200"
      ]
     },
     "execution_count": 242,
     "metadata": {},
     "output_type": "execute_result"
    }
   ],
   "source": [
    "\n",
    "stat_type_url = \"https://statsapi.web.nhl.com/api/v1/statTypes\"\n",
    "\n",
    "response_stat_type = requests.get(stat_type_url)\n",
    "response_stat_type.status_code"
   ]
  },
  {
   "cell_type": "code",
   "execution_count": 243,
   "metadata": {},
   "outputs": [
    {
     "data": {
      "text/plain": [
       "[{'displayName': 'yearByYear', 'gameType': None},\n",
       " {'displayName': 'yearByYearRank', 'gameType': None},\n",
       " {'displayName': 'yearByYearPlayoffs', 'gameType': None},\n",
       " {'displayName': 'yearByYearPlayoffsRank', 'gameType': None},\n",
       " {'displayName': 'careerRegularSeason', 'gameType': None},\n",
       " {'displayName': 'careerPlayoffs', 'gameType': None},\n",
       " {'displayName': 'gameLog', 'gameType': None},\n",
       " {'displayName': 'playoffGameLog', 'gameType': None},\n",
       " {'displayName': 'vsTeam', 'gameType': None},\n",
       " {'displayName': 'vsTeamPlayoffs', 'gameType': None},\n",
       " {'displayName': 'vsDivision', 'gameType': None},\n",
       " {'displayName': 'vsDivisionPlayoffs', 'gameType': None},\n",
       " {'displayName': 'vsConference', 'gameType': None},\n",
       " {'displayName': 'vsConferencePlayoffs', 'gameType': None},\n",
       " {'displayName': 'byMonth', 'gameType': None},\n",
       " {'displayName': 'byMonthPlayoffs', 'gameType': None},\n",
       " {'displayName': 'byDayOfWeek', 'gameType': None},\n",
       " {'displayName': 'byDayOfWeekPlayoffs', 'gameType': None},\n",
       " {'displayName': 'homeAndAway', 'gameType': None},\n",
       " {'displayName': 'homeAndAwayPlayoffs', 'gameType': None},\n",
       " {'displayName': 'winLoss', 'gameType': None},\n",
       " {'displayName': 'winLossPlayoffs', 'gameType': None},\n",
       " {'displayName': 'onPaceRegularSeason', 'gameType': None},\n",
       " {'displayName': 'regularSeasonStatRankings', 'gameType': None},\n",
       " {'displayName': 'playoffStatRankings', 'gameType': None},\n",
       " {'displayName': 'goalsByGameSituation', 'gameType': None},\n",
       " {'displayName': 'goalsByGameSituationPlayoffs', 'gameType': None},\n",
       " {'displayName': 'statsSingleSeason',\n",
       "  'gameType': {'id': 'R',\n",
       "   'description': 'Regular season',\n",
       "   'postseason': False}},\n",
       " {'displayName': 'statsSingleSeasonPlayoffs',\n",
       "  'gameType': {'id': 'P', 'description': 'Playoffs', 'postseason': True}}]"
      ]
     },
     "execution_count": 243,
     "metadata": {},
     "output_type": "execute_result"
    }
   ],
   "source": [
    "response_stat_type.json()"
   ]
  },
  {
   "cell_type": "markdown",
   "metadata": {},
   "source": [
    "## Player Stats"
   ]
  },
  {
   "cell_type": "code",
   "execution_count": 244,
   "metadata": {},
   "outputs": [],
   "source": [
    "# create a url to get player stats\n",
    "def create_player_stats_url(id, param = \"\"):\n",
    "    base_url = \"https://statsapi.web.nhl.com/api/v1/people/\"\n",
    "    if param == \"\":\n",
    "        url = base_url + id + \"/\"\n",
    "    else:\n",
    "        url = base_url + id + \"/stats/?\" + param\n",
    "    return url"
   ]
  },
  {
   "cell_type": "code",
   "execution_count": 245,
   "metadata": {},
   "outputs": [
    {
     "data": {
      "text/plain": [
       "'8478550'"
      ]
     },
     "execution_count": 245,
     "metadata": {},
     "output_type": "execute_result"
    }
   ],
   "source": [
    "# get Artemi's player id\n",
    "artemi_id = df_rangers_roster[df_rangers_roster['person.fullName'].str.contains(\"Artemi\")]['person.id'].values[0]\n",
    "artemi_id"
   ]
  },
  {
   "cell_type": "code",
   "execution_count": 246,
   "metadata": {},
   "outputs": [
    {
     "data": {
      "text/plain": [
       "'https://statsapi.web.nhl.com/api/v1/people/8471686/stats/?stats=statsSingleSeason&season=20182019'"
      ]
     },
     "execution_count": 246,
     "metadata": {},
     "output_type": "execute_result"
    }
   ],
   "source": [
    "# create a url for every player\n",
    "df_rangers_roster[\"player_stats_link\"] = create_player_stats_url(df_rangers_roster[\"person.id\"], \"stats=statsSingleSeason&season=20182019\")\n",
    "df_rangers_roster[\"player_stats_link\"][0]"
   ]
  },
  {
   "cell_type": "code",
   "execution_count": 247,
   "metadata": {},
   "outputs": [],
   "source": [
    "# get players stats\n",
    "def get_player_stats(url):\n",
    "    first_layer = \"stats\" \n",
    "    response = requests.get(url)\n",
    "    try:\n",
    "        content = json.loads(response.content)[first_layer][0]['splits'][0]\n",
    "    except:\n",
    "        content = {}\n",
    "    return content\n",
    "    "
   ]
  },
  {
   "cell_type": "code",
   "execution_count": 248,
   "metadata": {},
   "outputs": [
    {
     "data": {
      "text/plain": [
       "{'season': '20182019',\n",
       " 'stat': {'timeOnIce': '1534:12',\n",
       "  'assists': 10,\n",
       "  'goals': 3,\n",
       "  'pim': 32,\n",
       "  'shots': 84,\n",
       "  'games': 79,\n",
       "  'hits': 94,\n",
       "  'powerPlayGoals': 0,\n",
       "  'powerPlayPoints': 0,\n",
       "  'powerPlayTimeOnIce': '02:23',\n",
       "  'evenTimeOnIce': '1303:27',\n",
       "  'penaltyMinutes': '32',\n",
       "  'faceOffPct': 0.0,\n",
       "  'shotPct': 3.57,\n",
       "  'gameWinningGoals': 0,\n",
       "  'overTimeGoals': 0,\n",
       "  'shortHandedGoals': 0,\n",
       "  'shortHandedPoints': 0,\n",
       "  'shortHandedTimeOnIce': '228:22',\n",
       "  'blocked': 119,\n",
       "  'plusMinus': -9,\n",
       "  'points': 13,\n",
       "  'shifts': 2061,\n",
       "  'timeOnIcePerGame': '19:25',\n",
       "  'evenTimeOnIcePerGame': '16:29',\n",
       "  'shortHandedTimeOnIcePerGame': '02:53',\n",
       "  'powerPlayTimeOnIcePerGame': '00:01'}}"
      ]
     },
     "execution_count": 248,
     "metadata": {},
     "output_type": "execute_result"
    }
   ],
   "source": [
    "# test the function on one player\n",
    "test_url = df_rangers_roster[\"player_stats_link\"][0]\n",
    "test_return = get_player_stats(test_url)\n",
    "test_return\n",
    "#pd.json_normalize(test_return['people'])\n"
   ]
  },
  {
   "cell_type": "markdown",
   "metadata": {},
   "source": [
    "### Store the results in a data frame"
   ]
  },
  {
   "cell_type": "code",
   "execution_count": 249,
   "metadata": {},
   "outputs": [],
   "source": [
    "# get stats for each player\n",
    "df_rangers_roster[\"player_json\"] =  df_rangers_roster[\"player_stats_link\"].apply(get_player_stats)"
   ]
  },
  {
   "cell_type": "code",
   "execution_count": 255,
   "metadata": {},
   "outputs": [
    {
     "data": {
      "text/plain": [
       "{'season': '20182019',\n",
       " 'stat': {'timeOnIce': '1534:12',\n",
       "  'assists': 10,\n",
       "  'goals': 3,\n",
       "  'pim': 32,\n",
       "  'shots': 84,\n",
       "  'games': 79,\n",
       "  'hits': 94,\n",
       "  'powerPlayGoals': 0,\n",
       "  'powerPlayPoints': 0,\n",
       "  'powerPlayTimeOnIce': '02:23',\n",
       "  'evenTimeOnIce': '1303:27',\n",
       "  'penaltyMinutes': '32',\n",
       "  'faceOffPct': 0.0,\n",
       "  'shotPct': 3.57,\n",
       "  'gameWinningGoals': 0,\n",
       "  'overTimeGoals': 0,\n",
       "  'shortHandedGoals': 0,\n",
       "  'shortHandedPoints': 0,\n",
       "  'shortHandedTimeOnIce': '228:22',\n",
       "  'blocked': 119,\n",
       "  'plusMinus': -9,\n",
       "  'points': 13,\n",
       "  'shifts': 2061,\n",
       "  'timeOnIcePerGame': '19:25',\n",
       "  'evenTimeOnIcePerGame': '16:29',\n",
       "  'shortHandedTimeOnIcePerGame': '02:53',\n",
       "  'powerPlayTimeOnIcePerGame': '00:01'}}"
      ]
     },
     "execution_count": 255,
     "metadata": {},
     "output_type": "execute_result"
    }
   ],
   "source": [
    "df_rangers_roster[\"player_json\"][0]"
   ]
  },
  {
   "cell_type": "code",
   "execution_count": 256,
   "metadata": {},
   "outputs": [
    {
     "data": {
      "text/html": [
       "<div>\n",
       "<style scoped>\n",
       "    .dataframe tbody tr th:only-of-type {\n",
       "        vertical-align: middle;\n",
       "    }\n",
       "\n",
       "    .dataframe tbody tr th {\n",
       "        vertical-align: top;\n",
       "    }\n",
       "\n",
       "    .dataframe thead th {\n",
       "        text-align: right;\n",
       "    }\n",
       "</style>\n",
       "<table border=\"1\" class=\"dataframe\">\n",
       "  <thead>\n",
       "    <tr style=\"text-align: right;\">\n",
       "      <th></th>\n",
       "      <th>season</th>\n",
       "      <th>stat.timeOnIce</th>\n",
       "      <th>stat.assists</th>\n",
       "      <th>stat.goals</th>\n",
       "      <th>stat.pim</th>\n",
       "      <th>stat.shots</th>\n",
       "      <th>stat.games</th>\n",
       "      <th>stat.hits</th>\n",
       "      <th>stat.powerPlayGoals</th>\n",
       "      <th>stat.powerPlayPoints</th>\n",
       "      <th>...</th>\n",
       "      <th>stat.evenShots</th>\n",
       "      <th>stat.powerPlayShots</th>\n",
       "      <th>stat.savePercentage</th>\n",
       "      <th>stat.goalAgainstAverage</th>\n",
       "      <th>stat.gamesStarted</th>\n",
       "      <th>stat.shotsAgainst</th>\n",
       "      <th>stat.goalsAgainst</th>\n",
       "      <th>stat.powerPlaySavePercentage</th>\n",
       "      <th>stat.shortHandedSavePercentage</th>\n",
       "      <th>stat.evenStrengthSavePercentage</th>\n",
       "    </tr>\n",
       "  </thead>\n",
       "  <tbody>\n",
       "    <tr>\n",
       "      <th>0</th>\n",
       "      <td>20182019</td>\n",
       "      <td>1534:12</td>\n",
       "      <td>10.0</td>\n",
       "      <td>3.0</td>\n",
       "      <td>32.0</td>\n",
       "      <td>84.0</td>\n",
       "      <td>79.0</td>\n",
       "      <td>94.0</td>\n",
       "      <td>0.0</td>\n",
       "      <td>0.0</td>\n",
       "      <td>...</td>\n",
       "      <td>NaN</td>\n",
       "      <td>NaN</td>\n",
       "      <td>NaN</td>\n",
       "      <td>NaN</td>\n",
       "      <td>NaN</td>\n",
       "      <td>NaN</td>\n",
       "      <td>NaN</td>\n",
       "      <td>NaN</td>\n",
       "      <td>NaN</td>\n",
       "      <td>NaN</td>\n",
       "    </tr>\n",
       "    <tr>\n",
       "      <th>1</th>\n",
       "      <td>20182019</td>\n",
       "      <td>963:38</td>\n",
       "      <td>9.0</td>\n",
       "      <td>4.0</td>\n",
       "      <td>71.0</td>\n",
       "      <td>66.0</td>\n",
       "      <td>63.0</td>\n",
       "      <td>100.0</td>\n",
       "      <td>0.0</td>\n",
       "      <td>0.0</td>\n",
       "      <td>...</td>\n",
       "      <td>NaN</td>\n",
       "      <td>NaN</td>\n",
       "      <td>NaN</td>\n",
       "      <td>NaN</td>\n",
       "      <td>NaN</td>\n",
       "      <td>NaN</td>\n",
       "      <td>NaN</td>\n",
       "      <td>NaN</td>\n",
       "      <td>NaN</td>\n",
       "      <td>NaN</td>\n",
       "    </tr>\n",
       "    <tr>\n",
       "      <th>2</th>\n",
       "      <td>20182019</td>\n",
       "      <td>347:55</td>\n",
       "      <td>4.0</td>\n",
       "      <td>2.0</td>\n",
       "      <td>75.0</td>\n",
       "      <td>34.0</td>\n",
       "      <td>43.0</td>\n",
       "      <td>76.0</td>\n",
       "      <td>0.0</td>\n",
       "      <td>0.0</td>\n",
       "      <td>...</td>\n",
       "      <td>NaN</td>\n",
       "      <td>NaN</td>\n",
       "      <td>NaN</td>\n",
       "      <td>NaN</td>\n",
       "      <td>NaN</td>\n",
       "      <td>NaN</td>\n",
       "      <td>NaN</td>\n",
       "      <td>NaN</td>\n",
       "      <td>NaN</td>\n",
       "      <td>NaN</td>\n",
       "    </tr>\n",
       "    <tr>\n",
       "      <th>3</th>\n",
       "      <td>20182019</td>\n",
       "      <td>1375:04</td>\n",
       "      <td>24.0</td>\n",
       "      <td>28.0</td>\n",
       "      <td>57.0</td>\n",
       "      <td>201.0</td>\n",
       "      <td>79.0</td>\n",
       "      <td>159.0</td>\n",
       "      <td>7.0</td>\n",
       "      <td>12.0</td>\n",
       "      <td>...</td>\n",
       "      <td>NaN</td>\n",
       "      <td>NaN</td>\n",
       "      <td>NaN</td>\n",
       "      <td>NaN</td>\n",
       "      <td>NaN</td>\n",
       "      <td>NaN</td>\n",
       "      <td>NaN</td>\n",
       "      <td>NaN</td>\n",
       "      <td>NaN</td>\n",
       "      <td>NaN</td>\n",
       "    </tr>\n",
       "    <tr>\n",
       "      <th>4</th>\n",
       "      <td>20182019</td>\n",
       "      <td>437:07</td>\n",
       "      <td>5.0</td>\n",
       "      <td>6.0</td>\n",
       "      <td>8.0</td>\n",
       "      <td>27.0</td>\n",
       "      <td>41.0</td>\n",
       "      <td>30.0</td>\n",
       "      <td>0.0</td>\n",
       "      <td>0.0</td>\n",
       "      <td>...</td>\n",
       "      <td>NaN</td>\n",
       "      <td>NaN</td>\n",
       "      <td>NaN</td>\n",
       "      <td>NaN</td>\n",
       "      <td>NaN</td>\n",
       "      <td>NaN</td>\n",
       "      <td>NaN</td>\n",
       "      <td>NaN</td>\n",
       "      <td>NaN</td>\n",
       "      <td>NaN</td>\n",
       "    </tr>\n",
       "  </tbody>\n",
       "</table>\n",
       "<p>5 rows × 48 columns</p>\n",
       "</div>"
      ],
      "text/plain": [
       "     season stat.timeOnIce  stat.assists  stat.goals  stat.pim  stat.shots  \\\n",
       "0  20182019        1534:12          10.0         3.0      32.0        84.0   \n",
       "1  20182019         963:38           9.0         4.0      71.0        66.0   \n",
       "2  20182019         347:55           4.0         2.0      75.0        34.0   \n",
       "3  20182019        1375:04          24.0        28.0      57.0       201.0   \n",
       "4  20182019         437:07           5.0         6.0       8.0        27.0   \n",
       "\n",
       "   stat.games  stat.hits  stat.powerPlayGoals  stat.powerPlayPoints  ...  \\\n",
       "0        79.0       94.0                  0.0                   0.0  ...   \n",
       "1        63.0      100.0                  0.0                   0.0  ...   \n",
       "2        43.0       76.0                  0.0                   0.0  ...   \n",
       "3        79.0      159.0                  7.0                  12.0  ...   \n",
       "4        41.0       30.0                  0.0                   0.0  ...   \n",
       "\n",
       "  stat.evenShots stat.powerPlayShots stat.savePercentage  \\\n",
       "0            NaN                 NaN                 NaN   \n",
       "1            NaN                 NaN                 NaN   \n",
       "2            NaN                 NaN                 NaN   \n",
       "3            NaN                 NaN                 NaN   \n",
       "4            NaN                 NaN                 NaN   \n",
       "\n",
       "   stat.goalAgainstAverage  stat.gamesStarted  stat.shotsAgainst  \\\n",
       "0                      NaN                NaN                NaN   \n",
       "1                      NaN                NaN                NaN   \n",
       "2                      NaN                NaN                NaN   \n",
       "3                      NaN                NaN                NaN   \n",
       "4                      NaN                NaN                NaN   \n",
       "\n",
       "   stat.goalsAgainst  stat.powerPlaySavePercentage  \\\n",
       "0                NaN                           NaN   \n",
       "1                NaN                           NaN   \n",
       "2                NaN                           NaN   \n",
       "3                NaN                           NaN   \n",
       "4                NaN                           NaN   \n",
       "\n",
       "   stat.shortHandedSavePercentage stat.evenStrengthSavePercentage  \n",
       "0                             NaN                             NaN  \n",
       "1                             NaN                             NaN  \n",
       "2                             NaN                             NaN  \n",
       "3                             NaN                             NaN  \n",
       "4                             NaN                             NaN  \n",
       "\n",
       "[5 rows x 48 columns]"
      ]
     },
     "execution_count": 256,
     "metadata": {},
     "output_type": "execute_result"
    }
   ],
   "source": [
    "df_rangers_stats_2018_2019 = pd.json_normalize(df_rangers_roster[\"player_json\"])\n",
    "df_rangers_stats_2018_2019.head()"
   ]
  },
  {
   "cell_type": "code",
   "execution_count": 252,
   "metadata": {},
   "outputs": [
    {
     "data": {
      "text/html": [
       "<div>\n",
       "<style scoped>\n",
       "    .dataframe tbody tr th:only-of-type {\n",
       "        vertical-align: middle;\n",
       "    }\n",
       "\n",
       "    .dataframe tbody tr th {\n",
       "        vertical-align: top;\n",
       "    }\n",
       "\n",
       "    .dataframe thead th {\n",
       "        text-align: right;\n",
       "    }\n",
       "</style>\n",
       "<table border=\"1\" class=\"dataframe\">\n",
       "  <thead>\n",
       "    <tr style=\"text-align: right;\">\n",
       "      <th></th>\n",
       "      <th>jerseyNumber</th>\n",
       "      <th>person.id</th>\n",
       "      <th>person.fullName</th>\n",
       "      <th>person.link</th>\n",
       "      <th>position.code</th>\n",
       "      <th>position.name</th>\n",
       "      <th>position.type</th>\n",
       "      <th>position.abbreviation</th>\n",
       "      <th>player_stats_link</th>\n",
       "      <th>player_json</th>\n",
       "    </tr>\n",
       "  </thead>\n",
       "  <tbody>\n",
       "    <tr>\n",
       "      <th>18</th>\n",
       "      <td>23</td>\n",
       "      <td>8479323</td>\n",
       "      <td>Adam Fox</td>\n",
       "      <td>/api/v1/people/8479323</td>\n",
       "      <td>D</td>\n",
       "      <td>Defenseman</td>\n",
       "      <td>Defenseman</td>\n",
       "      <td>D</td>\n",
       "      <td>https://statsapi.web.nhl.com/api/v1/people/847...</td>\n",
       "      <td>{}</td>\n",
       "    </tr>\n",
       "    <tr>\n",
       "      <th>20</th>\n",
       "      <td>12</td>\n",
       "      <td>8479328</td>\n",
       "      <td>Julien Gauthier</td>\n",
       "      <td>/api/v1/people/8479328</td>\n",
       "      <td>R</td>\n",
       "      <td>Right Wing</td>\n",
       "      <td>Forward</td>\n",
       "      <td>RW</td>\n",
       "      <td>https://statsapi.web.nhl.com/api/v1/people/847...</td>\n",
       "      <td>{}</td>\n",
       "    </tr>\n",
       "    <tr>\n",
       "      <th>26</th>\n",
       "      <td>24</td>\n",
       "      <td>8481554</td>\n",
       "      <td>Kaapo Kakko</td>\n",
       "      <td>/api/v1/people/8481554</td>\n",
       "      <td>R</td>\n",
       "      <td>Right Wing</td>\n",
       "      <td>Forward</td>\n",
       "      <td>RW</td>\n",
       "      <td>https://statsapi.web.nhl.com/api/v1/people/848...</td>\n",
       "      <td>{}</td>\n",
       "    </tr>\n",
       "    <tr>\n",
       "      <th>28</th>\n",
       "      <td>31</td>\n",
       "      <td>8478048</td>\n",
       "      <td>Igor Shesterkin</td>\n",
       "      <td>/api/v1/people/8478048</td>\n",
       "      <td>G</td>\n",
       "      <td>Goalie</td>\n",
       "      <td>Goalie</td>\n",
       "      <td>G</td>\n",
       "      <td>https://statsapi.web.nhl.com/api/v1/people/847...</td>\n",
       "      <td>{}</td>\n",
       "    </tr>\n",
       "  </tbody>\n",
       "</table>\n",
       "</div>"
      ],
      "text/plain": [
       "   jerseyNumber person.id  person.fullName             person.link  \\\n",
       "18           23   8479323         Adam Fox  /api/v1/people/8479323   \n",
       "20           12   8479328  Julien Gauthier  /api/v1/people/8479328   \n",
       "26           24   8481554      Kaapo Kakko  /api/v1/people/8481554   \n",
       "28           31   8478048  Igor Shesterkin  /api/v1/people/8478048   \n",
       "\n",
       "   position.code position.name position.type position.abbreviation  \\\n",
       "18             D    Defenseman    Defenseman                     D   \n",
       "20             R    Right Wing       Forward                    RW   \n",
       "26             R    Right Wing       Forward                    RW   \n",
       "28             G        Goalie        Goalie                     G   \n",
       "\n",
       "                                    player_stats_link player_json  \n",
       "18  https://statsapi.web.nhl.com/api/v1/people/847...          {}  \n",
       "20  https://statsapi.web.nhl.com/api/v1/people/847...          {}  \n",
       "26  https://statsapi.web.nhl.com/api/v1/people/848...          {}  \n",
       "28  https://statsapi.web.nhl.com/api/v1/people/847...          {}  "
      ]
     },
     "execution_count": 252,
     "metadata": {},
     "output_type": "execute_result"
    }
   ],
   "source": [
    "#find the players from 2019-2020 roster that did have stats in 2018-2019\n",
    "#they were all rookies in 2018-2019\n",
    "df_rangers_roster[df_rangers_stats_2018_2019['season'].isnull().values]"
   ]
  },
  {
   "cell_type": "code",
   "execution_count": 253,
   "metadata": {},
   "outputs": [
    {
     "data": {
      "text/plain": [
       "17    6.0\n",
       "Name: stat.powerPlayGoals, dtype: float64"
      ]
     },
     "execution_count": 253,
     "metadata": {},
     "output_type": "execute_result"
    }
   ],
   "source": [
    "df_rangers_stats = pd.concat([df_rangers_roster, df_rangers_stats_2018_2019], axis = 1)\n",
    "df_rangers_stats[df_rangers_stats[\"person.id\"] == artemi_id][\"stat.powerPlayGoals\"]"
   ]
  },
  {
   "cell_type": "markdown",
   "metadata": {},
   "source": [
    "%md\n",
    "### Compare Players"
   ]
  },
  {
   "cell_type": "code",
   "execution_count": null,
   "metadata": {},
   "outputs": [],
   "source": [
    "example = \"https://suggest.svc.nhl.com/svc/suggest/v1/minplayers/wayne%20gre/99999\""
   ]
  },
  {
   "cell_type": "markdown",
   "metadata": {},
   "source": [
    "the number reflects the results to return "
   ]
  },
  {
   "cell_type": "code",
   "execution_count": null,
   "metadata": {},
   "outputs": [],
   "source": [
    "https://suggest.svc.nhl.com/svc/suggest/v1/minplayers/wayne/2"
   ]
  },
  {
   "cell_type": "code",
   "execution_count": null,
   "metadata": {},
   "outputs": [],
   "source": [
    "https://statsapi.web.nhl.com/api/v1/teams/?teamId=3&expand=team.stats&season=20132014"
   ]
  },
  {
   "cell_type": "markdown",
   "metadata": {},
   "source": [
    "### Team Stats"
   ]
  },
  {
   "cell_type": "code",
   "execution_count": 42,
   "metadata": {},
   "outputs": [],
   "source": [
    "def flatten_json(y):\n",
    "    out = {}\n",
    "\n",
    "    def flatten(x, name=''):\n",
    "        if type(x) is dict:\n",
    "            for a in x:\n",
    "                flatten(x[a], name + a + '_')\n",
    "        elif type(x) is list:\n",
    "            i = 0\n",
    "            for a in x:\n",
    "                flatten(a, name + str(i) + '_')\n",
    "                i += 1\n",
    "        else:\n",
    "            out[name[:-1]] = x\n",
    "\n",
    "    flatten(y)\n",
    "    return out"
   ]
  },
  {
   "cell_type": "code",
   "execution_count": 109,
   "metadata": {},
   "outputs": [],
   "source": [
    "import time\n",
    "\n",
    "def get_team_stats(start, stop):\n",
    "    base_url = \"https://statsapi.web.nhl.com/api/v1/teams/?teamId=3&expand=team.stats&season=\"\n",
    "    start = int(start)\n",
    "    stop = int(stop)\n",
    "    \n",
    "    stats = []\n",
    "    \n",
    "    while start != stop:\n",
    "        url = base_url + str(start) + str(start + 1)\n",
    "        response = requests.get(url)\n",
    "        content = response.json()['teams']\n",
    "        try:\n",
    "            team_stats = [team_dict['teamStats'][0] for team_dict in content][0]['splits'][0]\n",
    "            if type(team_stats) is dict:\n",
    "                team_stats.update({\"season_start\":start, \"season_stop\" : start + 1})\n",
    "                stats.append(team_stats)\n",
    "            else:\n",
    "                for item in team_stats:\n",
    "                    item.update({\"season_start\":start, \"season_stop\" : start + 1})\n",
    "        except:\n",
    "            pass\n",
    "        time.sleep(1)\n",
    "        start += 1\n",
    "        print(str(start) + \" season complete\")\n",
    "    \n",
    "    #stats = [item for sublist in stats for item in sublist ]\n",
    "    df_stats = pd.json_normalize(stats, sep = \"_\")\n",
    "    return df_stats\n",
    "\n",
    "#rangers_stats = get_team_stats(2012,2014)\n",
    "        "
   ]
  },
  {
   "cell_type": "code",
   "execution_count": 107,
   "metadata": {
    "scrolled": true
   },
   "outputs": [
    {
     "data": {
      "text/html": [
       "<div>\n",
       "<style scoped>\n",
       "    .dataframe tbody tr th:only-of-type {\n",
       "        vertical-align: middle;\n",
       "    }\n",
       "\n",
       "    .dataframe tbody tr th {\n",
       "        vertical-align: top;\n",
       "    }\n",
       "\n",
       "    .dataframe thead th {\n",
       "        text-align: right;\n",
       "    }\n",
       "</style>\n",
       "<table border=\"1\" class=\"dataframe\">\n",
       "  <thead>\n",
       "    <tr style=\"text-align: right;\">\n",
       "      <th></th>\n",
       "      <th>season_start</th>\n",
       "      <th>season_stop</th>\n",
       "      <th>stat.gamesPlayed</th>\n",
       "      <th>stat.wins</th>\n",
       "      <th>stat.losses</th>\n",
       "      <th>stat.ot</th>\n",
       "      <th>stat.pts</th>\n",
       "      <th>stat.ptPctg</th>\n",
       "      <th>stat.goalsPerGame</th>\n",
       "      <th>stat.goalsAgainstPerGame</th>\n",
       "      <th>...</th>\n",
       "      <th>stat.winOutshotByOpp</th>\n",
       "      <th>stat.faceOffsTaken</th>\n",
       "      <th>stat.faceOffsWon</th>\n",
       "      <th>stat.faceOffsLost</th>\n",
       "      <th>stat.faceOffWinPercentage</th>\n",
       "      <th>stat.shootingPctg</th>\n",
       "      <th>stat.savePctg</th>\n",
       "      <th>team.id</th>\n",
       "      <th>team.name</th>\n",
       "      <th>team.link</th>\n",
       "    </tr>\n",
       "  </thead>\n",
       "  <tbody>\n",
       "    <tr>\n",
       "      <th>0</th>\n",
       "      <td>2012</td>\n",
       "      <td>2013</td>\n",
       "      <td>48</td>\n",
       "      <td>26</td>\n",
       "      <td>18</td>\n",
       "      <td>4</td>\n",
       "      <td>56</td>\n",
       "      <td>58.3</td>\n",
       "      <td>2.625</td>\n",
       "      <td>2.250</td>\n",
       "      <td>...</td>\n",
       "      <td>0.524</td>\n",
       "      <td>2820.0</td>\n",
       "      <td>1410.0</td>\n",
       "      <td>1410.0</td>\n",
       "      <td>50.0</td>\n",
       "      <td>8.5</td>\n",
       "      <td>0.920</td>\n",
       "      <td>3</td>\n",
       "      <td>New York Rangers</td>\n",
       "      <td>/api/v1/teams/3</td>\n",
       "    </tr>\n",
       "    <tr>\n",
       "      <th>1</th>\n",
       "      <td>2013</td>\n",
       "      <td>2014</td>\n",
       "      <td>82</td>\n",
       "      <td>45</td>\n",
       "      <td>31</td>\n",
       "      <td>6</td>\n",
       "      <td>96</td>\n",
       "      <td>58.5</td>\n",
       "      <td>2.610</td>\n",
       "      <td>2.317</td>\n",
       "      <td>...</td>\n",
       "      <td>0.591</td>\n",
       "      <td>4909.0</td>\n",
       "      <td>2397.0</td>\n",
       "      <td>2512.0</td>\n",
       "      <td>48.8</td>\n",
       "      <td>7.9</td>\n",
       "      <td>0.921</td>\n",
       "      <td>3</td>\n",
       "      <td>New York Rangers</td>\n",
       "      <td>/api/v1/teams/3</td>\n",
       "    </tr>\n",
       "  </tbody>\n",
       "</table>\n",
       "<p>2 rows × 33 columns</p>\n",
       "</div>"
      ],
      "text/plain": [
       "   season_start  season_stop  stat.gamesPlayed  stat.wins  stat.losses  \\\n",
       "0          2012         2013                48         26           18   \n",
       "1          2013         2014                82         45           31   \n",
       "\n",
       "   stat.ot  stat.pts stat.ptPctg  stat.goalsPerGame  stat.goalsAgainstPerGame  \\\n",
       "0        4        56        58.3              2.625                     2.250   \n",
       "1        6        96        58.5              2.610                     2.317   \n",
       "\n",
       "   ...  stat.winOutshotByOpp stat.faceOffsTaken  stat.faceOffsWon  \\\n",
       "0  ...                 0.524             2820.0            1410.0   \n",
       "1  ...                 0.591             4909.0            2397.0   \n",
       "\n",
       "   stat.faceOffsLost  stat.faceOffWinPercentage stat.shootingPctg  \\\n",
       "0             1410.0                       50.0               8.5   \n",
       "1             2512.0                       48.8               7.9   \n",
       "\n",
       "   stat.savePctg  team.id         team.name        team.link  \n",
       "0          0.920        3  New York Rangers  /api/v1/teams/3  \n",
       "1          0.921        3  New York Rangers  /api/v1/teams/3  \n",
       "\n",
       "[2 rows x 33 columns]"
      ]
     },
     "execution_count": 107,
     "metadata": {},
     "output_type": "execute_result"
    }
   ],
   "source": [
    "rangers_stats"
   ]
  },
  {
   "cell_type": "code",
   "execution_count": 110,
   "metadata": {},
   "outputs": [
    {
     "name": "stdout",
     "output_type": "stream",
     "text": [
      "1927 season complete\n",
      "1928 season complete\n",
      "1929 season complete\n",
      "1930 season complete\n",
      "1931 season complete\n",
      "1932 season complete\n",
      "1933 season complete\n",
      "1934 season complete\n",
      "1935 season complete\n",
      "1936 season complete\n",
      "1937 season complete\n",
      "1938 season complete\n",
      "1939 season complete\n",
      "1940 season complete\n",
      "1941 season complete\n",
      "1942 season complete\n",
      "1943 season complete\n",
      "1944 season complete\n",
      "1945 season complete\n",
      "1946 season complete\n",
      "1947 season complete\n",
      "1948 season complete\n",
      "1949 season complete\n",
      "1950 season complete\n",
      "1951 season complete\n",
      "1952 season complete\n",
      "1953 season complete\n",
      "1954 season complete\n",
      "1955 season complete\n",
      "1956 season complete\n",
      "1957 season complete\n",
      "1958 season complete\n",
      "1959 season complete\n",
      "1960 season complete\n",
      "1961 season complete\n",
      "1962 season complete\n",
      "1963 season complete\n",
      "1964 season complete\n",
      "1965 season complete\n",
      "1966 season complete\n",
      "1967 season complete\n",
      "1968 season complete\n",
      "1969 season complete\n",
      "1970 season complete\n",
      "1971 season complete\n",
      "1972 season complete\n",
      "1973 season complete\n",
      "1974 season complete\n",
      "1975 season complete\n",
      "1976 season complete\n",
      "1977 season complete\n",
      "1978 season complete\n",
      "1979 season complete\n",
      "1980 season complete\n",
      "1981 season complete\n",
      "1982 season complete\n",
      "1983 season complete\n",
      "1984 season complete\n",
      "1985 season complete\n",
      "1986 season complete\n",
      "1987 season complete\n",
      "1988 season complete\n",
      "1989 season complete\n",
      "1990 season complete\n",
      "1991 season complete\n",
      "1992 season complete\n",
      "1993 season complete\n",
      "1994 season complete\n",
      "1995 season complete\n",
      "1996 season complete\n",
      "1997 season complete\n",
      "1998 season complete\n",
      "1999 season complete\n",
      "2000 season complete\n",
      "2001 season complete\n",
      "2002 season complete\n",
      "2003 season complete\n",
      "2004 season complete\n",
      "2005 season complete\n",
      "2006 season complete\n",
      "2007 season complete\n",
      "2008 season complete\n",
      "2009 season complete\n",
      "2010 season complete\n",
      "2011 season complete\n",
      "2012 season complete\n",
      "2013 season complete\n",
      "2014 season complete\n",
      "2015 season complete\n",
      "2016 season complete\n",
      "2017 season complete\n",
      "2018 season complete\n",
      "2019 season complete\n",
      "2020 season complete\n"
     ]
    }
   ],
   "source": [
    "df_rangers = get_team_stats(1926,2020)\n"
   ]
  },
  {
   "cell_type": "code",
   "execution_count": 131,
   "metadata": {
    "scrolled": true
   },
   "outputs": [
    {
     "data": {
      "text/plain": [
       "Index(['season_start', 'season_stop', 'stat_gamesPlayed', 'stat_wins',\n",
       "       'stat_losses', 'stat_ot', 'stat_pts', 'stat_ptPctg',\n",
       "       'stat_goalsPerGame', 'stat_goalsAgainstPerGame', 'stat_evGGARatio',\n",
       "       'stat_powerPlayPercentage', 'stat_powerPlayGoals',\n",
       "       'stat_powerPlayGoalsAgainst', 'stat_powerPlayOpportunities',\n",
       "       'stat_penaltyKillPercentage', 'stat_shotsPerGame', 'stat_shotsAllowed',\n",
       "       'stat_winScoreFirst', 'stat_winOppScoreFirst', 'stat_winLeadFirstPer',\n",
       "       'stat_winLeadSecondPer', 'stat_winOutshootOpp', 'stat_winOutshotByOpp',\n",
       "       'stat_faceOffsTaken', 'stat_faceOffsWon', 'stat_faceOffsLost',\n",
       "       'stat_faceOffWinPercentage', 'stat_shootingPctg', 'stat_savePctg',\n",
       "       'team_id', 'team_name', 'team_link'],\n",
       "      dtype='object')"
      ]
     },
     "execution_count": 131,
     "metadata": {},
     "output_type": "execute_result"
    }
   ],
   "source": [
    "import re\n",
    "\n",
    "re.sub(\"\\\\.\", \"_\", \"test this.out\")\n",
    "\n",
    "df_rangers.rename(columns = lambda x: re.sub(\"\\\\.\", \"_\", x), inplace = True)\n",
    "df_rangers.columns"
   ]
  },
  {
   "cell_type": "code",
   "execution_count": 200,
   "metadata": {},
   "outputs": [
    {
     "data": {
      "text/html": [
       "\n",
       "    <div class=\"bk-root\">\n",
       "        <a href=\"https://bokeh.org\" target=\"_blank\" class=\"bk-logo bk-logo-small bk-logo-notebook\"></a>\n",
       "        <span id=\"15809\">Loading BokehJS ...</span>\n",
       "    </div>"
      ]
     },
     "metadata": {},
     "output_type": "display_data"
    },
    {
     "data": {
      "application/javascript": [
       "\n",
       "(function(root) {\n",
       "  function now() {\n",
       "    return new Date();\n",
       "  }\n",
       "\n",
       "  var force = true;\n",
       "\n",
       "  if (typeof root._bokeh_onload_callbacks === \"undefined\" || force === true) {\n",
       "    root._bokeh_onload_callbacks = [];\n",
       "    root._bokeh_is_loading = undefined;\n",
       "  }\n",
       "\n",
       "  var JS_MIME_TYPE = 'application/javascript';\n",
       "  var HTML_MIME_TYPE = 'text/html';\n",
       "  var EXEC_MIME_TYPE = 'application/vnd.bokehjs_exec.v0+json';\n",
       "  var CLASS_NAME = 'output_bokeh rendered_html';\n",
       "\n",
       "  /**\n",
       "   * Render data to the DOM node\n",
       "   */\n",
       "  function render(props, node) {\n",
       "    var script = document.createElement(\"script\");\n",
       "    node.appendChild(script);\n",
       "  }\n",
       "\n",
       "  /**\n",
       "   * Handle when an output is cleared or removed\n",
       "   */\n",
       "  function handleClearOutput(event, handle) {\n",
       "    var cell = handle.cell;\n",
       "\n",
       "    var id = cell.output_area._bokeh_element_id;\n",
       "    var server_id = cell.output_area._bokeh_server_id;\n",
       "    // Clean up Bokeh references\n",
       "    if (id != null && id in Bokeh.index) {\n",
       "      Bokeh.index[id].model.document.clear();\n",
       "      delete Bokeh.index[id];\n",
       "    }\n",
       "\n",
       "    if (server_id !== undefined) {\n",
       "      // Clean up Bokeh references\n",
       "      var cmd = \"from bokeh.io.state import curstate; print(curstate().uuid_to_server['\" + server_id + \"'].get_sessions()[0].document.roots[0]._id)\";\n",
       "      cell.notebook.kernel.execute(cmd, {\n",
       "        iopub: {\n",
       "          output: function(msg) {\n",
       "            var id = msg.content.text.trim();\n",
       "            if (id in Bokeh.index) {\n",
       "              Bokeh.index[id].model.document.clear();\n",
       "              delete Bokeh.index[id];\n",
       "            }\n",
       "          }\n",
       "        }\n",
       "      });\n",
       "      // Destroy server and session\n",
       "      var cmd = \"import bokeh.io.notebook as ion; ion.destroy_server('\" + server_id + \"')\";\n",
       "      cell.notebook.kernel.execute(cmd);\n",
       "    }\n",
       "  }\n",
       "\n",
       "  /**\n",
       "   * Handle when a new output is added\n",
       "   */\n",
       "  function handleAddOutput(event, handle) {\n",
       "    var output_area = handle.output_area;\n",
       "    var output = handle.output;\n",
       "\n",
       "    // limit handleAddOutput to display_data with EXEC_MIME_TYPE content only\n",
       "    if ((output.output_type != \"display_data\") || (!output.data.hasOwnProperty(EXEC_MIME_TYPE))) {\n",
       "      return\n",
       "    }\n",
       "\n",
       "    var toinsert = output_area.element.find(\".\" + CLASS_NAME.split(' ')[0]);\n",
       "\n",
       "    if (output.metadata[EXEC_MIME_TYPE][\"id\"] !== undefined) {\n",
       "      toinsert[toinsert.length - 1].firstChild.textContent = output.data[JS_MIME_TYPE];\n",
       "      // store reference to embed id on output_area\n",
       "      output_area._bokeh_element_id = output.metadata[EXEC_MIME_TYPE][\"id\"];\n",
       "    }\n",
       "    if (output.metadata[EXEC_MIME_TYPE][\"server_id\"] !== undefined) {\n",
       "      var bk_div = document.createElement(\"div\");\n",
       "      bk_div.innerHTML = output.data[HTML_MIME_TYPE];\n",
       "      var script_attrs = bk_div.children[0].attributes;\n",
       "      for (var i = 0; i < script_attrs.length; i++) {\n",
       "        toinsert[toinsert.length - 1].firstChild.setAttribute(script_attrs[i].name, script_attrs[i].value);\n",
       "        toinsert[toinsert.length - 1].firstChild.textContent = bk_div.children[0].textContent\n",
       "      }\n",
       "      // store reference to server id on output_area\n",
       "      output_area._bokeh_server_id = output.metadata[EXEC_MIME_TYPE][\"server_id\"];\n",
       "    }\n",
       "  }\n",
       "\n",
       "  function register_renderer(events, OutputArea) {\n",
       "\n",
       "    function append_mime(data, metadata, element) {\n",
       "      // create a DOM node to render to\n",
       "      var toinsert = this.create_output_subarea(\n",
       "        metadata,\n",
       "        CLASS_NAME,\n",
       "        EXEC_MIME_TYPE\n",
       "      );\n",
       "      this.keyboard_manager.register_events(toinsert);\n",
       "      // Render to node\n",
       "      var props = {data: data, metadata: metadata[EXEC_MIME_TYPE]};\n",
       "      render(props, toinsert[toinsert.length - 1]);\n",
       "      element.append(toinsert);\n",
       "      return toinsert\n",
       "    }\n",
       "\n",
       "    /* Handle when an output is cleared or removed */\n",
       "    events.on('clear_output.CodeCell', handleClearOutput);\n",
       "    events.on('delete.Cell', handleClearOutput);\n",
       "\n",
       "    /* Handle when a new output is added */\n",
       "    events.on('output_added.OutputArea', handleAddOutput);\n",
       "\n",
       "    /**\n",
       "     * Register the mime type and append_mime function with output_area\n",
       "     */\n",
       "    OutputArea.prototype.register_mime_type(EXEC_MIME_TYPE, append_mime, {\n",
       "      /* Is output safe? */\n",
       "      safe: true,\n",
       "      /* Index of renderer in `output_area.display_order` */\n",
       "      index: 0\n",
       "    });\n",
       "  }\n",
       "\n",
       "  // register the mime type if in Jupyter Notebook environment and previously unregistered\n",
       "  if (root.Jupyter !== undefined) {\n",
       "    var events = require('base/js/events');\n",
       "    var OutputArea = require('notebook/js/outputarea').OutputArea;\n",
       "\n",
       "    if (OutputArea.prototype.mime_types().indexOf(EXEC_MIME_TYPE) == -1) {\n",
       "      register_renderer(events, OutputArea);\n",
       "    }\n",
       "  }\n",
       "\n",
       "  \n",
       "  if (typeof (root._bokeh_timeout) === \"undefined\" || force === true) {\n",
       "    root._bokeh_timeout = Date.now() + 5000;\n",
       "    root._bokeh_failed_load = false;\n",
       "  }\n",
       "\n",
       "  var NB_LOAD_WARNING = {'data': {'text/html':\n",
       "     \"<div style='background-color: #fdd'>\\n\"+\n",
       "     \"<p>\\n\"+\n",
       "     \"BokehJS does not appear to have successfully loaded. If loading BokehJS from CDN, this \\n\"+\n",
       "     \"may be due to a slow or bad network connection. Possible fixes:\\n\"+\n",
       "     \"</p>\\n\"+\n",
       "     \"<ul>\\n\"+\n",
       "     \"<li>re-rerun `output_notebook()` to attempt to load from CDN again, or</li>\\n\"+\n",
       "     \"<li>use INLINE resources instead, as so:</li>\\n\"+\n",
       "     \"</ul>\\n\"+\n",
       "     \"<code>\\n\"+\n",
       "     \"from bokeh.resources import INLINE\\n\"+\n",
       "     \"output_notebook(resources=INLINE)\\n\"+\n",
       "     \"</code>\\n\"+\n",
       "     \"</div>\"}};\n",
       "\n",
       "  function display_loaded() {\n",
       "    var el = document.getElementById(\"15809\");\n",
       "    if (el != null) {\n",
       "      el.textContent = \"BokehJS is loading...\";\n",
       "    }\n",
       "    if (root.Bokeh !== undefined) {\n",
       "      if (el != null) {\n",
       "        el.textContent = \"BokehJS \" + root.Bokeh.version + \" successfully loaded.\";\n",
       "      }\n",
       "    } else if (Date.now() < root._bokeh_timeout) {\n",
       "      setTimeout(display_loaded, 100)\n",
       "    }\n",
       "  }\n",
       "\n",
       "\n",
       "  function run_callbacks() {\n",
       "    try {\n",
       "      root._bokeh_onload_callbacks.forEach(function(callback) {\n",
       "        if (callback != null)\n",
       "          callback();\n",
       "      });\n",
       "    } finally {\n",
       "      delete root._bokeh_onload_callbacks\n",
       "    }\n",
       "    console.debug(\"Bokeh: all callbacks have finished\");\n",
       "  }\n",
       "\n",
       "  function load_libs(css_urls, js_urls, callback) {\n",
       "    if (css_urls == null) css_urls = [];\n",
       "    if (js_urls == null) js_urls = [];\n",
       "\n",
       "    root._bokeh_onload_callbacks.push(callback);\n",
       "    if (root._bokeh_is_loading > 0) {\n",
       "      console.debug(\"Bokeh: BokehJS is being loaded, scheduling callback at\", now());\n",
       "      return null;\n",
       "    }\n",
       "    if (js_urls == null || js_urls.length === 0) {\n",
       "      run_callbacks();\n",
       "      return null;\n",
       "    }\n",
       "    console.debug(\"Bokeh: BokehJS not loaded, scheduling load and callback at\", now());\n",
       "    root._bokeh_is_loading = css_urls.length + js_urls.length;\n",
       "\n",
       "    function on_load() {\n",
       "      root._bokeh_is_loading--;\n",
       "      if (root._bokeh_is_loading === 0) {\n",
       "        console.debug(\"Bokeh: all BokehJS libraries/stylesheets loaded\");\n",
       "        run_callbacks()\n",
       "      }\n",
       "    }\n",
       "\n",
       "    function on_error() {\n",
       "      console.error(\"failed to load \" + url);\n",
       "    }\n",
       "\n",
       "    for (var i = 0; i < css_urls.length; i++) {\n",
       "      var url = css_urls[i];\n",
       "      const element = document.createElement(\"link\");\n",
       "      element.onload = on_load;\n",
       "      element.onerror = on_error;\n",
       "      element.rel = \"stylesheet\";\n",
       "      element.type = \"text/css\";\n",
       "      element.href = url;\n",
       "      console.debug(\"Bokeh: injecting link tag for BokehJS stylesheet: \", url);\n",
       "      document.body.appendChild(element);\n",
       "    }\n",
       "\n",
       "    const hashes = {\"https://cdn.bokeh.org/bokeh/release/bokeh-2.2.3.min.js\": \"T2yuo9Oe71Cz/I4X9Ac5+gpEa5a8PpJCDlqKYO0CfAuEszu1JrXLl8YugMqYe3sM\", \"https://cdn.bokeh.org/bokeh/release/bokeh-widgets-2.2.3.min.js\": \"98GDGJ0kOMCUMUePhksaQ/GYgB3+NH9h996V88sh3aOiUNX3N+fLXAtry6xctSZ6\", \"https://cdn.bokeh.org/bokeh/release/bokeh-tables-2.2.3.min.js\": \"89bArO+nlbP3sgakeHjCo1JYxYR5wufVgA3IbUvDY+K7w4zyxJqssu7wVnfeKCq8\"};\n",
       "\n",
       "    for (var i = 0; i < js_urls.length; i++) {\n",
       "      var url = js_urls[i];\n",
       "      var element = document.createElement('script');\n",
       "      element.onload = on_load;\n",
       "      element.onerror = on_error;\n",
       "      element.async = false;\n",
       "      element.src = url;\n",
       "      if (url in hashes) {\n",
       "        element.crossOrigin = \"anonymous\";\n",
       "        element.integrity = \"sha384-\" + hashes[url];\n",
       "      }\n",
       "      console.debug(\"Bokeh: injecting script tag for BokehJS library: \", url);\n",
       "      document.head.appendChild(element);\n",
       "    }\n",
       "  };\n",
       "\n",
       "  function inject_raw_css(css) {\n",
       "    const element = document.createElement(\"style\");\n",
       "    element.appendChild(document.createTextNode(css));\n",
       "    document.body.appendChild(element);\n",
       "  }\n",
       "\n",
       "  \n",
       "  var js_urls = [\"https://cdn.bokeh.org/bokeh/release/bokeh-2.2.3.min.js\", \"https://cdn.bokeh.org/bokeh/release/bokeh-widgets-2.2.3.min.js\", \"https://cdn.bokeh.org/bokeh/release/bokeh-tables-2.2.3.min.js\"];\n",
       "  var css_urls = [];\n",
       "  \n",
       "\n",
       "  var inline_js = [\n",
       "    function(Bokeh) {\n",
       "      Bokeh.set_log_level(\"info\");\n",
       "    },\n",
       "    function(Bokeh) {\n",
       "    \n",
       "    \n",
       "    }\n",
       "  ];\n",
       "\n",
       "  function run_inline_js() {\n",
       "    \n",
       "    if (root.Bokeh !== undefined || force === true) {\n",
       "      \n",
       "    for (var i = 0; i < inline_js.length; i++) {\n",
       "      inline_js[i].call(root, root.Bokeh);\n",
       "    }\n",
       "    if (force === true) {\n",
       "        display_loaded();\n",
       "      }} else if (Date.now() < root._bokeh_timeout) {\n",
       "      setTimeout(run_inline_js, 100);\n",
       "    } else if (!root._bokeh_failed_load) {\n",
       "      console.log(\"Bokeh: BokehJS failed to load within specified timeout.\");\n",
       "      root._bokeh_failed_load = true;\n",
       "    } else if (force !== true) {\n",
       "      var cell = $(document.getElementById(\"15809\")).parents('.cell').data().cell;\n",
       "      cell.output_area.append_execute_result(NB_LOAD_WARNING)\n",
       "    }\n",
       "\n",
       "  }\n",
       "\n",
       "  if (root._bokeh_is_loading === 0) {\n",
       "    console.debug(\"Bokeh: BokehJS loaded, going straight to plotting\");\n",
       "    run_inline_js();\n",
       "  } else {\n",
       "    load_libs(css_urls, js_urls, function() {\n",
       "      console.debug(\"Bokeh: BokehJS plotting callback run at\", now());\n",
       "      run_inline_js();\n",
       "    });\n",
       "  }\n",
       "}(window));"
      ],
      "application/vnd.bokehjs_load.v0+json": "\n(function(root) {\n  function now() {\n    return new Date();\n  }\n\n  var force = true;\n\n  if (typeof root._bokeh_onload_callbacks === \"undefined\" || force === true) {\n    root._bokeh_onload_callbacks = [];\n    root._bokeh_is_loading = undefined;\n  }\n\n  \n\n  \n  if (typeof (root._bokeh_timeout) === \"undefined\" || force === true) {\n    root._bokeh_timeout = Date.now() + 5000;\n    root._bokeh_failed_load = false;\n  }\n\n  var NB_LOAD_WARNING = {'data': {'text/html':\n     \"<div style='background-color: #fdd'>\\n\"+\n     \"<p>\\n\"+\n     \"BokehJS does not appear to have successfully loaded. If loading BokehJS from CDN, this \\n\"+\n     \"may be due to a slow or bad network connection. Possible fixes:\\n\"+\n     \"</p>\\n\"+\n     \"<ul>\\n\"+\n     \"<li>re-rerun `output_notebook()` to attempt to load from CDN again, or</li>\\n\"+\n     \"<li>use INLINE resources instead, as so:</li>\\n\"+\n     \"</ul>\\n\"+\n     \"<code>\\n\"+\n     \"from bokeh.resources import INLINE\\n\"+\n     \"output_notebook(resources=INLINE)\\n\"+\n     \"</code>\\n\"+\n     \"</div>\"}};\n\n  function display_loaded() {\n    var el = document.getElementById(\"15809\");\n    if (el != null) {\n      el.textContent = \"BokehJS is loading...\";\n    }\n    if (root.Bokeh !== undefined) {\n      if (el != null) {\n        el.textContent = \"BokehJS \" + root.Bokeh.version + \" successfully loaded.\";\n      }\n    } else if (Date.now() < root._bokeh_timeout) {\n      setTimeout(display_loaded, 100)\n    }\n  }\n\n\n  function run_callbacks() {\n    try {\n      root._bokeh_onload_callbacks.forEach(function(callback) {\n        if (callback != null)\n          callback();\n      });\n    } finally {\n      delete root._bokeh_onload_callbacks\n    }\n    console.debug(\"Bokeh: all callbacks have finished\");\n  }\n\n  function load_libs(css_urls, js_urls, callback) {\n    if (css_urls == null) css_urls = [];\n    if (js_urls == null) js_urls = [];\n\n    root._bokeh_onload_callbacks.push(callback);\n    if (root._bokeh_is_loading > 0) {\n      console.debug(\"Bokeh: BokehJS is being loaded, scheduling callback at\", now());\n      return null;\n    }\n    if (js_urls == null || js_urls.length === 0) {\n      run_callbacks();\n      return null;\n    }\n    console.debug(\"Bokeh: BokehJS not loaded, scheduling load and callback at\", now());\n    root._bokeh_is_loading = css_urls.length + js_urls.length;\n\n    function on_load() {\n      root._bokeh_is_loading--;\n      if (root._bokeh_is_loading === 0) {\n        console.debug(\"Bokeh: all BokehJS libraries/stylesheets loaded\");\n        run_callbacks()\n      }\n    }\n\n    function on_error() {\n      console.error(\"failed to load \" + url);\n    }\n\n    for (var i = 0; i < css_urls.length; i++) {\n      var url = css_urls[i];\n      const element = document.createElement(\"link\");\n      element.onload = on_load;\n      element.onerror = on_error;\n      element.rel = \"stylesheet\";\n      element.type = \"text/css\";\n      element.href = url;\n      console.debug(\"Bokeh: injecting link tag for BokehJS stylesheet: \", url);\n      document.body.appendChild(element);\n    }\n\n    const hashes = {\"https://cdn.bokeh.org/bokeh/release/bokeh-2.2.3.min.js\": \"T2yuo9Oe71Cz/I4X9Ac5+gpEa5a8PpJCDlqKYO0CfAuEszu1JrXLl8YugMqYe3sM\", \"https://cdn.bokeh.org/bokeh/release/bokeh-widgets-2.2.3.min.js\": \"98GDGJ0kOMCUMUePhksaQ/GYgB3+NH9h996V88sh3aOiUNX3N+fLXAtry6xctSZ6\", \"https://cdn.bokeh.org/bokeh/release/bokeh-tables-2.2.3.min.js\": \"89bArO+nlbP3sgakeHjCo1JYxYR5wufVgA3IbUvDY+K7w4zyxJqssu7wVnfeKCq8\"};\n\n    for (var i = 0; i < js_urls.length; i++) {\n      var url = js_urls[i];\n      var element = document.createElement('script');\n      element.onload = on_load;\n      element.onerror = on_error;\n      element.async = false;\n      element.src = url;\n      if (url in hashes) {\n        element.crossOrigin = \"anonymous\";\n        element.integrity = \"sha384-\" + hashes[url];\n      }\n      console.debug(\"Bokeh: injecting script tag for BokehJS library: \", url);\n      document.head.appendChild(element);\n    }\n  };\n\n  function inject_raw_css(css) {\n    const element = document.createElement(\"style\");\n    element.appendChild(document.createTextNode(css));\n    document.body.appendChild(element);\n  }\n\n  \n  var js_urls = [\"https://cdn.bokeh.org/bokeh/release/bokeh-2.2.3.min.js\", \"https://cdn.bokeh.org/bokeh/release/bokeh-widgets-2.2.3.min.js\", \"https://cdn.bokeh.org/bokeh/release/bokeh-tables-2.2.3.min.js\"];\n  var css_urls = [];\n  \n\n  var inline_js = [\n    function(Bokeh) {\n      Bokeh.set_log_level(\"info\");\n    },\n    function(Bokeh) {\n    \n    \n    }\n  ];\n\n  function run_inline_js() {\n    \n    if (root.Bokeh !== undefined || force === true) {\n      \n    for (var i = 0; i < inline_js.length; i++) {\n      inline_js[i].call(root, root.Bokeh);\n    }\n    if (force === true) {\n        display_loaded();\n      }} else if (Date.now() < root._bokeh_timeout) {\n      setTimeout(run_inline_js, 100);\n    } else if (!root._bokeh_failed_load) {\n      console.log(\"Bokeh: BokehJS failed to load within specified timeout.\");\n      root._bokeh_failed_load = true;\n    } else if (force !== true) {\n      var cell = $(document.getElementById(\"15809\")).parents('.cell').data().cell;\n      cell.output_area.append_execute_result(NB_LOAD_WARNING)\n    }\n\n  }\n\n  if (root._bokeh_is_loading === 0) {\n    console.debug(\"Bokeh: BokehJS loaded, going straight to plotting\");\n    run_inline_js();\n  } else {\n    load_libs(css_urls, js_urls, function() {\n      console.debug(\"Bokeh: BokehJS plotting callback run at\", now());\n      run_inline_js();\n    });\n  }\n}(window));"
     },
     "metadata": {},
     "output_type": "display_data"
    }
   ],
   "source": [
    "from bokeh.plotting import figure, output_file, show\n",
    "from bokeh.io import output_notebook, show\n",
    "from bokeh.models import ColumnDataSource\n",
    "from bokeh.models.tools import HoverTool\n",
    "from bokeh.models import SingleIntervalTicker, LinearAxis, Range1d, LabelSet, Label, \\\n",
    "Arrow, NormalHead, OpenHead, VeeHead\n",
    "output_notebook()"
   ]
  },
  {
   "cell_type": "code",
   "execution_count": 209,
   "metadata": {},
   "outputs": [
    {
     "data": {
      "text/html": [
       "\n",
       "\n",
       "\n",
       "\n",
       "\n",
       "\n",
       "  <div class=\"bk-root\" id=\"087dea73-390e-4288-800b-be9dc4cef676\" data-root-id=\"19876\"></div>\n"
      ]
     },
     "metadata": {},
     "output_type": "display_data"
    },
    {
     "data": {
      "application/javascript": [
       "(function(root) {\n",
       "  function embed_document(root) {\n",
       "    \n",
       "  var docs_json = {\"c8d76e98-fdee-4767-b211-51bd421b60f9\":{\"roots\":{\"references\":[{\"attributes\":{\"below\":[{\"id\":\"19940\"}],\"center\":[{\"id\":\"19890\"},{\"id\":\"19917\"},{\"id\":\"19933\"},{\"id\":\"19936\"},{\"id\":\"19931\"}],\"left\":[{\"id\":\"19887\"}],\"plot_height\":400,\"plot_width\":400,\"renderers\":[{\"id\":\"19909\"},{\"id\":\"19922\"}],\"title\":{\"id\":\"19877\"},\"toolbar\":{\"id\":\"19898\"},\"x_range\":{\"id\":\"19879\"},\"x_scale\":{\"id\":\"19883\"},\"y_range\":{\"id\":\"19881\"},\"y_scale\":{\"id\":\"19885\"}},\"id\":\"19876\",\"subtype\":\"Figure\",\"type\":\"Plot\"},{\"attributes\":{\"formatter\":{\"id\":\"19913\"},\"minor_tick_line_color\":null,\"ticker\":{\"id\":\"19888\"}},\"id\":\"19887\",\"type\":\"LinearAxis\"},{\"attributes\":{},\"id\":\"19932\",\"type\":\"NormalHead\"},{\"attributes\":{\"data_source\":{\"id\":\"19905\"},\"glyph\":{\"id\":\"19920\"},\"hover_glyph\":null,\"muted_glyph\":null,\"nonselection_glyph\":{\"id\":\"19921\"},\"selection_glyph\":null,\"view\":{\"id\":\"19923\"}},\"id\":\"19922\",\"type\":\"GlyphRenderer\"},{\"attributes\":{\"callback\":null,\"tooltips\":[[\"Year\",\"@season_stop\"],[\"Points\",\"@stat_pts\"],[\"Games Played\",\"@stat_gamesPlayed\"]]},\"id\":\"19938\",\"type\":\"HoverTool\"},{\"attributes\":{\"line_alpha\":0.1,\"line_color\":\"grey\",\"line_dash\":[6],\"line_width\":4,\"x\":{\"field\":\"season_stop\"},\"y\":{\"field\":\"stat_gamesPlayed\"}},\"id\":\"19921\",\"type\":\"Line\"},{\"attributes\":{\"source\":{\"id\":\"19905\"}},\"id\":\"19923\",\"type\":\"CDSView\"},{\"attributes\":{\"data_source\":{\"id\":\"19905\"},\"glyph\":{\"id\":\"19907\"},\"hover_glyph\":null,\"muted_glyph\":null,\"nonselection_glyph\":{\"id\":\"19908\"},\"selection_glyph\":null,\"view\":{\"id\":\"19910\"}},\"id\":\"19909\",\"type\":\"GlyphRenderer\"},{\"attributes\":{\"label\":{\"value\":\"Games Played\"},\"renderers\":[{\"id\":\"19922\"}]},\"id\":\"19930\",\"type\":\"LegendItem\"},{\"attributes\":{},\"id\":\"19894\",\"type\":\"SaveTool\"},{\"attributes\":{\"line_color\":\"#1f77b4\",\"line_width\":2,\"x\":{\"field\":\"season_stop\"},\"y\":{\"field\":\"stat_pts\"}},\"id\":\"19907\",\"type\":\"Line\"},{\"attributes\":{\"data\":{\"index\":[0,1,2,3,4,5,6,7,8,9,10,11,12,13,14,15,16,17,18,19,20,21,22,23,24,25,26,27,28,29,30,31,32,33,34,35,36,37,38,39,40,41,42,43,44,45,46,47,48,49,50,51,52,53,54,55,56,57,58,59,60,61,62,63,64,65,66,67,68,69,70,71,72,73,74,75,76,77,78,79,80,81,82,83,84,85,86,87,88,89,90,91,92],\"season_start\":[1926,1927,1928,1929,1930,1931,1932,1933,1934,1935,1936,1937,1938,1939,1940,1941,1942,1943,1944,1945,1946,1947,1948,1949,1950,1951,1952,1953,1954,1955,1956,1957,1958,1959,1960,1961,1962,1963,1964,1965,1966,1967,1968,1969,1970,1971,1972,1973,1974,1975,1976,1977,1978,1979,1980,1981,1982,1983,1984,1985,1986,1987,1988,1989,1990,1991,1992,1993,1994,1995,1996,1997,1998,1999,2000,2001,2002,2003,2005,2006,2007,2008,2009,2010,2011,2012,2013,2014,2015,2016,2017,2018,2019],\"season_stop\":[1927,1928,1929,1930,1931,1932,1933,1934,1935,1936,1937,1938,1939,1940,1941,1942,1943,1944,1945,1946,1947,1948,1949,1950,1951,1952,1953,1954,1955,1956,1957,1958,1959,1960,1961,1962,1963,1964,1965,1966,1967,1968,1969,1970,1971,1972,1973,1974,1975,1976,1977,1978,1979,1980,1981,1982,1983,1984,1985,1986,1987,1988,1989,1990,1991,1992,1993,1994,1995,1996,1997,1998,1999,2000,2001,2002,2003,2004,2006,2007,2008,2009,2010,2011,2012,2013,2014,2015,2016,2017,2018,2019,2020],\"stat_evGGARatio\":{\"__ndarray__\":\"AAAAAAAAAAAAAAAAAAAAAAAAAAAAAAAAAAAAAAAAAAAAAAAAAAAAAAAAAAAAAAAAAAAAAAAAAAAAAAAAAAAAAAAAAAAAAAAAAAAAAAAAAAAAAAAAAAAAAAAAAAAAAAAAAAAAAAAAAAAAAAAAAAAAAAAAAAAAAAAAAAAAAAAAAAAAAAAAAAAAAAAAAAAAAAAAAAAAAAAAAAAAAAAAAAAAAAAAAAAAAAAAAAAAAAAAAAAAAAAAAAAAAAAAAAAAAAAAAAAAAAAAAAAAAAAAAAAAAAAAAAAAAAAAAAAAAAAAAAAAAAAAAAAAAAAAAAAAAAAAAAAAAAAAAAAAAAAAAAAAAAAAAAAAAAAA6Ugu/yH96D/gnBGlvcHrP/vL7snDQus/4JwRpb3B6z+Uh4Va07znP6MjufyH9OM/1QloImx46D+M22gAb4HuP6VOQBNhw/Q/3bWEfNCz8T9kzF1LyAf2PwaBlUOLbPc/io7k8h/S+z+4rwPnjCj4P4qw4emVsvE/BhIUP8bc8D+ppE5AE2HnPxDpt68D5+o/m1Wfq63Y6z/TTWIQWDnyP11txf6ye/A/GlHaG3xh8T/7y+7Jw0LxP9V46SYxCPI/Gw3gLZCg8D817zhFR3LpP3E9CtejcPA/7zhFR3L57T90RpT2Bl/oP3RGlPYGX+g/dEaU9gZf6D90RpT2Bl/oP3RGlPYGX+g/dEaU9gZf6D+94xQdyeXnP73jFB3J5ec/ZRniWBe37T9lGeJYF7ftP2UZ4lgXt+0/VHQkl/+Q6j+DUUmdgCbzP7hAguLHmO8/uECC4seY7z/Kw0Ktad7wP0HxY8xdS+4/ZF3cRgN49D8zxLEubqPxP0T67evAOfI/xf6ye/Kw7D/zH9JvXwfxPxQ/xty1hPE/WMoyxLEu8j/NzMzMzMz0P/cGX5hMFfE/0m9fB84Z9T8PnDOitDf0P7aEfNCzWfE/Vp+rrdhf6j/7OnDOiNLqP2IQWDm0yPA/\",\"dtype\":\"float64\",\"order\":\"little\",\"shape\":[93]},\"stat_faceOffWinPercentage\":[\"0.0\",\"0.0\",\"0.0\",\"0.0\",\"0.0\",\"0.0\",\"0.0\",\"0.0\",\"0.0\",\"0.0\",\"0.0\",\"0.0\",\"0.0\",\"0.0\",\"0.0\",\"0.0\",\"0.0\",\"0.0\",\"0.0\",\"0.0\",\"0.0\",\"0.0\",\"0.0\",\"0.0\",\"0.0\",\"0.0\",\"0.0\",\"0.0\",\"0.0\",\"0.0\",\"0.0\",\"0.0\",\"0.0\",\"0.0\",\"0.0\",\"0.0\",\"0.0\",\"0.0\",\"0.0\",\"0.0\",\"0.0\",\"0.0\",\"0.0\",\"0.0\",\"0.0\",\"0.0\",\"0.0\",\"0.0\",\"0.0\",\"0.0\",\"0.0\",\"0.0\",\"0.0\",\"0.0\",\"0.0\",\"0.0\",\"0.0\",\"0.0\",\"0.0\",\"0.0\",\"0.0\",\"0.0\",\"0.0\",\"0.0\",\"0.0\",\"0.0\",\"0.0\",\"0.0\",\"0.0\",\"0.0\",\"0.0\",\"48.5\",\"49.0\",\"53.1\",\"51.2\",\"50.7\",\"53.3\",\"51.4\",\"47.5\",\"49.9\",\"52.3\",\"50.9\",\"49.2\",\"47.7\",\"50.0\",\"50.0\",\"48.8\",\"46.7\",\"49.2\",\"48.4\",\"49.3\",\"46.9\",\"46.6\"],\"stat_faceOffsLost\":{\"__ndarray__\":\"AAAAAAAAAAAAAAAAAAAAAAAAAAAAAAAAAAAAAAAAAAAAAAAAAAAAAAAAAAAAAAAAAAAAAAAAAAAAAAAAAAAAAAAAAAAAAAAAAAAAAAAAAAAAAAAAAAAAAAAAAAAAAAAAAAAAAAAAAAAAAAAAAAAAAAAAAAAAAAAAAAAAAAAAAAAAAAAAAAAAAAAAAAAAAAAAAAAAAAAAAAAAAAAAAAAAAAAAAAAAAAAAAAAAAAAAAAAAAAAAAAAAAAAAAAAAAAAAAAAAAAAAAAAAAAAAAAAAAAAAAAAAAAAAAAAAAAAAAAAAAAAAAAAAAAAAAAAAAAAAAAAAAAAAAAAAAAAAAAAAAAAAAAAAAAAAAAAAAAAAAAAAAAAAAAAAAAAAAAAAAAAAAAAAAAAAAAAAAAAAAAAAAAAAAAAAAAAAAAAAAAAAAAAAAAAAAAAAAAAAAAAAAAAAAAAAAAAAAAAAAAAAAAAAAAAAAAAAAAAAAAAAAAAAAAAAAAAAAAAAAAAAAAAAAAAAAAAAAAAAAAAAAAAAAAAAAAAAAAAAAAAAAAAAAAAAAAAAAAAAAAAAAAAAAAAAAAAAAAAAAAAAAAAAAAAAAAAAAAAAAAAAAAAAAAAAAAAAAAAAAAAAAAAAAAAAAAAAAAAAAAAAAAAAAAAAAAAAAAAAAAAAAAAAAAAAAAAAAAAAAAAAAAAAAAAAAAAAAAAAAAAAAAAAAAAAAAAAAAAAAAAAAAAAAAAAAAAAAAAAAAAAAAAAAAAAAAAAAAAAAAAAKqVAAAAAAABApEAAAAAAAMSiQAAAAAAA6qNAAAAAAABkpUAAAAAAAHSjQAAAAAAAYqNAAAAAAADSokAAAAAAACaiQAAAAAAAdqBAAAAAAAB2oUAAAAAAAAyiQAAAAAAAyKJAAAAAAADmoUAAAAAAAAiWQAAAAAAAoKNAAAAAAAB2pEAAAAAAAKyiQAAAAAAAnqNAAAAAAAAso0AAAAAAAFajQAAAAAAAHqBA\",\"dtype\":\"float64\",\"order\":\"little\",\"shape\":[93]},\"stat_faceOffsTaken\":{\"__ndarray__\":\"AAAAAAAAAAAAAAAAAAAAAAAAAAAAAAAAAAAAAAAAAAAAAAAAAAAAAAAAAAAAAAAAAAAAAAAAAAAAAAAAAAAAAAAAAAAAAAAAAAAAAAAAAAAAAAAAAAAAAAAAAAAAAAAAAAAAAAAAAAAAAAAAAAAAAAAAAAAAAAAAAAAAAAAAAAAAAAAAAAAAAAAAAAAAAAAAAAAAAAAAAAAAAAAAAAAAAAAAAAAAAAAAAAAAAAAAAAAAAAAAAAAAAAAAAAAAAAAAAAAAAAAAAAAAAAAAAAAAAAAAAAAAAAAAAAAAAAAAAAAAAAAAAAAAAAAAAAAAAAAAAAAAAAAAAAAAAAAAAAAAAAAAAAAAAAAAAAAAAAAAAAAAAAAAAAAAAAAAAAAAAAAAAAAAAAAAAAAAAAAAAAAAAAAAAAAAAAAAAAAAAAAAAAAAAAAAAAAAAAAAAAAAAAAAAAAAAAAAAAAAAAAAAAAAAAAAAAAAAAAAAAAAAAAAAAAAAAAAAAAAAAAAAAAAAAAAAAAAAAAAAAAAAAAAAAAAAAAAAAAAAAAAAAAAAAAAAAAAAAAAAAAAAAAAAAAAAAAAAAAAAAAAAAAAAAAAAAAAAAAAAAAAAAAAAAAAAAAAAAAAAAAAAAAAAAAAAAAAAAAAAAAAAAAAAAAAAAAAAAAAAAAAAAAAAAAAAAAAAAAAAAAAAAAAAAAAAAAAAAAAAAAAAAAAAAAAAAAAAAAAAAAAAAAAAAAAAAAAAAAAAAAAAAAAAAAAAAAAAAAAAAAAibRAAAAAAADes0AAAAAAAAS0QAAAAAAAZLRAAAAAAACytUAAAAAAANa0QAAAAAAA7LNAAAAAAADrsUAAAAAAACCyQAAAAAAAQbFAAAAAAADDsUAAAAAAAMGxQAAAAAAA97FAAAAAAADhsUAAAAAAAAimQAAAAAAALbNAAAAAAAA1s0AAAAAAAF+yQAAAAAAAALNAAAAAAADmskAAAAAAADeyQAAAAAAALK5A\",\"dtype\":\"float64\",\"order\":\"little\",\"shape\":[93]},\"stat_faceOffsWon\":{\"__ndarray__\":\"AAAAAAAAAAAAAAAAAAAAAAAAAAAAAAAAAAAAAAAAAAAAAAAAAAAAAAAAAAAAAAAAAAAAAAAAAAAAAAAAAAAAAAAAAAAAAAAAAAAAAAAAAAAAAAAAAAAAAAAAAAAAAAAAAAAAAAAAAAAAAAAAAAAAAAAAAAAAAAAAAAAAAAAAAAAAAAAAAAAAAAAAAAAAAAAAAAAAAAAAAAAAAAAAAAAAAAAAAAAAAAAAAAAAAAAAAAAAAAAAAAAAAAAAAAAAAAAAAAAAAAAAAAAAAAAAAAAAAAAAAAAAAAAAAAAAAAAAAAAAAAAAAAAAAAAAAAAAAAAAAAAAAAAAAAAAAAAAAAAAAAAAAAAAAAAAAAAAAAAAAAAAAAAAAAAAAAAAAAAAAAAAAAAAAAAAAAAAAAAAAAAAAAAAAAAAAAAAAAAAAAAAAAAAAAAAAAAAAAAAAAAAAAAAAAAAAAAAAAAAAAAAAAAAAAAAAAAAAAAAAAAAAAAAAAAAAAAAAAAAAAAAAAAAAAAAAAAAAAAAAAAAAAAAAAAAAAAAAAAAAAAAAAAAAAAAAAAAAAAAAAAAAAAAAAAAAAAAAAAAAAAAAAAAAAAAAAAAAAAAAAAAAAAAAAAAAAAAAAAAAAAAAAAAAAAAAAAAAAAAAAAAAAAAAAAAAAAAAAAAAAAAAAAAAAAAAAAAAAAAAAAAAAAAAAAAAAAAAAAAAAAAAAAAAAAAAAAAAAAAAAAAAAAAAAAAAAAAAAAAAAAAAAAAAAAAAAAAAAAAAAAA6KNAAAAAAAB8o0AAAAAAAESlQAAAAAAA3qRAAAAAAAAApkAAAAAAADimQAAAAAAAdqRAAAAAAAAEoUAAAAAAABqiQAAAAAAADKJAAAAAAAAQokAAAAAAAHahQAAAAAAAJqFAAAAAAADcoUAAAAAAAAiWQAAAAAAAuqJAAAAAAAD0oUAAAAAAABKiQAAAAAAAYqJAAAAAAACgokAAAAAAABihQAAAAAAAHJxA\",\"dtype\":\"float64\",\"order\":\"little\",\"shape\":[93]},\"stat_gamesPlayed\":[44,44,44,44,44,48,48,48,48,48,48,48,48,48,48,48,50,50,50,50,60,60,60,70,70,70,70,70,70,70,70,70,70,70,70,70,70,70,70,70,70,74,76,76,78,78,78,78,80,80,80,80,80,80,80,80,80,80,80,80,80,80,80,80,80,80,84,84,48,82,82,82,82,82,82,82,82,82,82,82,82,82,82,82,82,48,82,82,82,82,82,82,70],\"stat_goalsAgainstPerGame\":{\"__ndarray__\":\"kxgEVg4t+j+4HoXrUbj8P28Sg8DKofc/AAAAAAAACkBvEoPAyqH/P0SLbOf7qQJAokW28/3UAUCiRbbz/dQCQF66SQwCKwdAAAAAAAAAAEBEi2zn+6kBQAAAAAAAAABAGy/dJAaBAUBEi2zn+6n5P6JFtvP91ARAokW28/3UB0A9CtejcD0UQM3MzMzMzBhAw/UoXI/CE0CPwvUoXI8OQM3MzMzMzAhAzczMzMzMCkBWDi2yne8GQJqZmZmZmQVAK4cW2c73BkDVeOkmMQgJQOkmMQisHAhAzczMzMzMBEAAAAAAAAAIQDMzMzMzMwdAi2zn+6nxCUCwcmiR7XwFQM3MzMzMzAhACKwcWmQ7DEDy0k1iEFgMQA4tsp3vpwdAbxKDwMqhCkAOLbKd76cLQOkmMQisHAxAokW28/3UDUCamZmZmZkFQGIQWDm0yANAbxKDwMqhBEBMN4lBYOUDQPT91HjpJgJAGQRWDi2yA0C8dJMYBFYFQFg5tMh2vglAmpmZmZmZC0D0/dR46aYQQAAAAAAAAA9AAAAAAAAADEAzMzMzMzMNQGZmZmZmZgxATmIQWDm0D0CamZmZmZkOQE5iEFg5tAxAZmZmZmZmDkCNl24Sg0ARQJqZmZmZmQtA9P3UeOkmEEDn+6nx0k0MQE5iEFg5tA5ATmIQWDm0CkAbL90kBoEKQJqZmZmZmQhAvHSTGARWDUAAAAAAAAAGQLx0kxgEVgZAH4XrUbgeB0Dwp8ZLN4kGQPCnxks3iQZAvp8aL90kBkAAAAAAAAAIQLKd76fGSwxAXrpJDAIrCUDwp8ZLN4kGQDEIrBxaZAhAL90kBoGVBEAv3SQGgZUEQPCnxks3iQJArkfhehSuBEDhehSuR+EEQKAaL90kBgNAw/UoXI/CAUAAAAAAAAACQPCnxks3iQJAPQrXo3A9AkBg5dAi2/kEQN9PjZduEgVADi2yne+nCUA/NV66SQwKQL6fGi/dJAlA\",\"dtype\":\"float64\",\"order\":\"little\",\"shape\":[93]},\"stat_goalsPerGame\":{\"__ndarray__\":\"EoPAyqFFAUBKDAIrhxYBQJMYBFYOLfo/7nw/NV66CEASg8DKoUUDQLx0kxgEVgZAGy/dJAaBBkAAAAAAAAAEQKJFtvP91AZAvHSTGARW/j8bL90kBoEDQKJFtvP91AhAokW28/3UCEBEi2zn+6kGQKJFtvP91AdAGy/dJAaBDUDD9Shcj8IJQOxRuB6F6wlApHA9CtejCEAK16NwPQoHQN0kBoGVQwZAEFg5tMh2B0Aj2/l+arwBQDvfT42XbgNAHVpkO99PA0CLbOf7qfEFQJHtfD81XgFAZmZmZmZmAkC+nxov3SQBQB1aZDvfTwdA1XjpJjEIBUB9PzVeukkGQCuHFtnO9wZAke18PzVeBUAdWmQ7308HQH0/NV66SQZA6SYxCKwcCECoxks3iUEFQNv5fmq8dARAfT81XrpJBkCwcmiR7XwFQDvfT42XbghAHVpkO99PCEBMN4lBYOUJQMUgsHJokQpAqMZLN4lBEEAQWDm0yHYOQPhT46WbxA5AgZVDi2znD0AzMzMzMzMKQDMzMzMzMwtAgZVDi2znC0CamZmZmZkPQM3MzMzMzA5AMzMzMzMzD0CamZmZmZkPQJqZmZmZmQ5AZmZmZmZmD0AbL90kBoENQAAAAAAAAAxATmIQWDm0DkAAAAAAAAAOQAAAAAAAAA9AgZVDi2znC0BOYhBYObQNQFpkO99PDRBAwcqhRbbzDEB7FK5H4XoMQF66SQwCKwdA8KfGSzeJCkBeukkMAisJQJ7vp8ZLNwNAXrpJDAIrBUASg8DKoUUFQDEIrBxaZAhAvp8aL90kBkCwcmiR7XwEQH9qvHSTGARAMQisHFpkCEDufD81XroGQAAAAAAAAARAUI2XbhKDA0CR7Xw/NV4FQEJg5dAi2wVADi2yne+nBUAAAAAAAAAFQOF6FK5H4QRA/tR46SYxCEDufD81XroGQK5H4XoUrghAPQrXo3A9BkCPwvUoXI8FQG8Sg8DKoQpA\",\"dtype\":\"float64\",\"order\":\"little\",\"shape\":[93]},\"stat_losses\":[13,16,13,17,16,17,17,19,20,17,20,15,16,11,19,17,31,39,29,28,32,26,31,31,29,34,37,31,35,28,30,25,32,38,38,32,36,38,38,41,28,23,26,22,18,17,23,24,29,42,37,37,29,32,36,27,35,29,44,38,38,34,35,31,31,25,39,24,23,27,34,39,38,38,43,38,36,40,26,30,27,30,33,33,24,18,31,22,27,28,39,36,28],\"stat_ot\":[0,0,0,0,0,0,0,0,0,0,0,0,0,0,0,0,0,0,0,0,0,0,0,0,0,0,0,0,0,0,0,0,0,0,0,0,0,0,0,0,0,0,0,0,0,0,0,0,0,0,0,0,0,0,0,0,0,0,0,0,0,0,0,0,0,0,0,0,0,0,0,0,0,3,1,4,4,8,12,10,13,9,11,5,7,4,6,7,9,6,9,14,5],\"stat_penaltyKillPercentage\":[\"0.0\",\"0.0\",\"0.0\",\"0.0\",\"0.0\",\"0.0\",\"0.0\",\"0.0\",\"0.0\",\"0.0\",\"0.0\",\"0.0\",\"0.0\",\"0.0\",\"0.0\",\"0.0\",\"0.0\",\"0.0\",\"0.0\",\"0.0\",\"0.0\",\"0.0\",\"0.0\",\"0.0\",\"0.0\",\"0.0\",\"0.0\",\"0.0\",\"0.0\",\"0.0\",\"0.0\",\"0.0\",\"0.0\",\"0.0\",\"0.0\",\"0.0\",\"0.0\",\"0.0\",\"0.0\",\"0.0\",\"0.0\",\"0.0\",\"0.0\",\"0.0\",\"0.0\",\"0.0\",\"0.0\",\"0.0\",\"0.0\",\"0.0\",\"0.0\",\"80.2\",\"74.7\",\"82.2\",\"78.7\",\"76.3\",\"75.4\",\"78.1\",\"80.6\",\"77.8\",\"81.1\",\"80.6\",\"77.0\",\"78.7\",\"79.8\",\"84.8\",\"81.2\",\"84.6\",\"83.9\",\"82.0\",\"79.9\",\"85.4\",\"85.7\",\"83.2\",\"78.5\",\"79.9\",\"81.2\",\"79.4\",\"83.7\",\"83.8\",\"84.5\",\"87.8\",\"84.3\",\"83.7\",\"86.2\",\"81.1\",\"85.3\",\"84.3\",\"78.2\",\"79.8\",\"81.4\",\"78.2\",\"77.4\"],\"stat_powerPlayGoals\":{\"__ndarray__\":\"AAAAAAAAAAAAAAAAAAAAAAAAAAAAAAAAAAAAAAAAAAAAAAAAAAAAAAAAAAAAAAAAAAAAAAAAAAAAAAAAAAA1QAAAAAAAADFAAAAAAAAAMkAAAAAAAAA2QAAAAAAAADFAAAAAAAAAMUAAAAAAAAAsQAAAAAAAAChAAAAAAAAANkAAAAAAAAA4QAAAAAAAAChAAAAAAAAAMUAAAAAAAAAwQAAAAAAAAD5AAAAAAAAAPEAAAAAAAAA7QAAAAAAAAEJAAAAAAAAANEAAAAAAAIBDQAAAAAAAgEBAAAAAAAAASUAAAAAAAABCQAAAAAAAAEVAAAAAAACASEAAAAAAAIBIQAAAAAAAAElAAAAAAAAAQUAAAAAAAABCQAAAAAAAgERAAAAAAAAAREAAAAAAAIBEQAAAAAAAgEtAAAAAAAAARkAAAAAAAIBBQAAAAAAAAEdAAAAAAAAATEAAAAAAAIBJQAAAAAAAAE5AAAAAAAAATkAAAAAAAABLQAAAAAAAgFBAAAAAAAAAVUAAAAAAAMBQQAAAAAAAAE5AAAAAAACAU0AAAAAAAIBSQAAAAAAAgFNAAAAAAACAT0AAAAAAAABRQAAAAAAAAFJAAAAAAACAUkAAAAAAAABSQAAAAAAAQFJAAAAAAADAUkAAAAAAAMBbQAAAAAAAQFVAAAAAAAAAWkAAAAAAAABXQAAAAAAAQFRAAAAAAABAU0AAAAAAAABYQAAAAAAAAERAAAAAAABAVUAAAAAAAIBPQAAAAAAAAE9AAAAAAADAUUAAAAAAAIBLQAAAAAAAQFBAAAAAAAAASEAAAAAAAIBLQAAAAAAAAEdAAAAAAADAVEAAAAAAAMBSQAAAAAAAgE5AAAAAAAAASEAAAAAAAIBLQAAAAAAAgEhAAAAAAAAARkAAAAAAAAA4QAAAAAAAAEhAAAAAAACAQ0AAAAAAAABFQAAAAAAAgEdAAAAAAACASUAAAAAAAABGQAAAAAAAAEpA\",\"dtype\":\"float64\",\"order\":\"little\",\"shape\":[93]},\"stat_powerPlayGoalsAgainst\":{\"__ndarray__\":\"AAAAAAAAAAAAAAAAAAAAAAAAAAAAAAAAAAAAAAAAAAAAAAAAAAAAAAAAAAAAAAAAAAAAAAAAAAAAAAAAAAA6QAAAAAAAADlAAAAAAAAAMUAAAAAAAAAoQAAAAAAAACxAAAAAAAAALkAAAAAAAAAmQAAAAAAAADBAAAAAAAAANkAAAAAAAIBDQAAAAAAAADdAAAAAAAAANEAAAAAAAAAzQAAAAAAAADtAAAAAAAAAMkAAAAAAAAA8QAAAAAAAgEdAAAAAAAAAQ0AAAAAAAIBGQAAAAAAAAENAAAAAAAAAQ0AAAAAAAIBIQAAAAAAAAEZAAAAAAACAR0AAAAAAAABBQAAAAAAAgEJAAAAAAACASkAAAAAAAABIQAAAAAAAAD5AAAAAAAAAP0AAAAAAAABGQAAAAAAAgEZAAAAAAACAT0AAAAAAAAA/QAAAAAAAAEVAAAAAAACAQUAAAAAAAABEQAAAAAAAgERAAAAAAAAARkAAAAAAAIBDQAAAAAAAgEZAAAAAAAAAS0AAAAAAAABRQAAAAAAAgEtAAAAAAAAASEAAAAAAAIBTQAAAAAAAAEtAAAAAAADAVEAAAAAAAMBSQAAAAAAAAFNAAAAAAAAAU0AAAAAAAABQQAAAAAAAQFRAAAAAAAAAUkAAAAAAAIBUQAAAAAAAQFVAAAAAAABAU0AAAAAAAEBSQAAAAAAAAE5AAAAAAAAAVUAAAAAAAMBQQAAAAAAAAEFAAAAAAABAVkAAAAAAAEBRQAAAAAAAgEtAAAAAAAAASEAAAAAAAIBIQAAAAAAAgFVAAAAAAAAAVEAAAAAAAEBSQAAAAAAAAFRAAAAAAADAU0AAAAAAAEBQQAAAAAAAgEpAAAAAAAAAREAAAAAAAABJQAAAAAAAAEVAAAAAAAAAQkAAAAAAAAA8QAAAAAAAAEFAAAAAAACAQkAAAAAAAIBKQAAAAAAAgEZAAAAAAAAAR0AAAAAAAABNQAAAAAAAAEpA\",\"dtype\":\"float64\",\"order\":\"little\",\"shape\":[93]},\"stat_powerPlayOpportunities\":{\"__ndarray__\":\"AAAAAAAAAAAAAAAAAAAAAAAAAAAAAAAAAAAAAAAAAAAAAAAAAAAAAAAAAAAAAAAAAAAAAAAAAAAAAAAAAAAAAAAAAAAAAAAAAAAAAAAAAAAAAAAAAAAAAAAAAAAAAAAAAAAAAAAAAAAAAAAAAAAAAAAAAAAAAAAAAAAAAAAAAAAAAAAAAAAAAAAAAAAAAAAAAAAAAAAAAAAAAAAAAAAAAAAAAAAAAAAAAAAAAAAAAAAAAAAAAAAAAAAAAAAAAAAAAAAAAAAAAAAAAAAAAAAAAAAAAAAAAAAAAAAAAAAAAAAAAAAAAAAAAAAAAAAAAAAAAAAAAAAAAAAAAAAAAAAAAAAAAAAAAAAAAAAAAAAAAAAAAAAAAAAAAAAAAAAAAAAAAAAAAAAAAAAAAAAAAAAAAAAAAAAAAAAAAAAAAAAAAAAAAAAAAAAAAAAAAAAAAAAAAAAAAAAAAAAAAAAAAAAAAAAAAAAAAAAAAAAAAAAAAAAAAAAAAAAAAAAAAAAAAAAAAAAAAAAAAAAAAAAAAAAAAAAAAAAAAAAAAAAAAADwcEAAAAAAAGBzQAAAAAAAAHNAAAAAAAAgdkAAAAAAACBzQAAAAAAAoHNAAAAAAABwckAAAAAAAMByQAAAAAAAsHZAAAAAAACQd0AAAAAAALB+QAAAAAAAkHxAAAAAAACge0AAAAAAAFB4QAAAAAAAMHhAAAAAAABAekAAAAAAABB6QAAAAAAAAGlAAAAAAADQekAAAAAAAPBxQAAAAAAA8HVAAAAAAADAdUAAAAAAAFB0QAAAAAAAsHZAAAAAAABgdEAAAAAAADB1QAAAAAAAIHRAAAAAAACAe0AAAAAAAGB5QAAAAAAAIHdAAAAAAACgdUAAAAAAANByQAAAAAAAIHJAAAAAAACAcUAAAAAAACBjQAAAAAAAgHBAAAAAAAAAbUAAAAAAAEBsQAAAAAAAIG1AAAAAAAAgbkAAAAAAAGBsQAAAAAAAYGxA\",\"dtype\":\"float64\",\"order\":\"little\",\"shape\":[93]},\"stat_powerPlayPercentage\":[\"0.0\",\"0.0\",\"0.0\",\"0.0\",\"0.0\",\"0.0\",\"0.0\",\"0.0\",\"0.0\",\"0.0\",\"0.0\",\"0.0\",\"0.0\",\"0.0\",\"0.0\",\"0.0\",\"0.0\",\"0.0\",\"0.0\",\"0.0\",\"0.0\",\"0.0\",\"0.0\",\"0.0\",\"0.0\",\"0.0\",\"0.0\",\"0.0\",\"0.0\",\"0.0\",\"0.0\",\"0.0\",\"0.0\",\"0.0\",\"0.0\",\"0.0\",\"0.0\",\"0.0\",\"0.0\",\"0.0\",\"0.0\",\"0.0\",\"0.0\",\"0.0\",\"0.0\",\"0.0\",\"0.0\",\"0.0\",\"0.0\",\"0.0\",\"0.0\",\"28.8\",\"23.9\",\"25.7\",\"17.8\",\"22.2\",\"22.9\",\"25.1\",\"24.0\",\"20.1\",\"19.9\",\"22.6\",\"18.6\",\"23.5\",\"23.6\",\"20.9\",\"18.3\",\"23.0\",\"20.0\",\"19.8\",\"21.9\",\"17.7\",\"20.4\",\"16.9\",\"17.9\",\"14.7\",\"16.2\",\"14.3\",\"18.9\",\"18.5\",\"16.5\",\"13.9\",\"18.3\",\"16.9\",\"15.7\",\"15.7\",\"18.2\",\"16.8\",\"18.6\",\"20.2\",\"21.2\",\"19.4\",\"22.9\"],\"stat_ptPctg\":[\"63.6\",\"53.4\",\"59.1\",\"50.0\",\"53.4\",\"56.3\",\"56.3\",\"52.1\",\"52.1\",\"52.1\",\"49.0\",\"62.5\",\"60.4\",\"66.7\",\"52.1\",\"62.5\",\"30.0\",\"17.0\",\"32.0\",\"35.0\",\"41.7\",\"45.8\",\"39.2\",\"47.9\",\"43.6\",\"42.1\",\"35.7\",\"48.6\",\"37.1\",\"52.9\",\"47.1\",\"55.0\",\"45.7\",\"35.0\",\"38.6\",\"45.7\",\"40.0\",\"38.6\",\"37.1\",\"33.6\",\"51.4\",\"60.8\",\"59.9\",\"60.5\",\"69.9\",\"69.9\",\"65.4\",\"60.3\",\"55.0\",\"41.9\",\"45.0\",\"45.6\",\"56.9\",\"53.8\",\"46.3\",\"57.5\",\"50.0\",\"58.1\",\"38.8\",\"48.8\",\"47.5\",\"51.3\",\"51.3\",\"53.1\",\"53.1\",\"65.6\",\"47.0\",\"66.7\",\"49.0\",\"58.5\",\"52.4\",\"41.5\",\"47.0\",\"44.5\",\"43.9\",\"48.8\",\"47.6\",\"42.1\",\"61.0\",\"57.3\",\"59.1\",\"57.9\",\"53.0\",\"56.7\",\"66.5\",\"58.3\",\"58.5\",\"68.9\",\"61.6\",\"62.2\",\"47.0\",\"47.6\",\"56.4\"],\"stat_pts\":[56,47,52,44,47,54,54,50,50,50,47,60,58,64,50,60,30,17,32,35,50,55,47,67,61,59,50,68,52,74,66,77,64,49,54,64,56,54,52,47,72,90,91,92,109,109,102,94,88,67,72,73,91,86,74,92,80,93,62,78,76,82,82,85,85,105,79,112,47,96,86,68,77,73,72,80,78,69,100,94,97,95,87,93,109,56,96,113,101,102,77,78,79],\"stat_savePctg\":{\"__ndarray__\":\"AAAAAAAAAAAAAAAAAAAAAAAAAAAAAAAAAAAAAAAAAAAAAAAAAAAAAAAAAAAAAAAAAAAAAAAAAAAAAAAAAAAAAAAAAAAAAAAAAAAAAAAAAAAAAAAAAAAAAAAAAAAAAAAAAAAAAAAAAAAAAAAAAAAAAAAAAAAAAAAAAAAAAAAAAAAAAAAAAAAAAAAAAAAAAAAAAAAAAAAAAAAAAAAAAAAAAAAAAAAAAAAAAAAAAAAAAAAAAAAAAAAAAAAAAAAAAAAAAAAAAAAAAAAAAAAAAAAAAAAAAAAAAAAAAAAAAAAAAAAAAAAAAAAAAJzEILByaO0/TDeJQWDl7D/HSzeJQWDtPyGwcmiR7ew/pHA9Ctej7D/2KFyPwvXsP/T91HjpJu0/yXa+nxov7T91kxgEVg7tP3npJjEIrOw/JzEIrBxa7D9zaJHtfD/tP3Noke18P+0/H4XrUbge7T/0/dR46SbtP5zEILByaO0/9ihcj8L17D93vp8aL93sP9Ei2/l+auw/1XjpJjEI7D+sHFpkO9/rP39qvHSTGOw/0SLb+X5q7D8tsp3vp8brP9V46SYxCOw/BoGVQ4ts6z/Xo3A9CtfrPylcj8L1KOw/KVyPwvUo7D+q8dJNYhDsP1K4HoXrUew/K4cW2c736z99PzVeuknsPwAAAAAAAOw/ppvEILBy7D956SYxCKzsP0w3iUFg5ew/UI2XbhKD7D+iRbbz/dTsP8/3U+Olm+w/IbByaJHt7D/0/dR46SbtP83MzMzMzOw/dZMYBFYO7T/4U+Olm8TsP/yp8dJNYuw/okW28/3U7D/2KFyPwvXsP3npJjEIrOw/9P3UeOkm7T9KDAIrhxbtP/T91HjpJu0/nu+nxks37T+e76fGSzftP5zEILByaO0/cT0K16Nw7T9xPQrXo3DtP0a28/3UeO0/8KfGSzeJ7T9zaJHtfD/tP8l2vp8aL+0/SgwCK4cW7T8hsHJoke3sP3WTGARWDu0/\",\"dtype\":\"float64\",\"order\":\"little\",\"shape\":[93]},\"stat_shootingPctg\":{\"__ndarray__\":\"AAAAAAAAHECamZmZmZkXQAAAAAAAABJAmpmZmZmZIUCamZmZmZkdQJqZmZmZGVdAMzMzMzMzIkBmZmZmZmYeQAAAAAAAACNAAAAAAAAAHECamZmZmZkoQDMzMzMzMy9AAAAAAAAAAAAAAAAAAAAAAAAAAAAAAAAAAAAAAAAAAAAAAAAAAAAAAAAAAAAAAAAAAAAAAAAAAAAAAAAAAAAAAAAAAAAAAAAAAAAAAAAAAAAAAAAAAAAAAAAAAAAAAAAAAAAAAAAAAAAAAAAAAAAAAAAAAAAAAAAAAAAAAAAAAAAAAAAAAAAAAM3MzMzMzCZAAAAAAAAAJECamZmZmZkjQAAAAAAAAAAAmpmZmZmZIUAzMzMzMzMjQGZmZmZmZiNAZmZmZmZmJUCamZmZmZkgQM3MzMzMzCFAAAAAAAAAIkAAAAAAAAAhQGZmZmZmZiJAMzMzMzMzIEAAAAAAAAAiQJqZmZmZmSJAmpmZmZmZJkAAAAAAAAAmQDMzMzMzMydAmpmZmZmZJ0DNzMzMzMwjQJqZmZmZmSNAzczMzMzMKECamZmZmZkpQM3MzMzMzClAZmZmZmZmKUCamZmZmZkrQM3MzMzMzCpAmpmZmZmZKEDNzMzMzMwoQAAAAAAAACZAzczMzMzMKECamZmZmZknQM3MzMzMzCZAZmZmZmZmJ0BmZmZmZmYoQGZmZmZmZihAzczMzMzMJUDNzMzMzMwkQDMzMzMzMyJAZmZmZmZmJEBmZmZmZmYkQAAAAAAAACNAzczMzMzMJEAAAAAAAAAiQGZmZmZmZiVAAAAAAAAAI0AAAAAAAAAhQAAAAAAAACFAZmZmZmZmJEAAAAAAAAAiQJqZmZmZmR9AAAAAAAAAHkAAAAAAAAAiQDMzMzMzMyJAAAAAAAAAI0AAAAAAAAAhQJqZmZmZmR9AMzMzMzMzI0AAAAAAAAAkQM3MzMzMzCRAAAAAAAAAIkBmZmZmZmYiQGZmZmZmZiVA\",\"dtype\":\"float64\",\"order\":\"little\",\"shape\":[93]},\"stat_shotsAllowed\":{\"__ndarray__\":\"AAAAAAAAAAAAAAAAAAAAAAAAAAAAAAAAAAAAAAAAAAAAAAAAAAAAAAAAAAAAAAAAAAAAAAAAAAAAAAAAAAAAAAAAAAAAAAAAAAAAAAAAAAAAAAAAAAAAAAAAAAAAAAAAAAAAAAAAAAAAAAAAAAAAAAAAAAAAAAAAAAAAAAAAAAAAAAAAAAAAAAAAAAAAAAAAAAAAAAAAAAAAAAAAAAAAAAAAAAAAAAAAAAAAAAAAAAAAAAAAAAAAAAAAAAAAAAAAAAAAAAAAAAAAAAAAAAAAAAAAAAAAAAAAAAAAAAAAAAAAAAAAAAAAAAHeAgmK70FANBE2PL2iQECamZmZmVlAQAAAAAAAAAAAZvfkYaHOQEBlGeJYF59CQDQRNjy9okBAzqrP1Vb8QkAyVTAqqcNCQGaIY13c9kBAmEwVjEpSQEBkzF1LyFc/QCBj7lpCvjxABcWPMXfNPECHp1fKMhQ8QIhjXdxGAzxAlkOLbOfbOUBqvHSTGCQ7QNxoAG+BtDxAzczMzMzcO0AAAAAAABhAQM3MzMzMzD9AAAAAAABgP0AAAAAAAMA7QAAAAAAAsDxAZmZmZmbGO0AzMzMzM3M9QM3MzMzMzD1AzczMzMyMP0BmZmZmZo5BQJqZmZmZ+T1AZmZmZmb2P0CamZmZmXk+QGZmZmZmtj5AmpmZmZkJPkAAAAAAAOA/QJqZmZmZyT9AZohjXdzWQEBmiGNd3LY7QAAAAAAAUDpAf2q8dJMoPkBWDi2ynY8/QJoIG55eCTxAGXPXEvIxPkCjkjoBTdQ9QBDpt68DZz9AzO7Jw0LtP0ASFD/G3JU9QNV46SYxOD1Ab4EExY/BPEAQ6bevA2c8QBDpt68D5zlAXW3F/rKrPUBU46WbxOA9QDLmriXkYz1AxY8xdy3RO0AAAAAAADA8QO7rwDkjaj1AIv32deB8PUDu68A5I2o+QFYOLbKdDz5AwcqhRbarQUBSSZ2AJupAQJkqGJXUAUFA\",\"dtype\":\"float64\",\"order\":\"little\",\"shape\":[93]},\"stat_shotsPerGame\":{\"__ndarray__\":\"AAAAAAAAAAAAAAAAAAAAAAAAAAAAAAAAAAAAAAAAAAAAAAAAAAAAAAAAAAAAAAAAAAAAAAAAAAAAAAAAAAAAAAAAAAAAAAAAAAAAAAAAAAAAAAAAAAAAAAAAAAAAAAAAAAAAAAAAAAAAAAAAAAAAAAAAAAAAAAAAAAAAAAAAAAAAAAAAAAAAAAAAAAAAAAAAAAAAAAAAAAAAAAAAAAAAAAAAAAAAAAAAAAAAAAAAAAAAAAAAAAAAAAAAAAAAAAAAAAAAAAAAAAAAAAAAAAAAAAAAAAAAAAAAAAAAAAAAAAAAAAAAAAAAADXvOEVHkjlANBE2PL1iOkBkzF1LyFc8QAAAAAAAAAAAAAAAAACAPkA0ETY8vWI+QM3MzMzMzDxANs07TtFBPEDPZtXnats/QJwzorQ3qDxAZmZmZmbmPkD+ZffkYXE/QGTMXUvIp0BAfh04Z0S5QkC/DpwzovxBQN/gC5Op6kFAsHJoke0EQkDpSC7/IU1BQHGsi9tokEBAZmZmZmb2QEAAAAAAAIBAQM3MzMzMVEFAMzMzMzMjPEAzMzMzM+M+QJqZmZmZyT1AzczMzMy8PkAAAAAAAJA8QGZmZmZmhjxAMzMzMzPjP0DNzMzMzMw9QDMzMzMz0z9AZmZmZmbmPkAzMzMzM8M/QJqZmZmZAUFAAAAAAADQPUDNzMzMzIw+QM3MzMzMdEBARGlv8IWhQEBmiGNd3BZBQEI+6Nms2j9Amggbnl5JQECjkjoBTdQ+QOeMKO0NTjlAzO7Jw0JtOUBm9+RhoXY9QPAWSFD8mDxAXW3F/rIrPUBWDi2ynQ8+QGb35GGhdj1AX5hMFYzaPUCaCBueXok/QIj029eBcz9A93XgnBE1QEA0ETY8vZI9QO7rwDkj6j1A3gIJih+DPEC+wRcmU+U+QD81XrpJlEBAIv32deB8P0Ai/fZ14Hw8QLN78rBQuz1AiPTb14HzPkA7cM6I0i49QDXvOEVHEj9A\",\"dtype\":\"float64\",\"order\":\"little\",\"shape\":[93]},\"stat_winLeadFirstPer\":{\"__ndarray__\":\"arx0kxgE7j8AAAAAAADsPw4tsp3vp+o/8tJNYhBY7T/wp8ZLN4ntP83MzMzMzOw/WDm0yHa+6z8OLbKd76fqP/Cnxks3ie0/mpmZmZmZ6T8AAAAAAADwP6RwPQrXo+w/8KfGSzeJ7T9CYOXQItvtPwAAAAAAAOg/9P3UeOkm6T/y0k1iEFjlP/LSTWIQWOU/AAAAAAAA4D91kxgEVg7hP1pkO99PjeM/z/dT46Wb6D+0yHa+nxrnPycxCKwcWuQ/tMh2vp8a5z8nMQisHFrkP99PjZduEus/Di2yne+n6j/dJAaBlUPnP0Jg5dAi2+k/ppvEILBy7D+R7Xw/NV7qPzMzMzMzM+s/8tJNYhBY5T++nxov3STmPwwCK4cW2eY/tMh2vp8a5z/NzMzMzMzsP23n+6nx0uU/8tJNYhBY5T8v3SQGgZXnP1K4HoXrUew/Di2yne+n7j8UrkfhehTqP05iEFg5tOw/AAAAAAAA8D8AAAAAAADsPxSuR+F6FOY/BoGVQ4ts6z/y0k1iEFjpP6RwPQrXo+w/QmDl0CLb6T+amZmZmZnpP0w3iUFg5eg/kxgEVg4t6j/y0k1iEFjtP90kBoGVQ+s/5dAi2/l+6j+6SQwCK4fmP30/NV66Seg/ZmZmZmZm5j/l0CLb+X7qP0Jg5dAi2+k/KVyPwvUo5D8nMQisHFrkP1yPwvUoXOc/exSuR+F65D9KDAIrhxbpP/p+arx0k+Q/3SQGgZVD6z/b+X5qvHTnPxBYObTIdt4/exSuR+F65D9t5/up8dLlP3sUrkfheuQ//Knx0k1i6D8zMzMzMzPjPw4tsp3vp+Y/ukkMAiuH6j+kcD0K16PkP6jGSzeJQeg/sHJoke184z++nxov3STmP9nO91Pjpec/TDeJQWDl6D/ufD81XrrtP8/3U+Olm+g/sp3vp8ZL6z+YbhKDwMrpP4PAyqFFtuc/AAAAAAAA5D+iRbbz/dTgP4PAyqFFtuc/\",\"dtype\":\"float64\",\"order\":\"little\",\"shape\":[93]},\"stat_winLeadSecondPer\":{\"__ndarray__\":\"j8L1KFyP7j9CYOXQItvtP/Cnxks3ie0/arx0kxgE7j+mm8QgsHLsP+f7qfHSTe4/zczMzMzM7D+kcD0K16PsPwAAAAAAAPA/AAAAAAAA8D/fT42XbhLrP6abxCCwcuw/AAAAAAAA8D8QWDm0yHbuP2ZmZmZmZuY/ZmZmZmZm7j8GgZVDi2zrPwAAAAAAAPA/mpmZmZmZ6T8OLbKd76fqP83MzMzMzOw/pHA9Ctej7D+kcD0K16PsPwAAAAAAAPA/BoGVQ4ts6z/2KFyPwvXsP0Jg5dAi2+0/KVyPwvUo7D8AAAAAAADwPwAAAAAAAPA/pHA9Ctej7D+kcD0K16PsP9ejcD0K1+s/ZmZmZmZm5j8AAAAAAADoP2q8dJMYBO4/7FG4HoXr6T/pJjEIrBzuP6abxCCwcuw/ke18PzVe6j8AAAAAAADwP2q8dJMYBO4/arx0kxgE7j9vEoPAyqHtP4lBYOXQIu8/ObTIdr6f7j8QWDm0yHbuPwAAAAAAAPA/tvP91Hjp7j9MN4lBYOXsPzm0yHa+n+4/BoGVQ4ts6z8/NV66SQzuP1pkO99Pjes/L90kBoGV6z+LbOf7qfHuPwwCK4cW2e4/NV66SQwC7z9YObTIdr7nP8HKoUW28+k/DAIrhxbZ5j/8qfHSTWLoPxKDwMqhReo/qMZLN4lB6D956SYxCKzoPw4tsp3vp+o/+FPjpZvE6D9KDAIrhxbtP2q8dJMYBO4/aJHtfD817j8GgZVDi2zrPwAAAAAAAOQ/AAAAAAAA6D99PzVeuknoPzVeukkMAus/8KfGSzeJ7T/Xo3A9CtfrP/T91HjpJuk/sp3vp8ZL6z956SYxCKzoP6wcWmQ73+s/NV66SQwC6z+LbOf7qfHqPwAAAAAAAPA/SgwCK4cW7T8AAAAAAADwP0w3iUFg5ew/iUFg5dAi7z8AAAAAAADsP6wcWmQ73+s/ObTIdr6f7j+0yHa+nxrnP6abxCCwcuw/\",\"dtype\":\"float64\",\"order\":\"little\",\"shape\":[93]},\"stat_winOppScoreFirst\":{\"__ndarray__\":\"mpmZmZmZyT/jpZvEILDSP57vp8ZLN9E/0SLb+X5qvD/TTWIQWDnEPxKDwMqhRcY/EFg5tMh2zj+cxCCwcmjBP+f7qfHSTdI/IbByaJHtzD/jpZvEILDSP5qZmZmZmck/HVpkO99P1T9mZmZmZmbWPwAAAAAAANA/AAAAAAAA4D+q8dJNYhC4P2q8dJMYBLY/N4lBYOXQwj8Sg8DKoUW2P5qZmZmZmck/SOF6FK5H0T/0/dR46SaxP1CNl24Sg8A/yXa+nxovrT8v3SQGgZXTPxBYObTIdr4/iUFg5dAiyz/ZzvdT46W7P9V46SYxCMw/mpmZmZmZuT8dWmQ730/VPyGwcmiR7cw/CKwcWmQ7vz/FILByaJHNP7TIdr6fGs8/iUFg5dAiyz/RItv5fmrMPzeJQWDl0MI/x0s3iUFgxT8dWmQ730/NPzeJQWDl0NI/WDm0yHa+1z/n+6nx0k3SP/hT46WbxNg/i2zn+6nx0j9oke18PzXeP7Kd76fGS9c/okW28/3U0D8X2c73U+PFP1yPwvUoXM8/tvP91Hjpxj/8qfHSTWLYP5qZmZmZmdk/xSCwcmiRzT+iRbbz/dTQPxKDwMqhRcY/i2zn+6nx2j8AAAAAAADQPx1aZDvfT9U/mpmZmZmZyT9KDAIrhxbRPzMzMzMzM9M/5dAi2/l+0j8/NV66SQzSPzvfT42XbuI/PQrXo3A9yj+28/3UeOnePx1aZDvfT9U/xSCwcmiRzT9KDAIrhxbRPzm0yHa+n8o/O99PjZdu0j8tsp3vp8bLP8dLN4lBYMU/KVyPwvUozD8zMzMzMzPTP8dLN4lBYMU/f2q8dJMY1D8j2/l+arzUP+f7qfHSTdI/AAAAAAAA2D8OLbKd76fWP/YoXI/C9dg/PQrXo3A92j+LbOf7qfHSPycxCKwcWtQ/AAAAAAAA2D8dWmQ730/VP7TIdr6fGt8/LbKd76fGyz9iEFg5tMjWP5qZmZmZmdk/\",\"dtype\":\"float64\",\"order\":\"little\",\"shape\":[93]},\"stat_winOutshootOpp\":{\"__ndarray__\":\"AAAAAAAAAAAAAAAAAAAAAAAAAAAAAAAAAAAAAAAAAAAAAAAAAAAAAAAAAAAAAAAAAAAAAAAAAAAAAAAAAAAAAAAAAAAAAAAAAAAAAAAAAAAAAAAAAAAAAAAAAAAAAAAAAAAAAAAAAAAAAAAAAAAAAAAAAAAAAAAAAAAAAAAAAAAAAAAAAAAAAAAAAAAAAAAAAAAAAAAAAAAAAAAAAAAAAAAAAAAAAAAAAAAAAAAAAAAAAAAAAAAAAAAAAAAAAAAAAAAAAAAAAAAAAAAAAAAAAAAAAAAAAAAAAAAAAAAAAAAAAAAAAAAAAGZmZmZmZuY/MzMzMzMz4z9kO99PjZfmPwAAAAAAAAAAHVpkO99P1T+uR+F6FK7jPwAAAAAAAOg/AAAAAAAA6D8AAAAAAADYPwAAAAAAAOA/mpmZmZmZ2T8QWDm0yHbiPwaBlUOLbOc/okW28/3U6D8MAiuHFtnmP/hT46WbxOg/oBov3SQG6T/jpZvEILDmPwRWDi2ynec/okW28/3U5D+iRbbz/dTgPz81XrpJDOI/DAIrhxbZ5j8zMzMzMzPnP7TIdr6fGuc/okW28/3U4D+6SQwCK4fmP2Q730+Nl+I/mpmZmZmZ5T8QWDm0yHbePx+F61G4HuE/5dAi2/l+2j+YbhKDwMrhP4/C9Shcj9o/PQrXo3A92j9vEoPAyqHlP8/3U+Olm+Q/IbByaJHt3D+mm8QgsHLkPwAAAAAAAOA/w/UoXI/C3T+kcD0K16PYP5ZDi2zn+9E/HVpkO99P3T/+1HjpJjHYP6jGSzeJQdg/c2iR7Xw/3T9mZmZmZmbWP30/NV66SdQ//Knx0k1i4D9qvHSTGATePwAAAAAAAOA/wcqhRbbz3T/P91PjpZvcPwAAAAAAAOA/bef7qfHS5T+YbhKDwMrhP8l2vp8aL+E/AAAAAAAA5D+YbhKDwMrhP28Sg8DKod0/mpmZmZmZ2T/FILByaJHdP9Ei2/l+atw/\",\"dtype\":\"float64\",\"order\":\"little\",\"shape\":[93]},\"stat_winOutshotByOpp\":{\"__ndarray__\":\"AAAAAAAAAAAAAAAAAAAAAAAAAAAAAAAAAAAAAAAAAAAAAAAAAAAAAAAAAAAAAAAAAAAAAAAAAAAAAAAAAAAAAAAAAAAAAAAAAAAAAAAAAAAAAAAAAAAAAAAAAAAAAAAAAAAAAAAAAAAAAAAAAAAAAAAAAAAAAAAAAAAAAAAAAAAAAAAAAAAAAAAAAAAAAAAAAAAAAAAAAAAAAAAAAAAAAAAAAAAAAAAAAAAAAAAAAAAAAAAAAAAAAAAAAAAAAAAAAAAAAAAAAAAAAAAAAAAAAAAAAAAAAAAAAAAAAAAAAAAAAAAAAAAAAFyPwvUoXN8/2c73U+Ol2z/HSzeJQWDdPwAAAAAAAAAA9ihcj8L10D/l0CLb+X7SP2ZmZmZmZtY/IbByaJHt1D8dWmQ730/VPzMzMzMzM9M/HVpkO99PzT8ZBFYOLbLdP76fGi/dJN4/qvHSTWIQyD8zMzMzMzPTPxKDwMqhReI/AAAAAAAA4D8Sg8DKoUXiP2ZmZmZmZtY/sp3vp8ZL1z+WQ4ts5/vRP+xRuB6F69E/gZVDi2zn0z8pXI/C9SjcP0SLbOf7qdE/DAIrhxbZ1j8AAAAAAADgP4ts5/up8do/F9nO91Pj3T/b+X5qvHTTP4PAyqFFtts/+FPjpZvE4D+WQ4ts5/vRP/LSTWIQWOE/x0s3iUFg3T8zMzMzMzPTPzEIrBxaZOM/BoGVQ4ts1z+28/3UeOniP7Kd76fGS9c/IbByaJHt4D8fhetRuB7hP9Ei2/l+atQ/sp3vp8ZL1z/ByqFFtvPVP5qZmZmZmdk/3SQGgZVD2z/b+X5qvHTbPxfZzvdT49U/GQRWDi2y4T81XrpJDALjPwAAAAAAAOA/NV66SQwC4z9vEoPAyqHdPy2yne+nxuM/mG4Sg8DK4T/4U+Olm8TgP7bz/dR46eI/y6FFtvP95D9xPQrXo3DhP2ZmZmZmZuY/4XoUrkfh2j8MAiuHFtnWP7gehetRuOI/\",\"dtype\":\"float64\",\"order\":\"little\",\"shape\":[93]},\"stat_winScoreFirst\":{\"__ndarray__\":\"AAAAAAAA7D8zMzMzMzPjP0w3iUFg5eg/EFg5tMh24j97FK5H4XrkP1K4HoXrUeg/8tJNYhBY5T++nxov3STmP2ZmZmZmZuY/ZDvfT42X5j8AAAAAAADgP90kBoGVQ+c/ukkMAiuH5j8MAiuHFtnmPxKDwMqhReI/Di2yne+n5j/RItv5fmrcP5qZmZmZmck/AAAAAAAA2D8/NV66SQzaP3WTGARWDuE/ZDvfT42X3j91kxgEVg7hP65H4XoUruM/ppvEILBy4D9kO99PjZfWP9v5fmq8dNs/CtejcD0K4z+e76fGSzfZP3WTGARWDuU/ZmZmZmZm4j+TGARWDi3iP166SQwCK98/5dAi2/l+2j83iUFg5dDaP3sUrkfheuA/7FG4HoXr2T+4HoXrUbjeP+Olm8QgsNo/9P3UeOkm2T9U46WbxCDkPzMzMzMzM+c/QmDl0CLb5T9CYOXQItvlP8l2vp8aL+k/SgwCK4cW6T8MAiuHFtnmP4GVQ4ts5+M/+n5qvHST5D8/NV66SQziP/Cnxks3ieE/wcqhRbbz4T/TTWIQWDnkP5qZmZmZmeE//Knx0k1i4D8UrkfhehTmP5zEILByaOk/AiuHFtnO4z/VeOkmMQjcP7pJDAIrh+I/DAIrhxbZ5j/sUbgehevhPwAAAAAAAOQ/CtejcD0K4z+F61G4HoXjPx+F61G4HuU/AAAAAAAA5D/pJjEIrBzmPw4tsp3vp+I/AiuHFtnO5z/l0CLb+X7mP9NNYhBYOdw/MzMzMzMz4z9MN4lBYOXgP83MzMzMzOQ/y6FFtvP96D8QWDm0yHbePwAAAAAAAOA/EFg5tMh25j/y0k1iEFjlP5huEoPAyuU/8tJNYhBY5T8tsp3vp8bjP0Jg5dAi2+U/PzVeukkM6j8GgZVDi2zrP+kmMQisHOo/PQrXo3A96j8lBoGVQ4voP/LSTWIQWOU/8tJNYhBY5T/ZzvdT46XbPwAAAAAAAOQ/\",\"dtype\":\"float64\",\"order\":\"little\",\"shape\":[93]},\"stat_wins\":[25,19,21,17,19,23,23,21,22,19,19,27,26,27,21,29,11,6,11,13,22,21,18,28,20,23,17,29,17,32,26,32,26,17,22,26,22,22,20,18,30,39,41,38,49,48,47,40,37,29,29,30,40,38,30,39,35,42,26,36,34,36,37,36,36,50,34,52,22,41,38,25,33,29,33,36,32,27,44,42,42,43,38,44,51,26,45,53,46,48,34,32,37],\"team_id\":[3,3,3,3,3,3,3,3,3,3,3,3,3,3,3,3,3,3,3,3,3,3,3,3,3,3,3,3,3,3,3,3,3,3,3,3,3,3,3,3,3,3,3,3,3,3,3,3,3,3,3,3,3,3,3,3,3,3,3,3,3,3,3,3,3,3,3,3,3,3,3,3,3,3,3,3,3,3,3,3,3,3,3,3,3,3,3,3,3,3,3,3,3],\"team_link\":[\"/api/v1/teams/3\",\"/api/v1/teams/3\",\"/api/v1/teams/3\",\"/api/v1/teams/3\",\"/api/v1/teams/3\",\"/api/v1/teams/3\",\"/api/v1/teams/3\",\"/api/v1/teams/3\",\"/api/v1/teams/3\",\"/api/v1/teams/3\",\"/api/v1/teams/3\",\"/api/v1/teams/3\",\"/api/v1/teams/3\",\"/api/v1/teams/3\",\"/api/v1/teams/3\",\"/api/v1/teams/3\",\"/api/v1/teams/3\",\"/api/v1/teams/3\",\"/api/v1/teams/3\",\"/api/v1/teams/3\",\"/api/v1/teams/3\",\"/api/v1/teams/3\",\"/api/v1/teams/3\",\"/api/v1/teams/3\",\"/api/v1/teams/3\",\"/api/v1/teams/3\",\"/api/v1/teams/3\",\"/api/v1/teams/3\",\"/api/v1/teams/3\",\"/api/v1/teams/3\",\"/api/v1/teams/3\",\"/api/v1/teams/3\",\"/api/v1/teams/3\",\"/api/v1/teams/3\",\"/api/v1/teams/3\",\"/api/v1/teams/3\",\"/api/v1/teams/3\",\"/api/v1/teams/3\",\"/api/v1/teams/3\",\"/api/v1/teams/3\",\"/api/v1/teams/3\",\"/api/v1/teams/3\",\"/api/v1/teams/3\",\"/api/v1/teams/3\",\"/api/v1/teams/3\",\"/api/v1/teams/3\",\"/api/v1/teams/3\",\"/api/v1/teams/3\",\"/api/v1/teams/3\",\"/api/v1/teams/3\",\"/api/v1/teams/3\",\"/api/v1/teams/3\",\"/api/v1/teams/3\",\"/api/v1/teams/3\",\"/api/v1/teams/3\",\"/api/v1/teams/3\",\"/api/v1/teams/3\",\"/api/v1/teams/3\",\"/api/v1/teams/3\",\"/api/v1/teams/3\",\"/api/v1/teams/3\",\"/api/v1/teams/3\",\"/api/v1/teams/3\",\"/api/v1/teams/3\",\"/api/v1/teams/3\",\"/api/v1/teams/3\",\"/api/v1/teams/3\",\"/api/v1/teams/3\",\"/api/v1/teams/3\",\"/api/v1/teams/3\",\"/api/v1/teams/3\",\"/api/v1/teams/3\",\"/api/v1/teams/3\",\"/api/v1/teams/3\",\"/api/v1/teams/3\",\"/api/v1/teams/3\",\"/api/v1/teams/3\",\"/api/v1/teams/3\",\"/api/v1/teams/3\",\"/api/v1/teams/3\",\"/api/v1/teams/3\",\"/api/v1/teams/3\",\"/api/v1/teams/3\",\"/api/v1/teams/3\",\"/api/v1/teams/3\",\"/api/v1/teams/3\",\"/api/v1/teams/3\",\"/api/v1/teams/3\",\"/api/v1/teams/3\",\"/api/v1/teams/3\",\"/api/v1/teams/3\",\"/api/v1/teams/3\",\"/api/v1/teams/3\"],\"team_name\":[\"New York Rangers\",\"New York Rangers\",\"New York Rangers\",\"New York Rangers\",\"New York Rangers\",\"New York Rangers\",\"New York Rangers\",\"New York Rangers\",\"New York Rangers\",\"New York Rangers\",\"New York Rangers\",\"New York Rangers\",\"New York Rangers\",\"New York Rangers\",\"New York Rangers\",\"New York Rangers\",\"New York Rangers\",\"New York Rangers\",\"New York Rangers\",\"New York Rangers\",\"New York Rangers\",\"New York Rangers\",\"New York Rangers\",\"New York Rangers\",\"New York Rangers\",\"New York Rangers\",\"New York Rangers\",\"New York Rangers\",\"New York Rangers\",\"New York Rangers\",\"New York Rangers\",\"New York Rangers\",\"New York Rangers\",\"New York Rangers\",\"New York Rangers\",\"New York Rangers\",\"New York Rangers\",\"New York Rangers\",\"New York Rangers\",\"New York Rangers\",\"New York Rangers\",\"New York Rangers\",\"New York Rangers\",\"New York Rangers\",\"New York Rangers\",\"New York Rangers\",\"New York Rangers\",\"New York Rangers\",\"New York Rangers\",\"New York Rangers\",\"New York Rangers\",\"New York Rangers\",\"New York Rangers\",\"New York Rangers\",\"New York Rangers\",\"New York Rangers\",\"New York Rangers\",\"New York Rangers\",\"New York Rangers\",\"New York Rangers\",\"New York Rangers\",\"New York Rangers\",\"New York Rangers\",\"New York Rangers\",\"New York Rangers\",\"New York Rangers\",\"New York Rangers\",\"New York Rangers\",\"New York Rangers\",\"New York Rangers\",\"New York Rangers\",\"New York Rangers\",\"New York Rangers\",\"New York Rangers\",\"New York Rangers\",\"New York Rangers\",\"New York Rangers\",\"New York Rangers\",\"New York Rangers\",\"New York Rangers\",\"New York Rangers\",\"New York Rangers\",\"New York Rangers\",\"New York Rangers\",\"New York Rangers\",\"New York Rangers\",\"New York Rangers\",\"New York Rangers\",\"New York Rangers\",\"New York Rangers\",\"New York Rangers\",\"New York Rangers\",\"New York Rangers\"]},\"selected\":{\"id\":\"19916\"},\"selection_policy\":{\"id\":\"19915\"}},\"id\":\"19905\",\"type\":\"ColumnDataSource\"},{\"attributes\":{},\"id\":\"19895\",\"type\":\"ResetTool\"},{\"attributes\":{},\"id\":\"19913\",\"type\":\"BasicTickFormatter\"},{\"attributes\":{\"background_fill_alpha\":0,\"border_line_alpha\":0,\"items\":[{\"id\":\"19918\"},{\"id\":\"19930\"}],\"location\":\"top_left\",\"margin\":-1,\"title_text_font_size\":\"20px\",\"title_text_font_style\":\"bold\"},\"id\":\"19917\",\"type\":\"Legend\"},{\"attributes\":{\"label\":{\"value\":\"Points\"},\"renderers\":[{\"id\":\"19909\"}]},\"id\":\"19918\",\"type\":\"LegendItem\"},{\"attributes\":{},\"id\":\"19935\",\"type\":\"NormalHead\"},{\"attributes\":{\"bottom_units\":\"screen\",\"fill_alpha\":0.5,\"fill_color\":\"lightgrey\",\"left_units\":\"screen\",\"level\":\"overlay\",\"line_alpha\":1.0,\"line_color\":\"black\",\"line_dash\":[4,4],\"line_width\":2,\"right_units\":\"screen\",\"top_units\":\"screen\"},\"id\":\"19897\",\"type\":\"BoxAnnotation\"},{\"attributes\":{},\"id\":\"19915\",\"type\":\"UnionRenderers\"},{\"attributes\":{\"overlay\":{\"id\":\"19897\"}},\"id\":\"19893\",\"type\":\"BoxZoomTool\"},{\"attributes\":{\"end\":{\"id\":\"19932\"},\"source\":null,\"start\":null,\"x_end\":{\"value\":1995},\"x_start\":{\"value\":2005},\"y_end\":{\"value\":45},\"y_start\":{\"value\":25}},\"id\":\"19933\",\"type\":\"Arrow\"},{\"attributes\":{\"text\":\"Rangers Points by Season\"},\"id\":\"19877\",\"type\":\"Title\"},{\"attributes\":{\"source\":{\"id\":\"19905\"}},\"id\":\"19910\",\"type\":\"CDSView\"},{\"attributes\":{\"level\":\"overlay\",\"text\":\"Lockout\",\"x\":1995,\"y\":20},\"id\":\"19931\",\"type\":\"Label\"},{\"attributes\":{\"active_drag\":\"auto\",\"active_inspect\":\"auto\",\"active_multi\":null,\"active_scroll\":\"auto\",\"active_tap\":\"auto\",\"tools\":[{\"id\":\"19891\"},{\"id\":\"19892\"},{\"id\":\"19893\"},{\"id\":\"19894\"},{\"id\":\"19895\"},{\"id\":\"19896\"},{\"id\":\"19938\"}]},\"id\":\"19898\",\"type\":\"Toolbar\"},{\"attributes\":{},\"id\":\"19916\",\"type\":\"Selection\"},{\"attributes\":{},\"id\":\"19891\",\"type\":\"PanTool\"},{\"attributes\":{\"end\":{\"id\":\"19935\"},\"source\":null,\"start\":null,\"x_end\":{\"value\":2013},\"x_start\":{\"value\":2005},\"y_end\":{\"value\":45},\"y_start\":{\"value\":25}},\"id\":\"19936\",\"type\":\"Arrow\"},{\"attributes\":{},\"id\":\"19892\",\"type\":\"WheelZoomTool\"},{\"attributes\":{\"interval\":10},\"id\":\"19939\",\"type\":\"SingleIntervalTicker\"},{\"attributes\":{},\"id\":\"19896\",\"type\":\"HelpTool\"},{\"attributes\":{},\"id\":\"20377\",\"type\":\"BasicTickFormatter\"},{\"attributes\":{\"line_color\":\"grey\",\"line_dash\":[6],\"line_width\":4,\"x\":{\"field\":\"season_stop\"},\"y\":{\"field\":\"stat_gamesPlayed\"}},\"id\":\"19920\",\"type\":\"Line\"},{\"attributes\":{},\"id\":\"19881\",\"type\":\"DataRange1d\"},{\"attributes\":{},\"id\":\"19879\",\"type\":\"DataRange1d\"},{\"attributes\":{},\"id\":\"19888\",\"type\":\"BasicTicker\"},{\"attributes\":{},\"id\":\"19885\",\"type\":\"LinearScale\"},{\"attributes\":{\"formatter\":{\"id\":\"20377\"},\"ticker\":{\"id\":\"19939\"}},\"id\":\"19940\",\"type\":\"LinearAxis\"},{\"attributes\":{},\"id\":\"19883\",\"type\":\"LinearScale\"},{\"attributes\":{\"line_alpha\":0.1,\"line_color\":\"#1f77b4\",\"line_width\":2,\"x\":{\"field\":\"season_stop\"},\"y\":{\"field\":\"stat_pts\"}},\"id\":\"19908\",\"type\":\"Line\"},{\"attributes\":{\"axis\":{\"id\":\"19887\"},\"dimension\":1,\"ticker\":null},\"id\":\"19890\",\"type\":\"Grid\"}],\"root_ids\":[\"19876\"]},\"title\":\"Bokeh Application\",\"version\":\"2.2.3\"}};\n",
       "  var render_items = [{\"docid\":\"c8d76e98-fdee-4767-b211-51bd421b60f9\",\"root_ids\":[\"19876\"],\"roots\":{\"19876\":\"087dea73-390e-4288-800b-be9dc4cef676\"}}];\n",
       "  root.Bokeh.embed.embed_items_notebook(docs_json, render_items);\n",
       "\n",
       "  }\n",
       "  if (root.Bokeh !== undefined) {\n",
       "    embed_document(root);\n",
       "  } else {\n",
       "    var attempts = 0;\n",
       "    var timer = setInterval(function(root) {\n",
       "      if (root.Bokeh !== undefined) {\n",
       "        clearInterval(timer);\n",
       "        embed_document(root);\n",
       "      } else {\n",
       "        attempts++;\n",
       "        if (attempts > 100) {\n",
       "          clearInterval(timer);\n",
       "          console.log(\"Bokeh: ERROR: Unable to run BokehJS code because BokehJS library is missing\");\n",
       "        }\n",
       "      }\n",
       "    }, 10, root)\n",
       "  }\n",
       "})(window);"
      ],
      "application/vnd.bokehjs_exec.v0+json": ""
     },
     "metadata": {
      "application/vnd.bokehjs_exec.v0+json": {
       "id": "19876"
      }
     },
     "output_type": "display_data"
    }
   ],
   "source": [
    "p = figure(plot_width=400, plot_height=400, \n",
    "           x_axis_type=None, title = \"Rangers Points by Season\")\n",
    "\n",
    "source = ColumnDataSource(df_rangers)\n",
    "\n",
    "p.line(x = \"season_stop\", y = \"stat_pts\", source = source, line_width = 2, \n",
    "       legend_label = \"Points\")\n",
    "p.line(x = \"season_stop\", y = \"stat_gamesPlayed\", source = source, line_color = \"grey\",\n",
    "      line_width = 4, line_dash = \"dashed\",\n",
    "      legend_label = \"Games Played\")\n",
    "p.yaxis.minor_tick_line_color = None\n",
    "\n",
    "# add annotations\n",
    "labels = Label(x = 1995, y = 20, text = \"Lockout\", level = \"overlay\")\n",
    "p.add_layout(Arrow(end=NormalHead(line_color=\"black\", line_width=1),\n",
    "                   x_start=2005, y_start=25, x_end=1995, y_end=45))\n",
    "p.add_layout(Arrow(end=NormalHead(line_color=\"black\", line_width=1),\n",
    "                   x_start=2005, y_start=25, x_end=2013, y_end=45))\n",
    "p.add_layout(labels)\n",
    "\n",
    "hover = HoverTool()\n",
    "hover.tooltips=[\n",
    "    (\"Year\",\"@season_stop\"),\n",
    "    ('Points', \"@stat_pts\"),\n",
    "    ('Games Played', '@stat_gamesPlayed')\n",
    "\n",
    "]\n",
    "\n",
    "ticker = SingleIntervalTicker(interval=10)\n",
    "xaxis = LinearAxis(ticker=ticker)\n",
    "p.add_layout(xaxis, 'below')\n",
    "\n",
    "p.add_tools(hover)\n",
    "\n",
    "\n",
    "p.legend.location = \"top_left\"\n",
    "p.legend.title_text_font_style = \"bold\"\n",
    "p.legend.title_text_font_size = \"20px\"\n",
    "p.legend.background_fill_alpha = 0\n",
    "p.legend.border_line_alpha = 0\n",
    "p.legend.margin = -1\n",
    "\n",
    "show(p)"
   ]
  },
  {
   "cell_type": "code",
   "execution_count": 166,
   "metadata": {},
   "outputs": [
    {
     "data": {
      "text/html": [
       "\n",
       "\n",
       "\n",
       "\n",
       "\n",
       "\n",
       "  <div class=\"bk-root\" id=\"de9edc19-d231-4805-980d-1745c41cf1df\" data-root-id=\"6695\"></div>\n"
      ]
     },
     "metadata": {},
     "output_type": "display_data"
    },
    {
     "data": {
      "application/javascript": [
       "(function(root) {\n",
       "  function embed_document(root) {\n",
       "    \n",
       "  var docs_json = {\"90a13bc6-7b05-4547-a333-46f29aa11f7b\":{\"roots\":{\"references\":[{\"attributes\":{\"below\":[{\"id\":\"6738\"}],\"center\":[{\"id\":\"6709\"}],\"extra_y_ranges\":{\"percent\":{\"id\":\"6729\"}},\"left\":[{\"id\":\"6706\"}],\"plot_height\":400,\"plot_width\":400,\"renderers\":[{\"id\":\"6727\"},{\"id\":\"6734\"}],\"right\":[{\"id\":\"6730\"}],\"title\":{\"id\":\"6696\"},\"toolbar\":{\"id\":\"6717\"},\"x_range\":{\"id\":\"6698\"},\"x_scale\":{\"id\":\"6702\"},\"y_range\":{\"id\":\"6700\"},\"y_scale\":{\"id\":\"6704\"}},\"id\":\"6695\",\"subtype\":\"Figure\",\"type\":\"Plot\"},{\"attributes\":{},\"id\":\"6702\",\"type\":\"LinearScale\"},{\"attributes\":{\"source\":{\"id\":\"5553\"}},\"id\":\"6728\",\"type\":\"CDSView\"},{\"attributes\":{},\"id\":\"6961\",\"type\":\"BasicTickFormatter\"},{\"attributes\":{},\"id\":\"6714\",\"type\":\"ResetTool\"},{\"attributes\":{},\"id\":\"6957\",\"type\":\"BasicTicker\"},{\"attributes\":{},\"id\":\"6958\",\"type\":\"BasicTickFormatter\"},{\"attributes\":{\"formatter\":{\"id\":\"6959\"},\"ticker\":{\"id\":\"6737\"}},\"id\":\"6738\",\"type\":\"LinearAxis\"},{\"attributes\":{},\"id\":\"6959\",\"type\":\"BasicTickFormatter\"},{\"attributes\":{},\"id\":\"6710\",\"type\":\"PanTool\"},{\"attributes\":{},\"id\":\"5760\",\"type\":\"Selection\"},{\"attributes\":{\"data_source\":{\"id\":\"5553\"},\"glyph\":{\"id\":\"6732\"},\"hover_glyph\":null,\"muted_glyph\":null,\"nonselection_glyph\":{\"id\":\"6733\"},\"selection_glyph\":null,\"view\":{\"id\":\"6735\"},\"y_range_name\":\"percent\"},\"id\":\"6734\",\"type\":\"GlyphRenderer\"},{\"attributes\":{\"data\":{\"index\":[0,1,2,3,4,5,6,7,8,9,10,11,12,13,14,15,16,17,18,19,20,21,22,23,24,25,26,27,28,29,30,31,32,33,34,35,36,37,38,39,40,41,42,43,44,45,46,47,48,49,50,51,52,53,54,55,56,57,58,59,60,61,62,63,64,65,66,67,68,69,70,71,72,73,74,75,76,77,78,79,80,81,82,83,84,85,86,87,88,89,90,91,92],\"season_start\":[1926,1927,1928,1929,1930,1931,1932,1933,1934,1935,1936,1937,1938,1939,1940,1941,1942,1943,1944,1945,1946,1947,1948,1949,1950,1951,1952,1953,1954,1955,1956,1957,1958,1959,1960,1961,1962,1963,1964,1965,1966,1967,1968,1969,1970,1971,1972,1973,1974,1975,1976,1977,1978,1979,1980,1981,1982,1983,1984,1985,1986,1987,1988,1989,1990,1991,1992,1993,1994,1995,1996,1997,1998,1999,2000,2001,2002,2003,2005,2006,2007,2008,2009,2010,2011,2012,2013,2014,2015,2016,2017,2018,2019],\"season_stop\":[1927,1928,1929,1930,1931,1932,1933,1934,1935,1936,1937,1938,1939,1940,1941,1942,1943,1944,1945,1946,1947,1948,1949,1950,1951,1952,1953,1954,1955,1956,1957,1958,1959,1960,1961,1962,1963,1964,1965,1966,1967,1968,1969,1970,1971,1972,1973,1974,1975,1976,1977,1978,1979,1980,1981,1982,1983,1984,1985,1986,1987,1988,1989,1990,1991,1992,1993,1994,1995,1996,1997,1998,1999,2000,2001,2002,2003,2004,2006,2007,2008,2009,2010,2011,2012,2013,2014,2015,2016,2017,2018,2019,2020],\"stat_evGGARatio\":{\"__ndarray__\":\"AAAAAAAAAAAAAAAAAAAAAAAAAAAAAAAAAAAAAAAAAAAAAAAAAAAAAAAAAAAAAAAAAAAAAAAAAAAAAAAAAAAAAAAAAAAAAAAAAAAAAAAAAAAAAAAAAAAAAAAAAAAAAAAAAAAAAAAAAAAAAAAAAAAAAAAAAAAAAAAAAAAAAAAAAAAAAAAAAAAAAAAAAAAAAAAAAAAAAAAAAAAAAAAAAAAAAAAAAAAAAAAAAAAAAAAAAAAAAAAAAAAAAAAAAAAAAAAAAAAAAAAAAAAAAAAAAAAAAAAAAAAAAAAAAAAAAAAAAAAAAAAAAAAAAAAAAAAAAAAAAAAAAAAAAAAAAAAAAAAAAAAAAAAAAAAA6Ugu/yH96D/gnBGlvcHrP/vL7snDQus/4JwRpb3B6z+Uh4Va07znP6MjufyH9OM/1QloImx46D+M22gAb4HuP6VOQBNhw/Q/3bWEfNCz8T9kzF1LyAf2PwaBlUOLbPc/io7k8h/S+z+4rwPnjCj4P4qw4emVsvE/BhIUP8bc8D+ppE5AE2HnPxDpt68D5+o/m1Wfq63Y6z/TTWIQWDnyP11txf6ye/A/GlHaG3xh8T/7y+7Jw0LxP9V46SYxCPI/Gw3gLZCg8D817zhFR3LpP3E9CtejcPA/7zhFR3L57T90RpT2Bl/oP3RGlPYGX+g/dEaU9gZf6D90RpT2Bl/oP3RGlPYGX+g/dEaU9gZf6D+94xQdyeXnP73jFB3J5ec/ZRniWBe37T9lGeJYF7ftP2UZ4lgXt+0/VHQkl/+Q6j+DUUmdgCbzP7hAguLHmO8/uECC4seY7z/Kw0Ktad7wP0HxY8xdS+4/ZF3cRgN49D8zxLEubqPxP0T67evAOfI/xf6ye/Kw7D/zH9JvXwfxPxQ/xty1hPE/WMoyxLEu8j/NzMzMzMz0P/cGX5hMFfE/0m9fB84Z9T8PnDOitDf0P7aEfNCzWfE/Vp+rrdhf6j/7OnDOiNLqP2IQWDm0yPA/\",\"dtype\":\"float64\",\"order\":\"little\",\"shape\":[93]},\"stat_faceOffWinPercentage\":[\"0.0\",\"0.0\",\"0.0\",\"0.0\",\"0.0\",\"0.0\",\"0.0\",\"0.0\",\"0.0\",\"0.0\",\"0.0\",\"0.0\",\"0.0\",\"0.0\",\"0.0\",\"0.0\",\"0.0\",\"0.0\",\"0.0\",\"0.0\",\"0.0\",\"0.0\",\"0.0\",\"0.0\",\"0.0\",\"0.0\",\"0.0\",\"0.0\",\"0.0\",\"0.0\",\"0.0\",\"0.0\",\"0.0\",\"0.0\",\"0.0\",\"0.0\",\"0.0\",\"0.0\",\"0.0\",\"0.0\",\"0.0\",\"0.0\",\"0.0\",\"0.0\",\"0.0\",\"0.0\",\"0.0\",\"0.0\",\"0.0\",\"0.0\",\"0.0\",\"0.0\",\"0.0\",\"0.0\",\"0.0\",\"0.0\",\"0.0\",\"0.0\",\"0.0\",\"0.0\",\"0.0\",\"0.0\",\"0.0\",\"0.0\",\"0.0\",\"0.0\",\"0.0\",\"0.0\",\"0.0\",\"0.0\",\"0.0\",\"48.5\",\"49.0\",\"53.1\",\"51.2\",\"50.7\",\"53.3\",\"51.4\",\"47.5\",\"49.9\",\"52.3\",\"50.9\",\"49.2\",\"47.7\",\"50.0\",\"50.0\",\"48.8\",\"46.7\",\"49.2\",\"48.4\",\"49.3\",\"46.9\",\"46.6\"],\"stat_faceOffsLost\":{\"__ndarray__\":\"AAAAAAAAAAAAAAAAAAAAAAAAAAAAAAAAAAAAAAAAAAAAAAAAAAAAAAAAAAAAAAAAAAAAAAAAAAAAAAAAAAAAAAAAAAAAAAAAAAAAAAAAAAAAAAAAAAAAAAAAAAAAAAAAAAAAAAAAAAAAAAAAAAAAAAAAAAAAAAAAAAAAAAAAAAAAAAAAAAAAAAAAAAAAAAAAAAAAAAAAAAAAAAAAAAAAAAAAAAAAAAAAAAAAAAAAAAAAAAAAAAAAAAAAAAAAAAAAAAAAAAAAAAAAAAAAAAAAAAAAAAAAAAAAAAAAAAAAAAAAAAAAAAAAAAAAAAAAAAAAAAAAAAAAAAAAAAAAAAAAAAAAAAAAAAAAAAAAAAAAAAAAAAAAAAAAAAAAAAAAAAAAAAAAAAAAAAAAAAAAAAAAAAAAAAAAAAAAAAAAAAAAAAAAAAAAAAAAAAAAAAAAAAAAAAAAAAAAAAAAAAAAAAAAAAAAAAAAAAAAAAAAAAAAAAAAAAAAAAAAAAAAAAAAAAAAAAAAAAAAAAAAAAAAAAAAAAAAAAAAAAAAAAAAAAAAAAAAAAAAAAAAAAAAAAAAAAAAAAAAAAAAAAAAAAAAAAAAAAAAAAAAAAAAAAAAAAAAAAAAAAAAAAAAAAAAAAAAAAAAAAAAAAAAAAAAAAAAAAAAAAAAAAAAAAAAAAAAAAAAAAAAAAAAAAAAAAAAAAAAAAAAAAAAAAAAAAAAAAAAAAAAAAAAAAAAAAAAAAAAAAAAAAAAAAAAAAAAAAAAAAAAKqVAAAAAAABApEAAAAAAAMSiQAAAAAAA6qNAAAAAAABkpUAAAAAAAHSjQAAAAAAAYqNAAAAAAADSokAAAAAAACaiQAAAAAAAdqBAAAAAAAB2oUAAAAAAAAyiQAAAAAAAyKJAAAAAAADmoUAAAAAAAAiWQAAAAAAAoKNAAAAAAAB2pEAAAAAAAKyiQAAAAAAAnqNAAAAAAAAso0AAAAAAAFajQAAAAAAAHqBA\",\"dtype\":\"float64\",\"order\":\"little\",\"shape\":[93]},\"stat_faceOffsTaken\":{\"__ndarray__\":\"AAAAAAAAAAAAAAAAAAAAAAAAAAAAAAAAAAAAAAAAAAAAAAAAAAAAAAAAAAAAAAAAAAAAAAAAAAAAAAAAAAAAAAAAAAAAAAAAAAAAAAAAAAAAAAAAAAAAAAAAAAAAAAAAAAAAAAAAAAAAAAAAAAAAAAAAAAAAAAAAAAAAAAAAAAAAAAAAAAAAAAAAAAAAAAAAAAAAAAAAAAAAAAAAAAAAAAAAAAAAAAAAAAAAAAAAAAAAAAAAAAAAAAAAAAAAAAAAAAAAAAAAAAAAAAAAAAAAAAAAAAAAAAAAAAAAAAAAAAAAAAAAAAAAAAAAAAAAAAAAAAAAAAAAAAAAAAAAAAAAAAAAAAAAAAAAAAAAAAAAAAAAAAAAAAAAAAAAAAAAAAAAAAAAAAAAAAAAAAAAAAAAAAAAAAAAAAAAAAAAAAAAAAAAAAAAAAAAAAAAAAAAAAAAAAAAAAAAAAAAAAAAAAAAAAAAAAAAAAAAAAAAAAAAAAAAAAAAAAAAAAAAAAAAAAAAAAAAAAAAAAAAAAAAAAAAAAAAAAAAAAAAAAAAAAAAAAAAAAAAAAAAAAAAAAAAAAAAAAAAAAAAAAAAAAAAAAAAAAAAAAAAAAAAAAAAAAAAAAAAAAAAAAAAAAAAAAAAAAAAAAAAAAAAAAAAAAAAAAAAAAAAAAAAAAAAAAAAAAAAAAAAAAAAAAAAAAAAAAAAAAAAAAAAAAAAAAAAAAAAAAAAAAAAAAAAAAAAAAAAAAAAAAAAAAAAAAAAAAAAAAAAibRAAAAAAADes0AAAAAAAAS0QAAAAAAAZLRAAAAAAACytUAAAAAAANa0QAAAAAAA7LNAAAAAAADrsUAAAAAAACCyQAAAAAAAQbFAAAAAAADDsUAAAAAAAMGxQAAAAAAA97FAAAAAAADhsUAAAAAAAAimQAAAAAAALbNAAAAAAAA1s0AAAAAAAF+yQAAAAAAAALNAAAAAAADmskAAAAAAADeyQAAAAAAALK5A\",\"dtype\":\"float64\",\"order\":\"little\",\"shape\":[93]},\"stat_faceOffsWon\":{\"__ndarray__\":\"AAAAAAAAAAAAAAAAAAAAAAAAAAAAAAAAAAAAAAAAAAAAAAAAAAAAAAAAAAAAAAAAAAAAAAAAAAAAAAAAAAAAAAAAAAAAAAAAAAAAAAAAAAAAAAAAAAAAAAAAAAAAAAAAAAAAAAAAAAAAAAAAAAAAAAAAAAAAAAAAAAAAAAAAAAAAAAAAAAAAAAAAAAAAAAAAAAAAAAAAAAAAAAAAAAAAAAAAAAAAAAAAAAAAAAAAAAAAAAAAAAAAAAAAAAAAAAAAAAAAAAAAAAAAAAAAAAAAAAAAAAAAAAAAAAAAAAAAAAAAAAAAAAAAAAAAAAAAAAAAAAAAAAAAAAAAAAAAAAAAAAAAAAAAAAAAAAAAAAAAAAAAAAAAAAAAAAAAAAAAAAAAAAAAAAAAAAAAAAAAAAAAAAAAAAAAAAAAAAAAAAAAAAAAAAAAAAAAAAAAAAAAAAAAAAAAAAAAAAAAAAAAAAAAAAAAAAAAAAAAAAAAAAAAAAAAAAAAAAAAAAAAAAAAAAAAAAAAAAAAAAAAAAAAAAAAAAAAAAAAAAAAAAAAAAAAAAAAAAAAAAAAAAAAAAAAAAAAAAAAAAAAAAAAAAAAAAAAAAAAAAAAAAAAAAAAAAAAAAAAAAAAAAAAAAAAAAAAAAAAAAAAAAAAAAAAAAAAAAAAAAAAAAAAAAAAAAAAAAAAAAAAAAAAAAAAAAAAAAAAAAAAAAAAAAAAAAAAAAAAAAAAAAAAAAAAAAAAAAAAAAAAAAAAAAAAAAAAAAAAAAAA6KNAAAAAAAB8o0AAAAAAAESlQAAAAAAA3qRAAAAAAAAApkAAAAAAADimQAAAAAAAdqRAAAAAAAAEoUAAAAAAABqiQAAAAAAADKJAAAAAAAAQokAAAAAAAHahQAAAAAAAJqFAAAAAAADcoUAAAAAAAAiWQAAAAAAAuqJAAAAAAAD0oUAAAAAAABKiQAAAAAAAYqJAAAAAAACgokAAAAAAABihQAAAAAAAHJxA\",\"dtype\":\"float64\",\"order\":\"little\",\"shape\":[93]},\"stat_gamesPlayed\":[44,44,44,44,44,48,48,48,48,48,48,48,48,48,48,48,50,50,50,50,60,60,60,70,70,70,70,70,70,70,70,70,70,70,70,70,70,70,70,70,70,74,76,76,78,78,78,78,80,80,80,80,80,80,80,80,80,80,80,80,80,80,80,80,80,80,84,84,48,82,82,82,82,82,82,82,82,82,82,82,82,82,82,82,82,48,82,82,82,82,82,82,70],\"stat_goalsAgainstPerGame\":{\"__ndarray__\":\"kxgEVg4t+j+4HoXrUbj8P28Sg8DKofc/AAAAAAAACkBvEoPAyqH/P0SLbOf7qQJAokW28/3UAUCiRbbz/dQCQF66SQwCKwdAAAAAAAAAAEBEi2zn+6kBQAAAAAAAAABAGy/dJAaBAUBEi2zn+6n5P6JFtvP91ARAokW28/3UB0A9CtejcD0UQM3MzMzMzBhAw/UoXI/CE0CPwvUoXI8OQM3MzMzMzAhAzczMzMzMCkBWDi2yne8GQJqZmZmZmQVAK4cW2c73BkDVeOkmMQgJQOkmMQisHAhAzczMzMzMBEAAAAAAAAAIQDMzMzMzMwdAi2zn+6nxCUCwcmiR7XwFQM3MzMzMzAhACKwcWmQ7DEDy0k1iEFgMQA4tsp3vpwdAbxKDwMqhCkAOLbKd76cLQOkmMQisHAxAokW28/3UDUCamZmZmZkFQGIQWDm0yANAbxKDwMqhBEBMN4lBYOUDQPT91HjpJgJAGQRWDi2yA0C8dJMYBFYFQFg5tMh2vglAmpmZmZmZC0D0/dR46aYQQAAAAAAAAA9AAAAAAAAADEAzMzMzMzMNQGZmZmZmZgxATmIQWDm0D0CamZmZmZkOQE5iEFg5tAxAZmZmZmZmDkCNl24Sg0ARQJqZmZmZmQtA9P3UeOkmEEDn+6nx0k0MQE5iEFg5tA5ATmIQWDm0CkAbL90kBoEKQJqZmZmZmQhAvHSTGARWDUAAAAAAAAAGQLx0kxgEVgZAH4XrUbgeB0Dwp8ZLN4kGQPCnxks3iQZAvp8aL90kBkAAAAAAAAAIQLKd76fGSwxAXrpJDAIrCUDwp8ZLN4kGQDEIrBxaZAhAL90kBoGVBEAv3SQGgZUEQPCnxks3iQJArkfhehSuBEDhehSuR+EEQKAaL90kBgNAw/UoXI/CAUAAAAAAAAACQPCnxks3iQJAPQrXo3A9AkBg5dAi2/kEQN9PjZduEgVADi2yne+nCUA/NV66SQwKQL6fGi/dJAlA\",\"dtype\":\"float64\",\"order\":\"little\",\"shape\":[93]},\"stat_goalsPerGame\":{\"__ndarray__\":\"EoPAyqFFAUBKDAIrhxYBQJMYBFYOLfo/7nw/NV66CEASg8DKoUUDQLx0kxgEVgZAGy/dJAaBBkAAAAAAAAAEQKJFtvP91AZAvHSTGARW/j8bL90kBoEDQKJFtvP91AhAokW28/3UCEBEi2zn+6kGQKJFtvP91AdAGy/dJAaBDUDD9Shcj8IJQOxRuB6F6wlApHA9CtejCEAK16NwPQoHQN0kBoGVQwZAEFg5tMh2B0Aj2/l+arwBQDvfT42XbgNAHVpkO99PA0CLbOf7qfEFQJHtfD81XgFAZmZmZmZmAkC+nxov3SQBQB1aZDvfTwdA1XjpJjEIBUB9PzVeukkGQCuHFtnO9wZAke18PzVeBUAdWmQ7308HQH0/NV66SQZA6SYxCKwcCECoxks3iUEFQNv5fmq8dARAfT81XrpJBkCwcmiR7XwFQDvfT42XbghAHVpkO99PCEBMN4lBYOUJQMUgsHJokQpAqMZLN4lBEEAQWDm0yHYOQPhT46WbxA5AgZVDi2znD0AzMzMzMzMKQDMzMzMzMwtAgZVDi2znC0CamZmZmZkPQM3MzMzMzA5AMzMzMzMzD0CamZmZmZkPQJqZmZmZmQ5AZmZmZmZmD0AbL90kBoENQAAAAAAAAAxATmIQWDm0DkAAAAAAAAAOQAAAAAAAAA9AgZVDi2znC0BOYhBYObQNQFpkO99PDRBAwcqhRbbzDEB7FK5H4XoMQF66SQwCKwdA8KfGSzeJCkBeukkMAisJQJ7vp8ZLNwNAXrpJDAIrBUASg8DKoUUFQDEIrBxaZAhAvp8aL90kBkCwcmiR7XwEQH9qvHSTGARAMQisHFpkCEDufD81XroGQAAAAAAAAARAUI2XbhKDA0CR7Xw/NV4FQEJg5dAi2wVADi2yne+nBUAAAAAAAAAFQOF6FK5H4QRA/tR46SYxCEDufD81XroGQK5H4XoUrghAPQrXo3A9BkCPwvUoXI8FQG8Sg8DKoQpA\",\"dtype\":\"float64\",\"order\":\"little\",\"shape\":[93]},\"stat_losses\":[13,16,13,17,16,17,17,19,20,17,20,15,16,11,19,17,31,39,29,28,32,26,31,31,29,34,37,31,35,28,30,25,32,38,38,32,36,38,38,41,28,23,26,22,18,17,23,24,29,42,37,37,29,32,36,27,35,29,44,38,38,34,35,31,31,25,39,24,23,27,34,39,38,38,43,38,36,40,26,30,27,30,33,33,24,18,31,22,27,28,39,36,28],\"stat_ot\":[0,0,0,0,0,0,0,0,0,0,0,0,0,0,0,0,0,0,0,0,0,0,0,0,0,0,0,0,0,0,0,0,0,0,0,0,0,0,0,0,0,0,0,0,0,0,0,0,0,0,0,0,0,0,0,0,0,0,0,0,0,0,0,0,0,0,0,0,0,0,0,0,0,3,1,4,4,8,12,10,13,9,11,5,7,4,6,7,9,6,9,14,5],\"stat_penaltyKillPercentage\":[\"0.0\",\"0.0\",\"0.0\",\"0.0\",\"0.0\",\"0.0\",\"0.0\",\"0.0\",\"0.0\",\"0.0\",\"0.0\",\"0.0\",\"0.0\",\"0.0\",\"0.0\",\"0.0\",\"0.0\",\"0.0\",\"0.0\",\"0.0\",\"0.0\",\"0.0\",\"0.0\",\"0.0\",\"0.0\",\"0.0\",\"0.0\",\"0.0\",\"0.0\",\"0.0\",\"0.0\",\"0.0\",\"0.0\",\"0.0\",\"0.0\",\"0.0\",\"0.0\",\"0.0\",\"0.0\",\"0.0\",\"0.0\",\"0.0\",\"0.0\",\"0.0\",\"0.0\",\"0.0\",\"0.0\",\"0.0\",\"0.0\",\"0.0\",\"0.0\",\"80.2\",\"74.7\",\"82.2\",\"78.7\",\"76.3\",\"75.4\",\"78.1\",\"80.6\",\"77.8\",\"81.1\",\"80.6\",\"77.0\",\"78.7\",\"79.8\",\"84.8\",\"81.2\",\"84.6\",\"83.9\",\"82.0\",\"79.9\",\"85.4\",\"85.7\",\"83.2\",\"78.5\",\"79.9\",\"81.2\",\"79.4\",\"83.7\",\"83.8\",\"84.5\",\"87.8\",\"84.3\",\"83.7\",\"86.2\",\"81.1\",\"85.3\",\"84.3\",\"78.2\",\"79.8\",\"81.4\",\"78.2\",\"77.4\"],\"stat_powerPlayGoals\":{\"__ndarray__\":\"AAAAAAAAAAAAAAAAAAAAAAAAAAAAAAAAAAAAAAAAAAAAAAAAAAAAAAAAAAAAAAAAAAAAAAAAAAAAAAAAAAA1QAAAAAAAADFAAAAAAAAAMkAAAAAAAAA2QAAAAAAAADFAAAAAAAAAMUAAAAAAAAAsQAAAAAAAAChAAAAAAAAANkAAAAAAAAA4QAAAAAAAAChAAAAAAAAAMUAAAAAAAAAwQAAAAAAAAD5AAAAAAAAAPEAAAAAAAAA7QAAAAAAAAEJAAAAAAAAANEAAAAAAAIBDQAAAAAAAgEBAAAAAAAAASUAAAAAAAABCQAAAAAAAAEVAAAAAAACASEAAAAAAAIBIQAAAAAAAAElAAAAAAAAAQUAAAAAAAABCQAAAAAAAgERAAAAAAAAAREAAAAAAAIBEQAAAAAAAgEtAAAAAAAAARkAAAAAAAIBBQAAAAAAAAEdAAAAAAAAATEAAAAAAAIBJQAAAAAAAAE5AAAAAAAAATkAAAAAAAABLQAAAAAAAgFBAAAAAAAAAVUAAAAAAAMBQQAAAAAAAAE5AAAAAAACAU0AAAAAAAIBSQAAAAAAAgFNAAAAAAACAT0AAAAAAAABRQAAAAAAAAFJAAAAAAACAUkAAAAAAAABSQAAAAAAAQFJAAAAAAADAUkAAAAAAAMBbQAAAAAAAQFVAAAAAAAAAWkAAAAAAAABXQAAAAAAAQFRAAAAAAABAU0AAAAAAAABYQAAAAAAAAERAAAAAAABAVUAAAAAAAIBPQAAAAAAAAE9AAAAAAADAUUAAAAAAAIBLQAAAAAAAQFBAAAAAAAAASEAAAAAAAIBLQAAAAAAAAEdAAAAAAADAVEAAAAAAAMBSQAAAAAAAgE5AAAAAAAAASEAAAAAAAIBLQAAAAAAAgEhAAAAAAAAARkAAAAAAAAA4QAAAAAAAAEhAAAAAAACAQ0AAAAAAAABFQAAAAAAAgEdAAAAAAACASUAAAAAAAABGQAAAAAAAAEpA\",\"dtype\":\"float64\",\"order\":\"little\",\"shape\":[93]},\"stat_powerPlayGoalsAgainst\":{\"__ndarray__\":\"AAAAAAAAAAAAAAAAAAAAAAAAAAAAAAAAAAAAAAAAAAAAAAAAAAAAAAAAAAAAAAAAAAAAAAAAAAAAAAAAAAA6QAAAAAAAADlAAAAAAAAAMUAAAAAAAAAoQAAAAAAAACxAAAAAAAAALkAAAAAAAAAmQAAAAAAAADBAAAAAAAAANkAAAAAAAIBDQAAAAAAAADdAAAAAAAAANEAAAAAAAAAzQAAAAAAAADtAAAAAAAAAMkAAAAAAAAA8QAAAAAAAgEdAAAAAAAAAQ0AAAAAAAIBGQAAAAAAAAENAAAAAAAAAQ0AAAAAAAIBIQAAAAAAAAEZAAAAAAACAR0AAAAAAAABBQAAAAAAAgEJAAAAAAACASkAAAAAAAABIQAAAAAAAAD5AAAAAAAAAP0AAAAAAAABGQAAAAAAAgEZAAAAAAACAT0AAAAAAAAA/QAAAAAAAAEVAAAAAAACAQUAAAAAAAABEQAAAAAAAgERAAAAAAAAARkAAAAAAAIBDQAAAAAAAgEZAAAAAAAAAS0AAAAAAAABRQAAAAAAAgEtAAAAAAAAASEAAAAAAAIBTQAAAAAAAAEtAAAAAAADAVEAAAAAAAMBSQAAAAAAAAFNAAAAAAAAAU0AAAAAAAABQQAAAAAAAQFRAAAAAAAAAUkAAAAAAAIBUQAAAAAAAQFVAAAAAAABAU0AAAAAAAEBSQAAAAAAAAE5AAAAAAAAAVUAAAAAAAMBQQAAAAAAAAEFAAAAAAABAVkAAAAAAAEBRQAAAAAAAgEtAAAAAAAAASEAAAAAAAIBIQAAAAAAAgFVAAAAAAAAAVEAAAAAAAEBSQAAAAAAAAFRAAAAAAADAU0AAAAAAAEBQQAAAAAAAgEpAAAAAAAAAREAAAAAAAABJQAAAAAAAAEVAAAAAAAAAQkAAAAAAAAA8QAAAAAAAAEFAAAAAAACAQkAAAAAAAIBKQAAAAAAAgEZAAAAAAAAAR0AAAAAAAABNQAAAAAAAAEpA\",\"dtype\":\"float64\",\"order\":\"little\",\"shape\":[93]},\"stat_powerPlayOpportunities\":{\"__ndarray__\":\"AAAAAAAAAAAAAAAAAAAAAAAAAAAAAAAAAAAAAAAAAAAAAAAAAAAAAAAAAAAAAAAAAAAAAAAAAAAAAAAAAAAAAAAAAAAAAAAAAAAAAAAAAAAAAAAAAAAAAAAAAAAAAAAAAAAAAAAAAAAAAAAAAAAAAAAAAAAAAAAAAAAAAAAAAAAAAAAAAAAAAAAAAAAAAAAAAAAAAAAAAAAAAAAAAAAAAAAAAAAAAAAAAAAAAAAAAAAAAAAAAAAAAAAAAAAAAAAAAAAAAAAAAAAAAAAAAAAAAAAAAAAAAAAAAAAAAAAAAAAAAAAAAAAAAAAAAAAAAAAAAAAAAAAAAAAAAAAAAAAAAAAAAAAAAAAAAAAAAAAAAAAAAAAAAAAAAAAAAAAAAAAAAAAAAAAAAAAAAAAAAAAAAAAAAAAAAAAAAAAAAAAAAAAAAAAAAAAAAAAAAAAAAAAAAAAAAAAAAAAAAAAAAAAAAAAAAAAAAAAAAAAAAAAAAAAAAAAAAAAAAAAAAAAAAAAAAAAAAAAAAAAAAAAAAAAAAAAAAAAAAAAAAAAAAADwcEAAAAAAAGBzQAAAAAAAAHNAAAAAAAAgdkAAAAAAACBzQAAAAAAAoHNAAAAAAABwckAAAAAAAMByQAAAAAAAsHZAAAAAAACQd0AAAAAAALB+QAAAAAAAkHxAAAAAAACge0AAAAAAAFB4QAAAAAAAMHhAAAAAAABAekAAAAAAABB6QAAAAAAAAGlAAAAAAADQekAAAAAAAPBxQAAAAAAA8HVAAAAAAADAdUAAAAAAAFB0QAAAAAAAsHZAAAAAAABgdEAAAAAAADB1QAAAAAAAIHRAAAAAAACAe0AAAAAAAGB5QAAAAAAAIHdAAAAAAACgdUAAAAAAANByQAAAAAAAIHJAAAAAAACAcUAAAAAAACBjQAAAAAAAgHBAAAAAAAAAbUAAAAAAAEBsQAAAAAAAIG1AAAAAAAAgbkAAAAAAAGBsQAAAAAAAYGxA\",\"dtype\":\"float64\",\"order\":\"little\",\"shape\":[93]},\"stat_powerPlayPercentage\":[\"0.0\",\"0.0\",\"0.0\",\"0.0\",\"0.0\",\"0.0\",\"0.0\",\"0.0\",\"0.0\",\"0.0\",\"0.0\",\"0.0\",\"0.0\",\"0.0\",\"0.0\",\"0.0\",\"0.0\",\"0.0\",\"0.0\",\"0.0\",\"0.0\",\"0.0\",\"0.0\",\"0.0\",\"0.0\",\"0.0\",\"0.0\",\"0.0\",\"0.0\",\"0.0\",\"0.0\",\"0.0\",\"0.0\",\"0.0\",\"0.0\",\"0.0\",\"0.0\",\"0.0\",\"0.0\",\"0.0\",\"0.0\",\"0.0\",\"0.0\",\"0.0\",\"0.0\",\"0.0\",\"0.0\",\"0.0\",\"0.0\",\"0.0\",\"0.0\",\"28.8\",\"23.9\",\"25.7\",\"17.8\",\"22.2\",\"22.9\",\"25.1\",\"24.0\",\"20.1\",\"19.9\",\"22.6\",\"18.6\",\"23.5\",\"23.6\",\"20.9\",\"18.3\",\"23.0\",\"20.0\",\"19.8\",\"21.9\",\"17.7\",\"20.4\",\"16.9\",\"17.9\",\"14.7\",\"16.2\",\"14.3\",\"18.9\",\"18.5\",\"16.5\",\"13.9\",\"18.3\",\"16.9\",\"15.7\",\"15.7\",\"18.2\",\"16.8\",\"18.6\",\"20.2\",\"21.2\",\"19.4\",\"22.9\"],\"stat_ptPctg\":[\"63.6\",\"53.4\",\"59.1\",\"50.0\",\"53.4\",\"56.3\",\"56.3\",\"52.1\",\"52.1\",\"52.1\",\"49.0\",\"62.5\",\"60.4\",\"66.7\",\"52.1\",\"62.5\",\"30.0\",\"17.0\",\"32.0\",\"35.0\",\"41.7\",\"45.8\",\"39.2\",\"47.9\",\"43.6\",\"42.1\",\"35.7\",\"48.6\",\"37.1\",\"52.9\",\"47.1\",\"55.0\",\"45.7\",\"35.0\",\"38.6\",\"45.7\",\"40.0\",\"38.6\",\"37.1\",\"33.6\",\"51.4\",\"60.8\",\"59.9\",\"60.5\",\"69.9\",\"69.9\",\"65.4\",\"60.3\",\"55.0\",\"41.9\",\"45.0\",\"45.6\",\"56.9\",\"53.8\",\"46.3\",\"57.5\",\"50.0\",\"58.1\",\"38.8\",\"48.8\",\"47.5\",\"51.3\",\"51.3\",\"53.1\",\"53.1\",\"65.6\",\"47.0\",\"66.7\",\"49.0\",\"58.5\",\"52.4\",\"41.5\",\"47.0\",\"44.5\",\"43.9\",\"48.8\",\"47.6\",\"42.1\",\"61.0\",\"57.3\",\"59.1\",\"57.9\",\"53.0\",\"56.7\",\"66.5\",\"58.3\",\"58.5\",\"68.9\",\"61.6\",\"62.2\",\"47.0\",\"47.6\",\"56.4\"],\"stat_pts\":[56,47,52,44,47,54,54,50,50,50,47,60,58,64,50,60,30,17,32,35,50,55,47,67,61,59,50,68,52,74,66,77,64,49,54,64,56,54,52,47,72,90,91,92,109,109,102,94,88,67,72,73,91,86,74,92,80,93,62,78,76,82,82,85,85,105,79,112,47,96,86,68,77,73,72,80,78,69,100,94,97,95,87,93,109,56,96,113,101,102,77,78,79],\"stat_savePctg\":{\"__ndarray__\":\"AAAAAAAAAAAAAAAAAAAAAAAAAAAAAAAAAAAAAAAAAAAAAAAAAAAAAAAAAAAAAAAAAAAAAAAAAAAAAAAAAAAAAAAAAAAAAAAAAAAAAAAAAAAAAAAAAAAAAAAAAAAAAAAAAAAAAAAAAAAAAAAAAAAAAAAAAAAAAAAAAAAAAAAAAAAAAAAAAAAAAAAAAAAAAAAAAAAAAAAAAAAAAAAAAAAAAAAAAAAAAAAAAAAAAAAAAAAAAAAAAAAAAAAAAAAAAAAAAAAAAAAAAAAAAAAAAAAAAAAAAAAAAAAAAAAAAAAAAAAAAAAAAAAAAJzEILByaO0/TDeJQWDl7D/HSzeJQWDtPyGwcmiR7ew/pHA9Ctej7D/2KFyPwvXsP/T91HjpJu0/yXa+nxov7T91kxgEVg7tP3npJjEIrOw/JzEIrBxa7D9zaJHtfD/tP3Noke18P+0/H4XrUbge7T/0/dR46SbtP5zEILByaO0/9ihcj8L17D93vp8aL93sP9Ei2/l+auw/1XjpJjEI7D+sHFpkO9/rP39qvHSTGOw/0SLb+X5q7D8tsp3vp8brP9V46SYxCOw/BoGVQ4ts6z/Xo3A9CtfrPylcj8L1KOw/KVyPwvUo7D+q8dJNYhDsP1K4HoXrUew/K4cW2c736z99PzVeuknsPwAAAAAAAOw/ppvEILBy7D956SYxCKzsP0w3iUFg5ew/UI2XbhKD7D+iRbbz/dTsP8/3U+Olm+w/IbByaJHt7D/0/dR46SbtP83MzMzMzOw/dZMYBFYO7T/4U+Olm8TsP/yp8dJNYuw/okW28/3U7D/2KFyPwvXsP3npJjEIrOw/9P3UeOkm7T9KDAIrhxbtP/T91HjpJu0/nu+nxks37T+e76fGSzftP5zEILByaO0/cT0K16Nw7T9xPQrXo3DtP0a28/3UeO0/8KfGSzeJ7T9zaJHtfD/tP8l2vp8aL+0/SgwCK4cW7T8hsHJoke3sP3WTGARWDu0/\",\"dtype\":\"float64\",\"order\":\"little\",\"shape\":[93]},\"stat_shootingPctg\":{\"__ndarray__\":\"AAAAAAAAHECamZmZmZkXQAAAAAAAABJAmpmZmZmZIUCamZmZmZkdQJqZmZmZGVdAMzMzMzMzIkBmZmZmZmYeQAAAAAAAACNAAAAAAAAAHECamZmZmZkoQDMzMzMzMy9AAAAAAAAAAAAAAAAAAAAAAAAAAAAAAAAAAAAAAAAAAAAAAAAAAAAAAAAAAAAAAAAAAAAAAAAAAAAAAAAAAAAAAAAAAAAAAAAAAAAAAAAAAAAAAAAAAAAAAAAAAAAAAAAAAAAAAAAAAAAAAAAAAAAAAAAAAAAAAAAAAAAAAAAAAAAAAAAAAAAAAM3MzMzMzCZAAAAAAAAAJECamZmZmZkjQAAAAAAAAAAAmpmZmZmZIUAzMzMzMzMjQGZmZmZmZiNAZmZmZmZmJUCamZmZmZkgQM3MzMzMzCFAAAAAAAAAIkAAAAAAAAAhQGZmZmZmZiJAMzMzMzMzIEAAAAAAAAAiQJqZmZmZmSJAmpmZmZmZJkAAAAAAAAAmQDMzMzMzMydAmpmZmZmZJ0DNzMzMzMwjQJqZmZmZmSNAzczMzMzMKECamZmZmZkpQM3MzMzMzClAZmZmZmZmKUCamZmZmZkrQM3MzMzMzCpAmpmZmZmZKEDNzMzMzMwoQAAAAAAAACZAzczMzMzMKECamZmZmZknQM3MzMzMzCZAZmZmZmZmJ0BmZmZmZmYoQGZmZmZmZihAzczMzMzMJUDNzMzMzMwkQDMzMzMzMyJAZmZmZmZmJEBmZmZmZmYkQAAAAAAAACNAzczMzMzMJEAAAAAAAAAiQGZmZmZmZiVAAAAAAAAAI0AAAAAAAAAhQAAAAAAAACFAZmZmZmZmJEAAAAAAAAAiQJqZmZmZmR9AAAAAAAAAHkAAAAAAAAAiQDMzMzMzMyJAAAAAAAAAI0AAAAAAAAAhQJqZmZmZmR9AMzMzMzMzI0AAAAAAAAAkQM3MzMzMzCRAAAAAAAAAIkBmZmZmZmYiQGZmZmZmZiVA\",\"dtype\":\"float64\",\"order\":\"little\",\"shape\":[93]},\"stat_shotsAllowed\":{\"__ndarray__\":\"AAAAAAAAAAAAAAAAAAAAAAAAAAAAAAAAAAAAAAAAAAAAAAAAAAAAAAAAAAAAAAAAAAAAAAAAAAAAAAAAAAAAAAAAAAAAAAAAAAAAAAAAAAAAAAAAAAAAAAAAAAAAAAAAAAAAAAAAAAAAAAAAAAAAAAAAAAAAAAAAAAAAAAAAAAAAAAAAAAAAAAAAAAAAAAAAAAAAAAAAAAAAAAAAAAAAAAAAAAAAAAAAAAAAAAAAAAAAAAAAAAAAAAAAAAAAAAAAAAAAAAAAAAAAAAAAAAAAAAAAAAAAAAAAAAAAAAAAAAAAAAAAAAAAAAHeAgmK70FANBE2PL2iQECamZmZmVlAQAAAAAAAAAAAZvfkYaHOQEBlGeJYF59CQDQRNjy9okBAzqrP1Vb8QkAyVTAqqcNCQGaIY13c9kBAmEwVjEpSQEBkzF1LyFc/QCBj7lpCvjxABcWPMXfNPECHp1fKMhQ8QIhjXdxGAzxAlkOLbOfbOUBqvHSTGCQ7QNxoAG+BtDxAzczMzMzcO0AAAAAAABhAQM3MzMzMzD9AAAAAAABgP0AAAAAAAMA7QAAAAAAAsDxAZmZmZmbGO0AzMzMzM3M9QM3MzMzMzD1AzczMzMyMP0BmZmZmZo5BQJqZmZmZ+T1AZmZmZmb2P0CamZmZmXk+QGZmZmZmtj5AmpmZmZkJPkAAAAAAAOA/QJqZmZmZyT9AZohjXdzWQEBmiGNd3LY7QAAAAAAAUDpAf2q8dJMoPkBWDi2ynY8/QJoIG55eCTxAGXPXEvIxPkCjkjoBTdQ9QBDpt68DZz9AzO7Jw0LtP0ASFD/G3JU9QNV46SYxOD1Ab4EExY/BPEAQ6bevA2c8QBDpt68D5zlAXW3F/rKrPUBU46WbxOA9QDLmriXkYz1AxY8xdy3RO0AAAAAAADA8QO7rwDkjaj1AIv32deB8PUDu68A5I2o+QFYOLbKdDz5AwcqhRbarQUBSSZ2AJupAQJkqGJXUAUFA\",\"dtype\":\"float64\",\"order\":\"little\",\"shape\":[93]},\"stat_shotsPerGame\":{\"__ndarray__\":\"AAAAAAAAAAAAAAAAAAAAAAAAAAAAAAAAAAAAAAAAAAAAAAAAAAAAAAAAAAAAAAAAAAAAAAAAAAAAAAAAAAAAAAAAAAAAAAAAAAAAAAAAAAAAAAAAAAAAAAAAAAAAAAAAAAAAAAAAAAAAAAAAAAAAAAAAAAAAAAAAAAAAAAAAAAAAAAAAAAAAAAAAAAAAAAAAAAAAAAAAAAAAAAAAAAAAAAAAAAAAAAAAAAAAAAAAAAAAAAAAAAAAAAAAAAAAAAAAAAAAAAAAAAAAAAAAAAAAAAAAAAAAAAAAAAAAAAAAAAAAAAAAAAAAADXvOEVHkjlANBE2PL1iOkBkzF1LyFc8QAAAAAAAAAAAAAAAAACAPkA0ETY8vWI+QM3MzMzMzDxANs07TtFBPEDPZtXnats/QJwzorQ3qDxAZmZmZmbmPkD+ZffkYXE/QGTMXUvIp0BAfh04Z0S5QkC/DpwzovxBQN/gC5Op6kFAsHJoke0EQkDpSC7/IU1BQHGsi9tokEBAZmZmZmb2QEAAAAAAAIBAQM3MzMzMVEFAMzMzMzMjPEAzMzMzM+M+QJqZmZmZyT1AzczMzMy8PkAAAAAAAJA8QGZmZmZmhjxAMzMzMzPjP0DNzMzMzMw9QDMzMzMz0z9AZmZmZmbmPkAzMzMzM8M/QJqZmZmZAUFAAAAAAADQPUDNzMzMzIw+QM3MzMzMdEBARGlv8IWhQEBmiGNd3BZBQEI+6Nms2j9Amggbnl5JQECjkjoBTdQ+QOeMKO0NTjlAzO7Jw0JtOUBm9+RhoXY9QPAWSFD8mDxAXW3F/rIrPUBWDi2ynQ8+QGb35GGhdj1AX5hMFYzaPUCaCBueXok/QIj029eBcz9A93XgnBE1QEA0ETY8vZI9QO7rwDkj6j1A3gIJih+DPEC+wRcmU+U+QD81XrpJlEBAIv32deB8P0Ai/fZ14Hw8QLN78rBQuz1AiPTb14HzPkA7cM6I0i49QDXvOEVHEj9A\",\"dtype\":\"float64\",\"order\":\"little\",\"shape\":[93]},\"stat_winLeadFirstPer\":{\"__ndarray__\":\"arx0kxgE7j8AAAAAAADsPw4tsp3vp+o/8tJNYhBY7T/wp8ZLN4ntP83MzMzMzOw/WDm0yHa+6z8OLbKd76fqP/Cnxks3ie0/mpmZmZmZ6T8AAAAAAADwP6RwPQrXo+w/8KfGSzeJ7T9CYOXQItvtPwAAAAAAAOg/9P3UeOkm6T/y0k1iEFjlP/LSTWIQWOU/AAAAAAAA4D91kxgEVg7hP1pkO99PjeM/z/dT46Wb6D+0yHa+nxrnPycxCKwcWuQ/tMh2vp8a5z8nMQisHFrkP99PjZduEus/Di2yne+n6j/dJAaBlUPnP0Jg5dAi2+k/ppvEILBy7D+R7Xw/NV7qPzMzMzMzM+s/8tJNYhBY5T++nxov3STmPwwCK4cW2eY/tMh2vp8a5z/NzMzMzMzsP23n+6nx0uU/8tJNYhBY5T8v3SQGgZXnP1K4HoXrUew/Di2yne+n7j8UrkfhehTqP05iEFg5tOw/AAAAAAAA8D8AAAAAAADsPxSuR+F6FOY/BoGVQ4ts6z/y0k1iEFjpP6RwPQrXo+w/QmDl0CLb6T+amZmZmZnpP0w3iUFg5eg/kxgEVg4t6j/y0k1iEFjtP90kBoGVQ+s/5dAi2/l+6j+6SQwCK4fmP30/NV66Seg/ZmZmZmZm5j/l0CLb+X7qP0Jg5dAi2+k/KVyPwvUo5D8nMQisHFrkP1yPwvUoXOc/exSuR+F65D9KDAIrhxbpP/p+arx0k+Q/3SQGgZVD6z/b+X5qvHTnPxBYObTIdt4/exSuR+F65D9t5/up8dLlP3sUrkfheuQ//Knx0k1i6D8zMzMzMzPjPw4tsp3vp+Y/ukkMAiuH6j+kcD0K16PkP6jGSzeJQeg/sHJoke184z++nxov3STmP9nO91Pjpec/TDeJQWDl6D/ufD81XrrtP8/3U+Olm+g/sp3vp8ZL6z+YbhKDwMrpP4PAyqFFtuc/AAAAAAAA5D+iRbbz/dTgP4PAyqFFtuc/\",\"dtype\":\"float64\",\"order\":\"little\",\"shape\":[93]},\"stat_winLeadSecondPer\":{\"__ndarray__\":\"j8L1KFyP7j9CYOXQItvtP/Cnxks3ie0/arx0kxgE7j+mm8QgsHLsP+f7qfHSTe4/zczMzMzM7D+kcD0K16PsPwAAAAAAAPA/AAAAAAAA8D/fT42XbhLrP6abxCCwcuw/AAAAAAAA8D8QWDm0yHbuP2ZmZmZmZuY/ZmZmZmZm7j8GgZVDi2zrPwAAAAAAAPA/mpmZmZmZ6T8OLbKd76fqP83MzMzMzOw/pHA9Ctej7D+kcD0K16PsPwAAAAAAAPA/BoGVQ4ts6z/2KFyPwvXsP0Jg5dAi2+0/KVyPwvUo7D8AAAAAAADwPwAAAAAAAPA/pHA9Ctej7D+kcD0K16PsP9ejcD0K1+s/ZmZmZmZm5j8AAAAAAADoP2q8dJMYBO4/7FG4HoXr6T/pJjEIrBzuP6abxCCwcuw/ke18PzVe6j8AAAAAAADwP2q8dJMYBO4/arx0kxgE7j9vEoPAyqHtP4lBYOXQIu8/ObTIdr6f7j8QWDm0yHbuPwAAAAAAAPA/tvP91Hjp7j9MN4lBYOXsPzm0yHa+n+4/BoGVQ4ts6z8/NV66SQzuP1pkO99Pjes/L90kBoGV6z+LbOf7qfHuPwwCK4cW2e4/NV66SQwC7z9YObTIdr7nP8HKoUW28+k/DAIrhxbZ5j/8qfHSTWLoPxKDwMqhReo/qMZLN4lB6D956SYxCKzoPw4tsp3vp+o/+FPjpZvE6D9KDAIrhxbtP2q8dJMYBO4/aJHtfD817j8GgZVDi2zrPwAAAAAAAOQ/AAAAAAAA6D99PzVeuknoPzVeukkMAus/8KfGSzeJ7T/Xo3A9CtfrP/T91HjpJuk/sp3vp8ZL6z956SYxCKzoP6wcWmQ73+s/NV66SQwC6z+LbOf7qfHqPwAAAAAAAPA/SgwCK4cW7T8AAAAAAADwP0w3iUFg5ew/iUFg5dAi7z8AAAAAAADsP6wcWmQ73+s/ObTIdr6f7j+0yHa+nxrnP6abxCCwcuw/\",\"dtype\":\"float64\",\"order\":\"little\",\"shape\":[93]},\"stat_winOppScoreFirst\":{\"__ndarray__\":\"mpmZmZmZyT/jpZvEILDSP57vp8ZLN9E/0SLb+X5qvD/TTWIQWDnEPxKDwMqhRcY/EFg5tMh2zj+cxCCwcmjBP+f7qfHSTdI/IbByaJHtzD/jpZvEILDSP5qZmZmZmck/HVpkO99P1T9mZmZmZmbWPwAAAAAAANA/AAAAAAAA4D+q8dJNYhC4P2q8dJMYBLY/N4lBYOXQwj8Sg8DKoUW2P5qZmZmZmck/SOF6FK5H0T/0/dR46SaxP1CNl24Sg8A/yXa+nxovrT8v3SQGgZXTPxBYObTIdr4/iUFg5dAiyz/ZzvdT46W7P9V46SYxCMw/mpmZmZmZuT8dWmQ730/VPyGwcmiR7cw/CKwcWmQ7vz/FILByaJHNP7TIdr6fGs8/iUFg5dAiyz/RItv5fmrMPzeJQWDl0MI/x0s3iUFgxT8dWmQ730/NPzeJQWDl0NI/WDm0yHa+1z/n+6nx0k3SP/hT46WbxNg/i2zn+6nx0j9oke18PzXeP7Kd76fGS9c/okW28/3U0D8X2c73U+PFP1yPwvUoXM8/tvP91Hjpxj/8qfHSTWLYP5qZmZmZmdk/xSCwcmiRzT+iRbbz/dTQPxKDwMqhRcY/i2zn+6nx2j8AAAAAAADQPx1aZDvfT9U/mpmZmZmZyT9KDAIrhxbRPzMzMzMzM9M/5dAi2/l+0j8/NV66SQzSPzvfT42XbuI/PQrXo3A9yj+28/3UeOnePx1aZDvfT9U/xSCwcmiRzT9KDAIrhxbRPzm0yHa+n8o/O99PjZdu0j8tsp3vp8bLP8dLN4lBYMU/KVyPwvUozD8zMzMzMzPTP8dLN4lBYMU/f2q8dJMY1D8j2/l+arzUP+f7qfHSTdI/AAAAAAAA2D8OLbKd76fWP/YoXI/C9dg/PQrXo3A92j+LbOf7qfHSPycxCKwcWtQ/AAAAAAAA2D8dWmQ730/VP7TIdr6fGt8/LbKd76fGyz9iEFg5tMjWP5qZmZmZmdk/\",\"dtype\":\"float64\",\"order\":\"little\",\"shape\":[93]},\"stat_winOutshootOpp\":{\"__ndarray__\":\"AAAAAAAAAAAAAAAAAAAAAAAAAAAAAAAAAAAAAAAAAAAAAAAAAAAAAAAAAAAAAAAAAAAAAAAAAAAAAAAAAAAAAAAAAAAAAAAAAAAAAAAAAAAAAAAAAAAAAAAAAAAAAAAAAAAAAAAAAAAAAAAAAAAAAAAAAAAAAAAAAAAAAAAAAAAAAAAAAAAAAAAAAAAAAAAAAAAAAAAAAAAAAAAAAAAAAAAAAAAAAAAAAAAAAAAAAAAAAAAAAAAAAAAAAAAAAAAAAAAAAAAAAAAAAAAAAAAAAAAAAAAAAAAAAAAAAAAAAAAAAAAAAAAAAGZmZmZmZuY/MzMzMzMz4z9kO99PjZfmPwAAAAAAAAAAHVpkO99P1T+uR+F6FK7jPwAAAAAAAOg/AAAAAAAA6D8AAAAAAADYPwAAAAAAAOA/mpmZmZmZ2T8QWDm0yHbiPwaBlUOLbOc/okW28/3U6D8MAiuHFtnmP/hT46WbxOg/oBov3SQG6T/jpZvEILDmPwRWDi2ynec/okW28/3U5D+iRbbz/dTgPz81XrpJDOI/DAIrhxbZ5j8zMzMzMzPnP7TIdr6fGuc/okW28/3U4D+6SQwCK4fmP2Q730+Nl+I/mpmZmZmZ5T8QWDm0yHbePx+F61G4HuE/5dAi2/l+2j+YbhKDwMrhP4/C9Shcj9o/PQrXo3A92j9vEoPAyqHlP8/3U+Olm+Q/IbByaJHt3D+mm8QgsHLkPwAAAAAAAOA/w/UoXI/C3T+kcD0K16PYP5ZDi2zn+9E/HVpkO99P3T/+1HjpJjHYP6jGSzeJQdg/c2iR7Xw/3T9mZmZmZmbWP30/NV66SdQ//Knx0k1i4D9qvHSTGATePwAAAAAAAOA/wcqhRbbz3T/P91PjpZvcPwAAAAAAAOA/bef7qfHS5T+YbhKDwMrhP8l2vp8aL+E/AAAAAAAA5D+YbhKDwMrhP28Sg8DKod0/mpmZmZmZ2T/FILByaJHdP9Ei2/l+atw/\",\"dtype\":\"float64\",\"order\":\"little\",\"shape\":[93]},\"stat_winOutshotByOpp\":{\"__ndarray__\":\"AAAAAAAAAAAAAAAAAAAAAAAAAAAAAAAAAAAAAAAAAAAAAAAAAAAAAAAAAAAAAAAAAAAAAAAAAAAAAAAAAAAAAAAAAAAAAAAAAAAAAAAAAAAAAAAAAAAAAAAAAAAAAAAAAAAAAAAAAAAAAAAAAAAAAAAAAAAAAAAAAAAAAAAAAAAAAAAAAAAAAAAAAAAAAAAAAAAAAAAAAAAAAAAAAAAAAAAAAAAAAAAAAAAAAAAAAAAAAAAAAAAAAAAAAAAAAAAAAAAAAAAAAAAAAAAAAAAAAAAAAAAAAAAAAAAAAAAAAAAAAAAAAAAAAFyPwvUoXN8/2c73U+Ol2z/HSzeJQWDdPwAAAAAAAAAA9ihcj8L10D/l0CLb+X7SP2ZmZmZmZtY/IbByaJHt1D8dWmQ730/VPzMzMzMzM9M/HVpkO99PzT8ZBFYOLbLdP76fGi/dJN4/qvHSTWIQyD8zMzMzMzPTPxKDwMqhReI/AAAAAAAA4D8Sg8DKoUXiP2ZmZmZmZtY/sp3vp8ZL1z+WQ4ts5/vRP+xRuB6F69E/gZVDi2zn0z8pXI/C9SjcP0SLbOf7qdE/DAIrhxbZ1j8AAAAAAADgP4ts5/up8do/F9nO91Pj3T/b+X5qvHTTP4PAyqFFtts/+FPjpZvE4D+WQ4ts5/vRP/LSTWIQWOE/x0s3iUFg3T8zMzMzMzPTPzEIrBxaZOM/BoGVQ4ts1z+28/3UeOniP7Kd76fGS9c/IbByaJHt4D8fhetRuB7hP9Ei2/l+atQ/sp3vp8ZL1z/ByqFFtvPVP5qZmZmZmdk/3SQGgZVD2z/b+X5qvHTbPxfZzvdT49U/GQRWDi2y4T81XrpJDALjPwAAAAAAAOA/NV66SQwC4z9vEoPAyqHdPy2yne+nxuM/mG4Sg8DK4T/4U+Olm8TgP7bz/dR46eI/y6FFtvP95D9xPQrXo3DhP2ZmZmZmZuY/4XoUrkfh2j8MAiuHFtnWP7gehetRuOI/\",\"dtype\":\"float64\",\"order\":\"little\",\"shape\":[93]},\"stat_winScoreFirst\":{\"__ndarray__\":\"AAAAAAAA7D8zMzMzMzPjP0w3iUFg5eg/EFg5tMh24j97FK5H4XrkP1K4HoXrUeg/8tJNYhBY5T++nxov3STmP2ZmZmZmZuY/ZDvfT42X5j8AAAAAAADgP90kBoGVQ+c/ukkMAiuH5j8MAiuHFtnmPxKDwMqhReI/Di2yne+n5j/RItv5fmrcP5qZmZmZmck/AAAAAAAA2D8/NV66SQzaP3WTGARWDuE/ZDvfT42X3j91kxgEVg7hP65H4XoUruM/ppvEILBy4D9kO99PjZfWP9v5fmq8dNs/CtejcD0K4z+e76fGSzfZP3WTGARWDuU/ZmZmZmZm4j+TGARWDi3iP166SQwCK98/5dAi2/l+2j83iUFg5dDaP3sUrkfheuA/7FG4HoXr2T+4HoXrUbjeP+Olm8QgsNo/9P3UeOkm2T9U46WbxCDkPzMzMzMzM+c/QmDl0CLb5T9CYOXQItvlP8l2vp8aL+k/SgwCK4cW6T8MAiuHFtnmP4GVQ4ts5+M/+n5qvHST5D8/NV66SQziP/Cnxks3ieE/wcqhRbbz4T/TTWIQWDnkP5qZmZmZmeE//Knx0k1i4D8UrkfhehTmP5zEILByaOk/AiuHFtnO4z/VeOkmMQjcP7pJDAIrh+I/DAIrhxbZ5j/sUbgehevhPwAAAAAAAOQ/CtejcD0K4z+F61G4HoXjPx+F61G4HuU/AAAAAAAA5D/pJjEIrBzmPw4tsp3vp+I/AiuHFtnO5z/l0CLb+X7mP9NNYhBYOdw/MzMzMzMz4z9MN4lBYOXgP83MzMzMzOQ/y6FFtvP96D8QWDm0yHbePwAAAAAAAOA/EFg5tMh25j/y0k1iEFjlP5huEoPAyuU/8tJNYhBY5T8tsp3vp8bjP0Jg5dAi2+U/PzVeukkM6j8GgZVDi2zrP+kmMQisHOo/PQrXo3A96j8lBoGVQ4voP/LSTWIQWOU/8tJNYhBY5T/ZzvdT46XbPwAAAAAAAOQ/\",\"dtype\":\"float64\",\"order\":\"little\",\"shape\":[93]},\"stat_wins\":[25,19,21,17,19,23,23,21,22,19,19,27,26,27,21,29,11,6,11,13,22,21,18,28,20,23,17,29,17,32,26,32,26,17,22,26,22,22,20,18,30,39,41,38,49,48,47,40,37,29,29,30,40,38,30,39,35,42,26,36,34,36,37,36,36,50,34,52,22,41,38,25,33,29,33,36,32,27,44,42,42,43,38,44,51,26,45,53,46,48,34,32,37],\"team_id\":[3,3,3,3,3,3,3,3,3,3,3,3,3,3,3,3,3,3,3,3,3,3,3,3,3,3,3,3,3,3,3,3,3,3,3,3,3,3,3,3,3,3,3,3,3,3,3,3,3,3,3,3,3,3,3,3,3,3,3,3,3,3,3,3,3,3,3,3,3,3,3,3,3,3,3,3,3,3,3,3,3,3,3,3,3,3,3,3,3,3,3,3,3],\"team_link\":[\"/api/v1/teams/3\",\"/api/v1/teams/3\",\"/api/v1/teams/3\",\"/api/v1/teams/3\",\"/api/v1/teams/3\",\"/api/v1/teams/3\",\"/api/v1/teams/3\",\"/api/v1/teams/3\",\"/api/v1/teams/3\",\"/api/v1/teams/3\",\"/api/v1/teams/3\",\"/api/v1/teams/3\",\"/api/v1/teams/3\",\"/api/v1/teams/3\",\"/api/v1/teams/3\",\"/api/v1/teams/3\",\"/api/v1/teams/3\",\"/api/v1/teams/3\",\"/api/v1/teams/3\",\"/api/v1/teams/3\",\"/api/v1/teams/3\",\"/api/v1/teams/3\",\"/api/v1/teams/3\",\"/api/v1/teams/3\",\"/api/v1/teams/3\",\"/api/v1/teams/3\",\"/api/v1/teams/3\",\"/api/v1/teams/3\",\"/api/v1/teams/3\",\"/api/v1/teams/3\",\"/api/v1/teams/3\",\"/api/v1/teams/3\",\"/api/v1/teams/3\",\"/api/v1/teams/3\",\"/api/v1/teams/3\",\"/api/v1/teams/3\",\"/api/v1/teams/3\",\"/api/v1/teams/3\",\"/api/v1/teams/3\",\"/api/v1/teams/3\",\"/api/v1/teams/3\",\"/api/v1/teams/3\",\"/api/v1/teams/3\",\"/api/v1/teams/3\",\"/api/v1/teams/3\",\"/api/v1/teams/3\",\"/api/v1/teams/3\",\"/api/v1/teams/3\",\"/api/v1/teams/3\",\"/api/v1/teams/3\",\"/api/v1/teams/3\",\"/api/v1/teams/3\",\"/api/v1/teams/3\",\"/api/v1/teams/3\",\"/api/v1/teams/3\",\"/api/v1/teams/3\",\"/api/v1/teams/3\",\"/api/v1/teams/3\",\"/api/v1/teams/3\",\"/api/v1/teams/3\",\"/api/v1/teams/3\",\"/api/v1/teams/3\",\"/api/v1/teams/3\",\"/api/v1/teams/3\",\"/api/v1/teams/3\",\"/api/v1/teams/3\",\"/api/v1/teams/3\",\"/api/v1/teams/3\",\"/api/v1/teams/3\",\"/api/v1/teams/3\",\"/api/v1/teams/3\",\"/api/v1/teams/3\",\"/api/v1/teams/3\",\"/api/v1/teams/3\",\"/api/v1/teams/3\",\"/api/v1/teams/3\",\"/api/v1/teams/3\",\"/api/v1/teams/3\",\"/api/v1/teams/3\",\"/api/v1/teams/3\",\"/api/v1/teams/3\",\"/api/v1/teams/3\",\"/api/v1/teams/3\",\"/api/v1/teams/3\",\"/api/v1/teams/3\",\"/api/v1/teams/3\",\"/api/v1/teams/3\",\"/api/v1/teams/3\",\"/api/v1/teams/3\",\"/api/v1/teams/3\",\"/api/v1/teams/3\",\"/api/v1/teams/3\",\"/api/v1/teams/3\"],\"team_name\":[\"New York Rangers\",\"New York Rangers\",\"New York Rangers\",\"New York Rangers\",\"New York Rangers\",\"New York Rangers\",\"New York Rangers\",\"New York Rangers\",\"New York Rangers\",\"New York Rangers\",\"New York Rangers\",\"New York Rangers\",\"New York Rangers\",\"New York Rangers\",\"New York Rangers\",\"New York Rangers\",\"New York Rangers\",\"New York Rangers\",\"New York Rangers\",\"New York Rangers\",\"New York Rangers\",\"New York Rangers\",\"New York Rangers\",\"New York Rangers\",\"New York Rangers\",\"New York Rangers\",\"New York Rangers\",\"New York Rangers\",\"New York Rangers\",\"New York Rangers\",\"New York Rangers\",\"New York Rangers\",\"New York Rangers\",\"New York Rangers\",\"New York Rangers\",\"New York Rangers\",\"New York Rangers\",\"New York Rangers\",\"New York Rangers\",\"New York Rangers\",\"New York Rangers\",\"New York Rangers\",\"New York Rangers\",\"New York Rangers\",\"New York Rangers\",\"New York Rangers\",\"New York Rangers\",\"New York Rangers\",\"New York Rangers\",\"New York Rangers\",\"New York Rangers\",\"New York Rangers\",\"New York Rangers\",\"New York Rangers\",\"New York Rangers\",\"New York Rangers\",\"New York Rangers\",\"New York Rangers\",\"New York Rangers\",\"New York Rangers\",\"New York Rangers\",\"New York Rangers\",\"New York Rangers\",\"New York Rangers\",\"New York Rangers\",\"New York Rangers\",\"New York Rangers\",\"New York Rangers\",\"New York Rangers\",\"New York Rangers\",\"New York Rangers\",\"New York Rangers\",\"New York Rangers\",\"New York Rangers\",\"New York Rangers\",\"New York Rangers\",\"New York Rangers\",\"New York Rangers\",\"New York Rangers\",\"New York Rangers\",\"New York Rangers\",\"New York Rangers\",\"New York Rangers\",\"New York Rangers\",\"New York Rangers\",\"New York Rangers\",\"New York Rangers\",\"New York Rangers\",\"New York Rangers\",\"New York Rangers\",\"New York Rangers\",\"New York Rangers\",\"New York Rangers\"]},\"selected\":{\"id\":\"5760\"},\"selection_policy\":{\"id\":\"5759\"}},\"id\":\"5553\",\"type\":\"ColumnDataSource\"},{\"attributes\":{},\"id\":\"6704\",\"type\":\"LinearScale\"},{\"attributes\":{},\"id\":\"6700\",\"type\":\"DataRange1d\"},{\"attributes\":{\"axis\":{\"id\":\"6706\"},\"dimension\":1,\"ticker\":null},\"id\":\"6709\",\"type\":\"Grid\"},{\"attributes\":{\"text\":\"Rangers Points by Season\"},\"id\":\"6696\",\"type\":\"Title\"},{\"attributes\":{\"source\":{\"id\":\"5553\"}},\"id\":\"6735\",\"type\":\"CDSView\"},{\"attributes\":{\"active_drag\":\"auto\",\"active_inspect\":\"auto\",\"active_multi\":null,\"active_scroll\":\"auto\",\"active_tap\":\"auto\",\"tools\":[{\"id\":\"6710\"},{\"id\":\"6711\"},{\"id\":\"6712\"},{\"id\":\"6713\"},{\"id\":\"6714\"},{\"id\":\"6715\"},{\"id\":\"6736\"}]},\"id\":\"6717\",\"type\":\"Toolbar\"},{\"attributes\":{},\"id\":\"6698\",\"type\":\"DataRange1d\"},{\"attributes\":{},\"id\":\"6729\",\"type\":\"Range1d\"},{\"attributes\":{\"line_color\":\"green\",\"line_width\":2,\"x\":{\"field\":\"season_stop\"},\"y\":{\"field\":\"stat_winScoreFirst\"}},\"id\":\"6732\",\"type\":\"Line\"},{\"attributes\":{\"callback\":null,\"tooltips\":[[\"Year\",\"@season_stop\"],[\"% Win Score First\",\"@stat_winScoreFirst\"],[\"Wins\",\"@stat_wins\"]]},\"id\":\"6736\",\"type\":\"HoverTool\"},{\"attributes\":{\"line_alpha\":0.1,\"line_color\":\"green\",\"line_width\":2,\"x\":{\"field\":\"season_stop\"},\"y\":{\"field\":\"stat_winScoreFirst\"}},\"id\":\"6733\",\"type\":\"Line\"},{\"attributes\":{\"bottom_units\":\"screen\",\"fill_alpha\":0.5,\"fill_color\":\"lightgrey\",\"left_units\":\"screen\",\"level\":\"overlay\",\"line_alpha\":1.0,\"line_color\":\"black\",\"line_dash\":[4,4],\"line_width\":2,\"right_units\":\"screen\",\"top_units\":\"screen\"},\"id\":\"6716\",\"type\":\"BoxAnnotation\"},{\"attributes\":{\"overlay\":{\"id\":\"6716\"}},\"id\":\"6712\",\"type\":\"BoxZoomTool\"},{\"attributes\":{\"line_alpha\":0.1,\"line_color\":\"firebrick\",\"line_dash\":[6],\"line_width\":4,\"x\":{\"field\":\"season_stop\"},\"y\":{\"field\":\"stat_wins\"}},\"id\":\"6726\",\"type\":\"Line\"},{\"attributes\":{\"interval\":10},\"id\":\"6737\",\"type\":\"SingleIntervalTicker\"},{\"attributes\":{},\"id\":\"6711\",\"type\":\"WheelZoomTool\"},{\"attributes\":{},\"id\":\"6707\",\"type\":\"BasicTicker\"},{\"attributes\":{},\"id\":\"6713\",\"type\":\"SaveTool\"},{\"attributes\":{\"formatter\":{\"id\":\"6961\"},\"minor_tick_line_color\":null,\"ticker\":{\"id\":\"6707\"}},\"id\":\"6706\",\"type\":\"LinearAxis\"},{\"attributes\":{},\"id\":\"6715\",\"type\":\"HelpTool\"},{\"attributes\":{},\"id\":\"5759\",\"type\":\"UnionRenderers\"},{\"attributes\":{\"line_color\":\"firebrick\",\"line_dash\":[6],\"line_width\":4,\"x\":{\"field\":\"season_stop\"},\"y\":{\"field\":\"stat_wins\"}},\"id\":\"6725\",\"type\":\"Line\"},{\"attributes\":{\"data_source\":{\"id\":\"5553\"},\"glyph\":{\"id\":\"6725\"},\"hover_glyph\":null,\"muted_glyph\":null,\"nonselection_glyph\":{\"id\":\"6726\"},\"selection_glyph\":null,\"view\":{\"id\":\"6728\"}},\"id\":\"6727\",\"type\":\"GlyphRenderer\"},{\"attributes\":{\"formatter\":{\"id\":\"6958\"},\"ticker\":{\"id\":\"6957\"},\"y_range_name\":\"percent\"},\"id\":\"6730\",\"type\":\"LinearAxis\"}],\"root_ids\":[\"6695\"]},\"title\":\"Bokeh Application\",\"version\":\"2.2.3\"}};\n",
       "  var render_items = [{\"docid\":\"90a13bc6-7b05-4547-a333-46f29aa11f7b\",\"root_ids\":[\"6695\"],\"roots\":{\"6695\":\"de9edc19-d231-4805-980d-1745c41cf1df\"}}];\n",
       "  root.Bokeh.embed.embed_items_notebook(docs_json, render_items);\n",
       "\n",
       "  }\n",
       "  if (root.Bokeh !== undefined) {\n",
       "    embed_document(root);\n",
       "  } else {\n",
       "    var attempts = 0;\n",
       "    var timer = setInterval(function(root) {\n",
       "      if (root.Bokeh !== undefined) {\n",
       "        clearInterval(timer);\n",
       "        embed_document(root);\n",
       "      } else {\n",
       "        attempts++;\n",
       "        if (attempts > 100) {\n",
       "          clearInterval(timer);\n",
       "          console.log(\"Bokeh: ERROR: Unable to run BokehJS code because BokehJS library is missing\");\n",
       "        }\n",
       "      }\n",
       "    }, 10, root)\n",
       "  }\n",
       "})(window);"
      ],
      "application/vnd.bokehjs_exec.v0+json": ""
     },
     "metadata": {
      "application/vnd.bokehjs_exec.v0+json": {
       "id": "6695"
      }
     },
     "output_type": "display_data"
    }
   ],
   "source": [
    "p = figure(plot_width=400, plot_height=400, \n",
    "           x_axis_type=None, title = \"Rangers Points by Season\")\n",
    "\n",
    "\n",
    "p.line(x = \"season_stop\", y = \"stat_wins\", source = source, line_color = \"firebrick\",\n",
    "      line_width = 4, line_dash = \"dashed\")\n",
    "p.yaxis.minor_tick_line_color = None\n",
    "\n",
    "# Setting the second y axis range name and range\n",
    "p.extra_y_ranges = {\"percent\": Range1d(start=0, end=1)}\n",
    "\n",
    "# Adding the second axis to the plot.  \n",
    "p.add_layout(LinearAxis(y_range_name=\"percent\"), 'right')\n",
    "\n",
    "p.line(x = \"season_stop\", y = \"stat_winScoreFirst\", source = source, \n",
    "       line_width = 2, line_color = \"green\",\n",
    "      y_range_name = \"percent\")\n",
    "\n",
    "hover = HoverTool()\n",
    "hover.tooltips=[\n",
    "    (\"Year\",\"@season_stop\"),\n",
    "    ('% Win Score First', \"@stat_winScoreFirst\"),\n",
    "    ('Wins', '@stat_wins')\n",
    "\n",
    "]\n",
    "\n",
    "ticker = SingleIntervalTicker(interval=10)\n",
    "xaxis = LinearAxis(ticker=ticker)\n",
    "p.add_layout(xaxis, 'below')\n",
    "\n",
    "p.add_tools(hover)\n",
    "\n",
    "show(p)"
   ]
  },
  {
   "cell_type": "code",
   "execution_count": 161,
   "metadata": {},
   "outputs": [
    {
     "data": {
      "text/plain": [
       "0     0.938\n",
       "1     0.875\n",
       "2     0.833\n",
       "3     0.917\n",
       "4     0.923\n",
       "      ...  \n",
       "88    0.806\n",
       "89    0.741\n",
       "90    0.625\n",
       "91    0.526\n",
       "92    0.741\n",
       "Name: stat_winLeadFirstPer, Length: 93, dtype: float64"
      ]
     },
     "execution_count": 161,
     "metadata": {},
     "output_type": "execute_result"
    }
   ],
   "source": [
    "df_rangers.stat_winLeadFirstPer"
   ]
  }
 ],
 "metadata": {
  "kernelspec": {
   "display_name": "Python 3",
   "language": "python",
   "name": "python3"
  },
  "language_info": {
   "codemirror_mode": {
    "name": "ipython",
    "version": 3
   },
   "file_extension": ".py",
   "mimetype": "text/x-python",
   "name": "python",
   "nbconvert_exporter": "python",
   "pygments_lexer": "ipython3",
   "version": "3.8.3"
  }
 },
 "nbformat": 4,
 "nbformat_minor": 4
}
